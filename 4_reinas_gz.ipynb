{
  "nbformat": 4,
  "nbformat_minor": 0,
  "metadata": {
    "colab": {
      "name": "4_reinas_gz.ipynb",
      "provenance": [],
      "collapsed_sections": [],
      "authorship_tag": "ABX9TyPTLEe/VaZ+kgbRwA5I47V8",
      "include_colab_link": true
    },
    "kernelspec": {
      "name": "python3",
      "display_name": "Python 3"
    }
  },
  "cells": [
    {
      "cell_type": "markdown",
      "metadata": {
        "id": "view-in-github",
        "colab_type": "text"
      },
      "source": [
        "<a href=\"https://colab.research.google.com/github/gzanellato-ia/03-MAIR-GZ-publico/blob/master/4_reinas_gz.ipynb\" target=\"_parent\"><img src=\"https://colab.research.google.com/assets/colab-badge.svg\" alt=\"Open In Colab\"/></a>"
      ]
    },
    {
      "cell_type": "markdown",
      "metadata": {
        "id": "Idtwb0ZzWUin",
        "colab_type": "text"
      },
      "source": [
        "## Algoritmo para resolver el problema de las 4-Reinas\n",
        "\n",
        "Referencias:\n",
        "\n",
        "https://www.youtube.com/watch?v=XQYGwKiqV3Y\n",
        "\n",
        "https://gist.github.com/Tonetete/a7d1c98cf61c4e24dd11"
      ]
    },
    {
      "cell_type": "code",
      "metadata": {
        "id": "3XpHAui6d5zb",
        "colab_type": "code",
        "colab": {
          "base_uri": "https://localhost:8080/",
          "height": 54
        },
        "outputId": "8a4366dc-2d4c-4587-aa11-87979344ad8a"
      },
      "source": [
        "def reinas(A,col,n):\n",
        "\n",
        "  if col >= n:\n",
        "    return False\n",
        "  exito = False\n",
        "  \n",
        "  while True:\n",
        "            if (A[col] < n):                            # evitamos indices fuera del array.\n",
        "                A[col] = A[col] + 1                     # incrementamos el valor de columna para la reina i-esima de la fila i-esima.\n",
        "\n",
        "            if (valido(A,col)):                         # verificamos que la reina no se amenaza con otra.\n",
        "\n",
        "                if col != n-1:                          # si aun no hemos acabado todas las etapas, procedemos a la siguiente.\n",
        "                    exito = reinas(A, col+1,n)          # llamada recursiva\n",
        "                    if exito == False:                  # descartamos nodos fracaso.\n",
        "                        A[col+1] = 0\n",
        "                else:\n",
        "                    print ('Tablero Solución:',A)       # si hemos terminado, imprimimos el tablero solución\n",
        "                    exito = True\n",
        "            if (A[col]==n or exito==True):              # salimos del bucle y devolvemos exito.\n",
        "                break\n",
        "  return exito\n",
        "\n",
        "\n",
        "def valido(A,k):                                        # Comprueba si la reina se puede situar en la columna de la etapa\n",
        "\tfor i in range(k):\n",
        "\t\tif(A[i] == A[k]) or (abs(A[i]-A[k])==abs(i-k)):\n",
        "\t\t\treturn False\n",
        "\treturn True\n",
        "\n",
        "n = 4    # Cantidad de reinas\n",
        "solucion = n*[0]\n",
        "etapa = 0\n",
        "reinas(solucion, etapa, n)\n"
      ],
      "execution_count": 87,
      "outputs": [
        {
          "output_type": "stream",
          "text": [
            "Tablero Solución: [2, 4, 1, 3]\n"
          ],
          "name": "stdout"
        },
        {
          "output_type": "execute_result",
          "data": {
            "text/plain": [
              "True"
            ]
          },
          "metadata": {
            "tags": []
          },
          "execution_count": 87
        }
      ]
    },
    {
      "cell_type": "code",
      "metadata": {
        "id": "Q6hLOAwRq_k3",
        "colab_type": "code",
        "colab": {}
      },
      "source": [
        ""
      ],
      "execution_count": 0,
      "outputs": []
    }
  ]
}