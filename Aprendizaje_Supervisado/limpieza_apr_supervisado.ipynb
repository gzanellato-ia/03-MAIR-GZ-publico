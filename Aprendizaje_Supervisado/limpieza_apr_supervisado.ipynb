{
  "nbformat": 4,
  "nbformat_minor": 0,
  "metadata": {
    "colab": {
      "name": "limpieza_apr_supervisado.ipynb",
      "provenance": [],
      "collapsed_sections": [],
      "authorship_tag": "ABX9TyMxbV4jPN8/PsE9yBm+KAH/",
      "include_colab_link": true
    },
    "kernelspec": {
      "name": "python3",
      "display_name": "Python 3"
    }
  },
  "cells": [
    {
      "cell_type": "markdown",
      "metadata": {
        "id": "view-in-github",
        "colab_type": "text"
      },
      "source": [
        "<a href=\"https://colab.research.google.com/github/gzanellato-ia/03-MAIR-GZ-publico/blob/master/Aprendizaje_Supervisado/limpieza_apr_supervisado.ipynb\" target=\"_parent\"><img src=\"https://colab.research.google.com/assets/colab-badge.svg\" alt=\"Open In Colab\"/></a>"
      ]
    },
    {
      "cell_type": "markdown",
      "metadata": {
        "id": "w_Gz0Se7tbx2",
        "colab_type": "text"
      },
      "source": [
        "# Normalización"
      ]
    },
    {
      "cell_type": "code",
      "metadata": {
        "id": "W60zBTMlaYz7",
        "colab_type": "code",
        "colab": {
          "base_uri": "https://localhost:8080/",
          "height": 69
        },
        "outputId": "8ff2ad14-d86d-4e88-ae06-7a6e9be7a931"
      },
      "source": [
        "from sklearn import preprocessing\n",
        "import numpy as np\n",
        "\n",
        "# Carga de datos.\n",
        "X_train = np.array([[ 1., -1., 2.],\n",
        "                    [ 2., 0., 0.],\n",
        "                    [ 0., 1., -1.]])\n",
        "\n",
        "# Limpieza de datos: normalización.\n",
        "normalizer = preprocessing.MinMaxScaler()           # MinMaxScaler es una clase. Creamos el objeto normalizer\n",
        "X_train_norm = normalizer.fit_transform(X_train)    # fit: método de Scikit-Learn, crea un modelo a partir de datos\n",
        "                                                    # transform: toma un modelo y lo aplica a datos\n",
        "                                                    # fit_transform: aplico el modelo a los mismos datos con el que lo creamos\n",
        "# Salida de resultados.\n",
        "print(X_train_norm)\n"
      ],
      "execution_count": 19,
      "outputs": [
        {
          "output_type": "stream",
          "text": [
            "[[0.5        0.         1.        ]\n",
            " [1.         0.5        0.33333333]\n",
            " [0.         1.         0.        ]]\n"
          ],
          "name": "stdout"
        }
      ]
    },
    {
      "cell_type": "code",
      "metadata": {
        "id": "XfApNZRje01Y",
        "colab_type": "code",
        "colab": {
          "base_uri": "https://localhost:8080/",
          "height": 69
        },
        "outputId": "195434ed-2a0a-406d-bae8-f571928493df"
      },
      "source": [
        "# probamos otra función, Normalizer\n",
        "\n",
        "X_train_norm = preprocessing.normalize(X_train, axis=0, norm='max')     # ojo no da los mismos resultados !!!!!\n",
        "\n",
        "# Salida de resultados.\n",
        "print(X_train_norm)\n"
      ],
      "execution_count": 20,
      "outputs": [
        {
          "output_type": "stream",
          "text": [
            "[[ 0.5 -1.   1. ]\n",
            " [ 1.   0.   0. ]\n",
            " [ 0.   1.  -0.5]]\n"
          ],
          "name": "stdout"
        }
      ]
    },
    {
      "cell_type": "markdown",
      "metadata": {
        "id": "jaDjh4pEtYcO",
        "colab_type": "text"
      },
      "source": [
        "# Estandarización"
      ]
    },
    {
      "cell_type": "code",
      "metadata": {
        "id": "nUf4BWCcby7c",
        "colab_type": "code",
        "colab": {
          "base_uri": "https://localhost:8080/",
          "height": 69
        },
        "outputId": "0e9c58a1-867b-4383-9bca-a4af2628fa33"
      },
      "source": [
        "from sklearn import preprocessing\n",
        "import numpy as np\n",
        "\n",
        "# Carga de datos.\n",
        "X_train = np.array([[ 1., -1., 2.],\n",
        "                    [ 2., 0., 0.],\n",
        "                    [ 0., 1., -1.]])\n",
        "\n",
        "# Limpieza de datos: estandarización.\n",
        "standardizer = preprocessing.StandardScaler()       # preprocessing:  paquete\n",
        "                                                    # StandardScaler: clase\n",
        "                                                    # standardizer:   objeto de la clase StandardScaler\n",
        "X_train_std = standardizer.fit_transform(X_train)\n",
        "                                                    # fit_transform:  método                                                    \n",
        "\n",
        "# Salida de resultados.\n",
        "print(X_train_std)"
      ],
      "execution_count": 21,
      "outputs": [
        {
          "output_type": "stream",
          "text": [
            "[[ 0.         -1.22474487  1.33630621]\n",
            " [ 1.22474487  0.         -0.26726124]\n",
            " [-1.22474487  1.22474487 -1.06904497]]\n"
          ],
          "name": "stdout"
        }
      ]
    },
    {
      "cell_type": "code",
      "metadata": {
        "id": "7obky-hgvhd6",
        "colab_type": "code",
        "colab": {
          "base_uri": "https://localhost:8080/",
          "height": 69
        },
        "outputId": "a40b3d80-34f9-4cba-a896-6b678225333e"
      },
      "source": [
        "# Veamos el atributo 1:\n",
        "import math\n",
        "Media = (1+2+0)/3\n",
        "Desviacion_tipica = math.sqrt(((1-Media)**2+(2-Media)**2+(0-Media)**2)/3)\n",
        "print('elemento_1 =', (1-Media)/Desviacion_tipica)\n",
        "print('elemento_2 =', (2-Media)/Desviacion_tipica)\n",
        "print('elemento_3 =', (0-Media)/Desviacion_tipica)"
      ],
      "execution_count": 11,
      "outputs": [
        {
          "output_type": "stream",
          "text": [
            "elemento_1 = 0.0\n",
            "elemento_2 = 1.224744871391589\n",
            "elemento_3 = -1.224744871391589\n"
          ],
          "name": "stdout"
        }
      ]
    }
  ]
}