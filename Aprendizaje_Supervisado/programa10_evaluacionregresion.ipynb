{
  "nbformat": 4,
  "nbformat_minor": 0,
  "metadata": {
    "colab": {
      "name": "programa10_evaluacionregresion.ipynb",
      "provenance": [],
      "collapsed_sections": [],
      "authorship_tag": "ABX9TyOq+vfWb7SEVsFHoIukXokB",
      "include_colab_link": true
    },
    "kernelspec": {
      "name": "python3",
      "display_name": "Python 3"
    }
  },
  "cells": [
    {
      "cell_type": "markdown",
      "metadata": {
        "id": "view-in-github",
        "colab_type": "text"
      },
      "source": [
        "<a href=\"https://colab.research.google.com/github/gzanellato-ia/03-MAIR-GZ-publico/blob/master/Aprendizaje_Supervisado/programa10_evaluacionregresion.ipynb\" target=\"_parent\"><img src=\"https://colab.research.google.com/assets/colab-badge.svg\" alt=\"Open In Colab\"/></a>"
      ]
    },
    {
      "cell_type": "code",
      "metadata": {
        "id": "-5aYpObCbBIY",
        "colab_type": "code",
        "colab": {}
      },
      "source": [
        "import numpy as np\n",
        "from math import sqrt\n",
        "from pprint import pprint\n",
        "from sklearn import datasets\n",
        "from sklearn.dummy import DummyRegressor\n",
        "from sklearn.model_selection import cross_validate\n",
        "from sklearn.model_selection import KFold\n",
        "from sklearn.metrics import make_scorer\n",
        "from sklearn.metrics import mean_squared_error"
      ],
      "execution_count": 1,
      "outputs": []
    },
    {
      "cell_type": "code",
      "metadata": {
        "id": "QDLVLRtJbSwp",
        "colab_type": "code",
        "colab": {}
      },
      "source": [
        "# Carga de datos.\n",
        "datos = datasets.load_boston()"
      ],
      "execution_count": 2,
      "outputs": []
    },
    {
      "cell_type": "code",
      "metadata": {
        "id": "SR4-Kk2LbVVf",
        "colab_type": "code",
        "colab": {}
      },
      "source": [
        "# Algoritmo de aprendizaje.\n",
        "reg = DummyRegressor()"
      ],
      "execution_count": 3,
      "outputs": []
    },
    {
      "cell_type": "code",
      "metadata": {
        "id": "Vy7DEFFtbXk9",
        "colab_type": "code",
        "colab": {
          "base_uri": "https://localhost:8080/",
          "height": 69
        },
        "outputId": "f440e520-360b-40e3-b1ce-45293c98558c"
      },
      "source": [
        "# Métricas de evaluación.\n",
        "metricas = {\n",
        "  'MAE': 'neg_mean_absolute_error',\n",
        "  'RMSE': make_scorer(\n",
        "          lambda y, y_pred:\n",
        "            sqrt(mean_squared_error(y, y_pred)),\n",
        "            greater_is_better=False),\n",
        "  'MAPE': make_scorer(\n",
        "          lambda y, y_pred:\n",
        "            np.mean(np.abs((y - y_pred) / y)) * 100,\n",
        "            greater_is_better=False)}\n",
        "metricas"
      ],
      "execution_count": 4,
      "outputs": [
        {
          "output_type": "execute_result",
          "data": {
            "text/plain": [
              "{'MAE': 'neg_mean_absolute_error',\n",
              " 'MAPE': make_scorer(<lambda>, greater_is_better=False),\n",
              " 'RMSE': make_scorer(<lambda>, greater_is_better=False)}"
            ]
          },
          "metadata": {
            "tags": []
          },
          "execution_count": 4
        }
      ]
    },
    {
      "cell_type": "code",
      "metadata": {
        "id": "eFdMsQhabab5",
        "colab_type": "code",
        "colab": {}
      },
      "source": [
        "# Validación y evaluación del modelo.\n",
        "evaluacion = cross_validate(reg, datos.data, datos.target,\n",
        "                cv = KFold(n_splits=10), scoring = metricas)"
      ],
      "execution_count": 5,
      "outputs": []
    },
    {
      "cell_type": "code",
      "metadata": {
        "id": "M3Sg69-MbeV4",
        "colab_type": "code",
        "colab": {
          "base_uri": "https://localhost:8080/",
          "height": 243
        },
        "outputId": "a63f560a-a1e0-491a-8922-fe2bf78b62d0"
      },
      "source": [
        "# Presentación de los resultados de la evaluación.\n",
        "pprint(evaluacion)"
      ],
      "execution_count": 8,
      "outputs": [
        {
          "output_type": "stream",
          "text": [
            "{'fit_time': array([0.00063467, 0.00028396, 0.00030136, 0.00017977, 0.00020385,\n",
            "       0.00032496, 0.00024843, 0.00024533, 0.00023675, 0.00019717]),\n",
            " 'score_time': array([0.00220156, 0.00141335, 0.00105023, 0.00041604, 0.00040102,\n",
            "       0.00059485, 0.00055456, 0.00062847, 0.00071073, 0.00045753]),\n",
            " 'test_MAE': array([ -5.3515794 ,  -3.53014437,  -4.94711485, -10.76168067,\n",
            "        -6.44039647, -10.047688  ,  -3.17389474, -11.29252632,\n",
            "       -10.23408772,  -4.63788596]),\n",
            " 'test_MAPE': array([-29.25050459, -12.906196  , -30.39854529, -30.34584199,\n",
            "       -18.56158501, -27.26756887, -14.90917649, -98.89347189,\n",
            "       -90.94044655, -33.26160748]),\n",
            " 'test_RMSE': array([ -6.32943878,  -5.54863948,  -5.6114705 , -13.84505712,\n",
            "       -10.19621426, -13.13853419,  -4.07150292, -13.4561593 ,\n",
            "       -10.80909628,  -5.99400813])}\n"
          ],
          "name": "stdout"
        }
      ]
    },
    {
      "cell_type": "code",
      "metadata": {
        "id": "9a-S15w0bg9S",
        "colab_type": "code",
        "colab": {}
      },
      "source": [
        ""
      ],
      "execution_count": null,
      "outputs": []
    }
  ]
}