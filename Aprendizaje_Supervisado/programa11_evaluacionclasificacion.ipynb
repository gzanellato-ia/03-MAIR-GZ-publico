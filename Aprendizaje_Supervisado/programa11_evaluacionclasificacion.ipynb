{
  "nbformat": 4,
  "nbformat_minor": 0,
  "metadata": {
    "colab": {
      "name": "programa11_evaluacionclasificacion.ipynb",
      "provenance": [],
      "authorship_tag": "ABX9TyOwnECBIKWdv5eag+otraIu",
      "include_colab_link": true
    },
    "kernelspec": {
      "name": "python3",
      "display_name": "Python 3"
    }
  },
  "cells": [
    {
      "cell_type": "markdown",
      "metadata": {
        "id": "view-in-github",
        "colab_type": "text"
      },
      "source": [
        "<a href=\"https://colab.research.google.com/github/gzanellato-ia/03-MAIR-GZ-publico/blob/master/Aprendizaje_Supervisado/programa11_evaluacionclasificacion.ipynb\" target=\"_parent\"><img src=\"https://colab.research.google.com/assets/colab-badge.svg\" alt=\"Open In Colab\"/></a>"
      ]
    },
    {
      "cell_type": "code",
      "metadata": {
        "id": "CB2EQdbenb9b",
        "colab_type": "code",
        "colab": {}
      },
      "source": [
        "from sklearn import datasets\n",
        "from sklearn.dummy import DummyClassifier\n",
        "from sklearn.model_selection import cross_val_predict\n",
        "from sklearn.model_selection import KFold\n",
        "import sklearn.metrics as metrics"
      ],
      "execution_count": 1,
      "outputs": []
    },
    {
      "cell_type": "code",
      "metadata": {
        "id": "uvArQ-3EnlGY",
        "colab_type": "code",
        "colab": {}
      },
      "source": [
        "# Carga de datos.\n",
        "datos = datasets.load_iris()"
      ],
      "execution_count": 2,
      "outputs": []
    },
    {
      "cell_type": "code",
      "metadata": {
        "id": "wLhW8s81nmmD",
        "colab_type": "code",
        "colab": {}
      },
      "source": [
        "# Algoritmo de aprendizaje.\n",
        "clf = DummyClassifier()"
      ],
      "execution_count": 3,
      "outputs": []
    },
    {
      "cell_type": "code",
      "metadata": {
        "id": "j0atrYbInpGZ",
        "colab_type": "code",
        "colab": {
          "base_uri": "https://localhost:8080/",
          "height": 52
        },
        "outputId": "77336858-2c5d-46c7-9440-3a943aa3988b"
      },
      "source": [
        "# Validación y obtención de las predicciones del modelo.\n",
        "y_pred = cross_val_predict(clf, datos.data, datos.target, cv = KFold(n_splits=10))"
      ],
      "execution_count": 4,
      "outputs": [
        {
          "output_type": "stream",
          "text": [
            "/usr/local/lib/python3.6/dist-packages/sklearn/dummy.py:132: FutureWarning: The default value of strategy will change from stratified to prior in 0.24.\n",
            "  \"stratified to prior in 0.24.\", FutureWarning)\n"
          ],
          "name": "stderr"
        }
      ]
    },
    {
      "cell_type": "code",
      "metadata": {
        "id": "ctX_WE4rnvKe",
        "colab_type": "code",
        "colab": {
          "base_uri": "https://localhost:8080/",
          "height": 416
        },
        "outputId": "b493aa47-5d97-4f8c-9e98-0afda6fe184e"
      },
      "source": [
        "# Presentación de los resultados de la evaluación.\n",
        "print(\"Exactitud: %.3f\\n\" % (metrics.accuracy_score(datos.target, y_pred)))\n",
        "print(\"Precisión: %.3f\\n\" % (metrics.precision_score(datos.target, y_pred, average=\"micro\")))\n",
        "print(\"Sensibilidad: %.3f\\n\" % (metrics.recall_score(datos.target, y_pred, average=\"micro\")))\n",
        "print(\"F1: %.3f\\n\" % (metrics.f1_score(datos.target, y_pred, average=\"micro\")))\n",
        "print(\"Matriz de confusión:\\n\", metrics.confusion_matrix(datos.target, y_pred))\n",
        "print(\"Tabla de métricas:\\n\", metrics.classification_report(datos.target, y_pred))"
      ],
      "execution_count": 5,
      "outputs": [
        {
          "output_type": "stream",
          "text": [
            "Exactitud: 0.260\n",
            "\n",
            "Precisión: 0.260\n",
            "\n",
            "Sensibilidad: 0.260\n",
            "\n",
            "F1: 0.260\n",
            "\n",
            "Matriz de confusión:\n",
            " [[11 21 18]\n",
            " [20 14 16]\n",
            " [16 20 14]]\n",
            "Tabla de métricas:\n",
            "               precision    recall  f1-score   support\n",
            "\n",
            "           0       0.23      0.22      0.23        50\n",
            "           1       0.25      0.28      0.27        50\n",
            "           2       0.29      0.28      0.29        50\n",
            "\n",
            "    accuracy                           0.26       150\n",
            "   macro avg       0.26      0.26      0.26       150\n",
            "weighted avg       0.26      0.26      0.26       150\n",
            "\n"
          ],
          "name": "stdout"
        }
      ]
    },
    {
      "cell_type": "code",
      "metadata": {
        "id": "MX64pXvSnyPe",
        "colab_type": "code",
        "colab": {}
      },
      "source": [
        ""
      ],
      "execution_count": null,
      "outputs": []
    }
  ]
}