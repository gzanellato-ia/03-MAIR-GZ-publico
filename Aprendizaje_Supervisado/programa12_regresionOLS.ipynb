{
  "nbformat": 4,
  "nbformat_minor": 0,
  "metadata": {
    "colab": {
      "name": "programa12_regresionOLS.ipynb",
      "provenance": [],
      "authorship_tag": "ABX9TyMgOCZrqomictSDaj5aZJvj",
      "include_colab_link": true
    },
    "kernelspec": {
      "name": "python3",
      "display_name": "Python 3"
    }
  },
  "cells": [
    {
      "cell_type": "markdown",
      "metadata": {
        "id": "view-in-github",
        "colab_type": "text"
      },
      "source": [
        "<a href=\"https://colab.research.google.com/github/gzanellato-ia/03-MAIR-GZ-publico/blob/master/Aprendizaje_Supervisado/programa12_regresionOLS.ipynb\" target=\"_parent\"><img src=\"https://colab.research.google.com/assets/colab-badge.svg\" alt=\"Open In Colab\"/></a>"
      ]
    },
    {
      "cell_type": "code",
      "metadata": {
        "id": "ICeZQyFIF9mo",
        "colab_type": "code",
        "colab": {}
      },
      "source": [
        "import numpy as np\n",
        "from math import sqrt\n",
        "from pprint import pprint\n",
        "from sklearn import datasets\n",
        "from sklearn.dummy import DummyRegressor\n",
        "from sklearn.model_selection import cross_validate\n",
        "from sklearn.model_selection import KFold\n",
        "from sklearn.metrics import make_scorer\n",
        "from sklearn.metrics import mean_squared_error\n",
        "from sklearn import linear_model, metrics\n",
        "from sklearn.model_selection import cross_val_predict\n",
        "import matplotlib.pyplot as plt"
      ],
      "execution_count": 1,
      "outputs": []
    },
    {
      "cell_type": "code",
      "metadata": {
        "id": "toWdTOh0GE0L",
        "colab_type": "code",
        "colab": {
          "base_uri": "https://localhost:8080/",
          "height": 34
        },
        "outputId": "e5c5f52f-5cb5-49ca-b6d3-122067a3dd41"
      },
      "source": [
        "# Carga de datos.\n",
        "datos = datasets.load_boston()\n",
        "datos.data.shape"
      ],
      "execution_count": 3,
      "outputs": [
        {
          "output_type": "execute_result",
          "data": {
            "text/plain": [
              "(506, 13)"
            ]
          },
          "metadata": {
            "tags": []
          },
          "execution_count": 3
        }
      ]
    },
    {
      "cell_type": "code",
      "metadata": {
        "id": "6B-R3S5CGKDj",
        "colab_type": "code",
        "colab": {}
      },
      "source": [
        "# Algoritmo de aprendizaje.\n",
        "reg = linear_model.LinearRegression()"
      ],
      "execution_count": 4,
      "outputs": []
    },
    {
      "cell_type": "code",
      "metadata": {
        "id": "T1VeHlpDGT0V",
        "colab_type": "code",
        "colab": {}
      },
      "source": [
        "# Métricas de evaluación.\n",
        "metricas = {\n",
        "  'MAE':  metrics.mean_absolute_error,\n",
        "  'RMSE': lambda y, y_pred:\n",
        "          sqrt(metrics.mean_squared_error(y, y_pred)),\n",
        "  'MAPE': lambda y, y_pred:\n",
        "          np.mean(np.abs((y - y_pred) / y)) * 100,\n",
        "  'R2':   metrics.r2_score}"
      ],
      "execution_count": 5,
      "outputs": []
    },
    {
      "cell_type": "code",
      "metadata": {
        "id": "9ciaWRdeGX-Y",
        "colab_type": "code",
        "colab": {}
      },
      "source": [
        "# Entrenamiento con todos los datos para obtener los coeficientes del modelo con todos los datos.\n",
        "modelo = reg.fit(datos.data, datos.target)"
      ],
      "execution_count": 6,
      "outputs": []
    },
    {
      "cell_type": "code",
      "metadata": {
        "id": "FAtDNZVjGbTm",
        "colab_type": "code",
        "colab": {
          "base_uri": "https://localhost:8080/",
          "height": 86
        },
        "outputId": "bbcf0e07-819c-4f52-c133-3d1299c4abd0"
      },
      "source": [
        "# Obtención de los coeficientes del modelo.\n",
        "modelo.coef_"
      ],
      "execution_count": 7,
      "outputs": [
        {
          "output_type": "execute_result",
          "data": {
            "text/plain": [
              "array([-1.08011358e-01,  4.64204584e-02,  2.05586264e-02,  2.68673382e+00,\n",
              "       -1.77666112e+01,  3.80986521e+00,  6.92224640e-04, -1.47556685e+00,\n",
              "        3.06049479e-01, -1.23345939e-02, -9.52747232e-01,  9.31168327e-03,\n",
              "       -5.24758378e-01])"
            ]
          },
          "metadata": {
            "tags": []
          },
          "execution_count": 7
        }
      ]
    },
    {
      "cell_type": "code",
      "metadata": {
        "id": "lO3cAJLBGjok",
        "colab_type": "code",
        "colab": {
          "base_uri": "https://localhost:8080/",
          "height": 34
        },
        "outputId": "4eae0958-648a-4e70-9f15-b281792d4244"
      },
      "source": [
        "# Obtención del término independiente del modelo.\n",
        "modelo.intercept_"
      ],
      "execution_count": 8,
      "outputs": [
        {
          "output_type": "execute_result",
          "data": {
            "text/plain": [
              "36.459488385090125"
            ]
          },
          "metadata": {
            "tags": []
          },
          "execution_count": 8
        }
      ]
    },
    {
      "cell_type": "code",
      "metadata": {
        "id": "hTDuANQsGnQw",
        "colab_type": "code",
        "colab": {}
      },
      "source": [
        "# Validación y obtención de las predicciones del modelo.\n",
        "seed = 1\n",
        "y_pred = cross_val_predict(reg, datos.data, datos.target,\n",
        "         cv = KFold(n_splits=10, random_state=seed, shuffle=True))"
      ],
      "execution_count": 9,
      "outputs": []
    },
    {
      "cell_type": "code",
      "metadata": {
        "id": "FSC5GJZ3GuWD",
        "colab_type": "code",
        "colab": {}
      },
      "source": [
        "# Cálculo de las métricas de evaluación.\n",
        "MAE = metricas['MAE'](datos.target, y_pred)\n",
        "RMSE = metricas['RMSE'](datos.target, y_pred)\n",
        "MAPE = metricas['MAPE'](datos.target, y_pred)\n",
        "R2 = metricas['R2'](datos.target, y_pred)"
      ],
      "execution_count": 10,
      "outputs": []
    },
    {
      "cell_type": "code",
      "metadata": {
        "id": "R7nTfiX1GzRT",
        "colab_type": "code",
        "colab": {
          "base_uri": "https://localhost:8080/",
          "height": 295
        },
        "outputId": "83042128-9e1d-4f27-97e5-e11f190ab53d"
      },
      "source": [
        "# Gráfica de realidad vs. predicción.\n",
        "fig, ax = plt.subplots()\n",
        "ax.scatter(datos.target, y_pred, edgecolors=(0, 0, 0))\n",
        "ax.plot([datos.target.min(), datos.target.max()],\n",
        "        [datos.target.min(), datos.target.max()], 'k--', lw=4)\n",
        "ax.set_xlabel('Valor real de la clase')\n",
        "ax.set_ylabel('Predicción')\n",
        "plt.title(\"MAE: %.3f  RMSE: %.3f  MAPE: %.3f  R2: %.3f\" %\n",
        "          (MAE,RMSE,MAPE,R2))\n",
        "plt.show()"
      ],
      "execution_count": 11,
      "outputs": [
        {
          "output_type": "display_data",
          "data": {
            "image/png": "[encoded data removed]",
            "text/plain": [
              "<Figure size 432x288 with 1 Axes>"
            ]
          },
          "metadata": {
            "tags": [],
            "needs_background": "light"
          }
        }
      ]
    },
    {
      "cell_type": "code",
      "metadata": {
        "id": "waOAYI-LG8sy",
        "colab_type": "code",
        "colab": {
          "base_uri": "https://localhost:8080/",
          "height": 265
        },
        "outputId": "42c33887-208d-4c8d-e218-2d33476d4ae5"
      },
      "source": [
        "plt.hist(datos.target, bins='auto')\n",
        "plt.show()"
      ],
      "execution_count": 12,
      "outputs": [
        {
          "output_type": "display_data",
          "data": {
            "image/png": "[encoded data removed]",
            "text/plain": [
              "<Figure size 432x288 with 1 Axes>"
            ]
          },
          "metadata": {
            "tags": [],
            "needs_background": "light"
          }
        }
      ]
    },
    {
      "cell_type": "code",
      "metadata": {
        "id": "YKZ4ID48G_l_",
        "colab_type": "code",
        "colab": {
          "base_uri": "https://localhost:8080/",
          "height": 520
        },
        "outputId": "3a6d425b-52ef-494c-ede2-dbc0b21832ea"
      },
      "source": [
        "import pandas as pd\n",
        "preds = pd.DataFrame({'actual': datos.target, 'pred': y_pred})\n",
        "preds = preds.sort_values('actual')\n",
        "preds.head(15)"
      ],
      "execution_count": 13,
      "outputs": [
        {
          "output_type": "execute_result",
          "data": {
            "text/html": [
              "<div>\n",
              "<style scoped>\n",
              "    .dataframe tbody tr th:only-of-type {\n",
              "        vertical-align: middle;\n",
              "    }\n",
              "\n",
              "    .dataframe tbody tr th {\n",
              "        vertical-align: top;\n",
              "    }\n",
              "\n",
              "    .dataframe thead th {\n",
              "        text-align: right;\n",
              "    }\n",
              "</style>\n",
              "<table border=\"1\" class=\"dataframe\">\n",
              "  <thead>\n",
              "    <tr style=\"text-align: right;\">\n",
              "      <th></th>\n",
              "      <th>actual</th>\n",
              "      <th>pred</th>\n",
              "    </tr>\n",
              "  </thead>\n",
              "  <tbody>\n",
              "    <tr>\n",
              "      <th>398</th>\n",
              "      <td>5.0</td>\n",
              "      <td>6.360404</td>\n",
              "    </tr>\n",
              "    <tr>\n",
              "      <th>405</th>\n",
              "      <td>5.0</td>\n",
              "      <td>8.615701</td>\n",
              "    </tr>\n",
              "    <tr>\n",
              "      <th>400</th>\n",
              "      <td>5.6</td>\n",
              "      <td>11.277428</td>\n",
              "    </tr>\n",
              "    <tr>\n",
              "      <th>399</th>\n",
              "      <td>6.3</td>\n",
              "      <td>10.520660</td>\n",
              "    </tr>\n",
              "    <tr>\n",
              "      <th>414</th>\n",
              "      <td>7.0</td>\n",
              "      <td>-5.460697</td>\n",
              "    </tr>\n",
              "    <tr>\n",
              "      <th>489</th>\n",
              "      <td>7.0</td>\n",
              "      <td>8.004153</td>\n",
              "    </tr>\n",
              "    <tr>\n",
              "      <th>401</th>\n",
              "      <td>7.2</td>\n",
              "      <td>17.787843</td>\n",
              "    </tr>\n",
              "    <tr>\n",
              "      <th>385</th>\n",
              "      <td>7.2</td>\n",
              "      <td>8.051415</td>\n",
              "    </tr>\n",
              "    <tr>\n",
              "      <th>415</th>\n",
              "      <td>7.2</td>\n",
              "      <td>8.967718</td>\n",
              "    </tr>\n",
              "    <tr>\n",
              "      <th>387</th>\n",
              "      <td>7.4</td>\n",
              "      <td>5.938398</td>\n",
              "    </tr>\n",
              "    <tr>\n",
              "      <th>416</th>\n",
              "      <td>7.5</td>\n",
              "      <td>12.908784</td>\n",
              "    </tr>\n",
              "    <tr>\n",
              "      <th>490</th>\n",
              "      <td>8.1</td>\n",
              "      <td>4.085901</td>\n",
              "    </tr>\n",
              "    <tr>\n",
              "      <th>403</th>\n",
              "      <td>8.3</td>\n",
              "      <td>13.284628</td>\n",
              "    </tr>\n",
              "    <tr>\n",
              "      <th>425</th>\n",
              "      <td>8.3</td>\n",
              "      <td>10.290523</td>\n",
              "    </tr>\n",
              "    <tr>\n",
              "      <th>438</th>\n",
              "      <td>8.4</td>\n",
              "      <td>4.920035</td>\n",
              "    </tr>\n",
              "  </tbody>\n",
              "</table>\n",
              "</div>"
            ],
            "text/plain": [
              "     actual       pred\n",
              "398     5.0   6.360404\n",
              "405     5.0   8.615701\n",
              "400     5.6  11.277428\n",
              "399     6.3  10.520660\n",
              "414     7.0  -5.460697\n",
              "489     7.0   8.004153\n",
              "401     7.2  17.787843\n",
              "385     7.2   8.051415\n",
              "415     7.2   8.967718\n",
              "387     7.4   5.938398\n",
              "416     7.5  12.908784\n",
              "490     8.1   4.085901\n",
              "403     8.3  13.284628\n",
              "425     8.3  10.290523\n",
              "438     8.4   4.920035"
            ]
          },
          "metadata": {
            "tags": []
          },
          "execution_count": 13
        }
      ]
    },
    {
      "cell_type": "code",
      "metadata": {
        "id": "LIoyoUEcHCX0",
        "colab_type": "code",
        "colab": {}
      },
      "source": [
        ""
      ],
      "execution_count": null,
      "outputs": []
    }
  ]
}