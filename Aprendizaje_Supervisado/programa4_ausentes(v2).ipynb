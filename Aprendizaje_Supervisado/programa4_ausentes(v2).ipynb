{
  "nbformat": 4,
  "nbformat_minor": 0,
  "metadata": {
    "colab": {
      "name": "programa4_ausentes(v2).ipynb",
      "provenance": [],
      "collapsed_sections": [],
      "authorship_tag": "ABX9TyPP6lInnTjWF9zsq+SxbOUO",
      "include_colab_link": true
    },
    "kernelspec": {
      "name": "python3",
      "display_name": "Python 3"
    }
  },
  "cells": [
    {
      "cell_type": "markdown",
      "metadata": {
        "id": "view-in-github",
        "colab_type": "text"
      },
      "source": [
        "<a href=\"https://colab.research.google.com/github/gzanellato-ia/03-MAIR-GZ-publico/blob/master/Aprendizaje_Supervisado/programa4_ausentes(v2).ipynb\" target=\"_parent\"><img src=\"https://colab.research.google.com/assets/colab-badge.svg\" alt=\"Open In Colab\"/></a>"
      ]
    },
    {
      "cell_type": "code",
      "metadata": {
        "id": "qhReZGTpR2pG",
        "colab_type": "code",
        "colab": {}
      },
      "source": [
        "import numpy as np\n",
        "from sklearn.impute import SimpleImputer"
      ],
      "execution_count": 1,
      "outputs": []
    },
    {
      "cell_type": "code",
      "metadata": {
        "id": "wc0eX8L2R-X7",
        "colab_type": "code",
        "colab": {}
      },
      "source": [
        "# Carga de datos.\n",
        "a = [[1,      2], \n",
        "     [np.nan, 3], \n",
        "     [7,      6]]"
      ],
      "execution_count": 2,
      "outputs": []
    },
    {
      "cell_type": "code",
      "metadata": {
        "id": "WOlLiJpYSAfH",
        "colab_type": "code",
        "colab": {
          "base_uri": "https://localhost:8080/",
          "height": 52
        },
        "outputId": "defc2a5f-5737-4571-f163-292b36a7e995"
      },
      "source": [
        "# Limpieza de datos: imputación valores ausentes (modelo).\n",
        "imp = SimpleImputer(strategy='mean')    # creo el objeto imp llamando a la clase SimpleImputer\n",
        "imp.fit(a)                              # entreno el objeto con el método fit\n",
        "                                        # imp es un modelo que ha aprendido de la distribución de los datos de a\n",
        "                                        # (calcula la media de cada columna)"
      ],
      "execution_count": 3,
      "outputs": [
        {
          "output_type": "execute_result",
          "data": {
            "text/plain": [
              "SimpleImputer(add_indicator=False, copy=True, fill_value=None,\n",
              "              missing_values=nan, strategy='mean', verbose=0)"
            ]
          },
          "metadata": {
            "tags": []
          },
          "execution_count": 3
        }
      ]
    },
    {
      "cell_type": "code",
      "metadata": {
        "id": "7oL3BMcFSDBr",
        "colab_type": "code",
        "colab": {
          "base_uri": "https://localhost:8080/",
          "height": 69
        },
        "outputId": "3eed016b-8ddb-421d-8ed5-d647c593beb8"
      },
      "source": [
        "# Limpieza de datos: imputación valores ausentes (aplicación).\n",
        "b = [[np.nan, 10], \n",
        "     [6,      np.nan], \n",
        "     [8,      1]]\n",
        "print(imp.transform(b))"
      ],
      "execution_count": 4,
      "outputs": [
        {
          "output_type": "stream",
          "text": [
            "[[ 4.         10.        ]\n",
            " [ 6.          3.66666667]\n",
            " [ 8.          1.        ]]\n"
          ],
          "name": "stdout"
        }
      ]
    },
    {
      "cell_type": "code",
      "metadata": {
        "id": "_NQJzvuhSFY-",
        "colab_type": "code",
        "colab": {}
      },
      "source": [
        ""
      ],
      "execution_count": null,
      "outputs": []
    }
  ]
}