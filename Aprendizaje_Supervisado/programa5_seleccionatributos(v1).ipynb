{
  "nbformat": 4,
  "nbformat_minor": 0,
  "metadata": {
    "colab": {
      "name": "programa5_seleccionatributos(v1).ipynb",
      "provenance": [],
      "authorship_tag": "ABX9TyNSAwS1IcctZYPGYtlnC0ov",
      "include_colab_link": true
    },
    "kernelspec": {
      "name": "python3",
      "display_name": "Python 3"
    }
  },
  "cells": [
    {
      "cell_type": "markdown",
      "metadata": {
        "id": "view-in-github",
        "colab_type": "text"
      },
      "source": [
        "<a href=\"https://colab.research.google.com/github/gzanellato-ia/03-MAIR-GZ-publico/blob/master/Aprendizaje_Supervisado/programa5_seleccionatributos(v1).ipynb\" target=\"_parent\"><img src=\"https://colab.research.google.com/assets/colab-badge.svg\" alt=\"Open In Colab\"/></a>"
      ]
    },
    {
      "cell_type": "code",
      "metadata": {
        "id": "zGleKe-PYpTX",
        "colab_type": "code",
        "colab": {}
      },
      "source": [
        "from sklearn.feature_selection import VarianceThreshold"
      ],
      "execution_count": 1,
      "outputs": []
    },
    {
      "cell_type": "code",
      "metadata": {
        "id": "mQDibNanY2od",
        "colab_type": "code",
        "colab": {}
      },
      "source": [
        "# Carga de datos.\n",
        "X = [[0, 0, 1],\n",
        "     [0, 1, 0],\n",
        "     [1, 0, 0],\n",
        "     [0, 1, 1],\n",
        "     [0, 1, 0],\n",
        "     [0, 1, 1]]"
      ],
      "execution_count": 2,
      "outputs": []
    },
    {
      "cell_type": "code",
      "metadata": {
        "id": "jy-zk_MPY7pQ",
        "colab_type": "code",
        "colab": {
          "base_uri": "https://localhost:8080/",
          "height": 121
        },
        "outputId": "a42bc97d-765a-4307-f137-b53a31cb0bc9"
      },
      "source": [
        "# Limpieza de datos: selección de atributos.\n",
        "sel = VarianceThreshold(threshold = (.8 * (1 - .8)))\n",
        "eprint(sel.fit_transform(X))"
      ],
      "execution_count": 3,
      "outputs": [
        {
          "output_type": "stream",
          "text": [
            "[[0 1]\n",
            " [1 0]\n",
            " [0 0]\n",
            " [1 1]\n",
            " [1 0]\n",
            " [1 1]]\n"
          ],
          "name": "stdout"
        }
      ]
    },
    {
      "cell_type": "markdown",
      "metadata": {
        "id": "a5ymzO-EZGBS",
        "colab_type": "text"
      },
      "source": [
        "Eliminó la primera columna. 1/6 no es suficiente para producir una variación de al menos 20% (umbral)"
      ]
    },
    {
      "cell_type": "code",
      "metadata": {
        "id": "Dl3mhJQ0Y_I6",
        "colab_type": "code",
        "colab": {}
      },
      "source": [
        ""
      ],
      "execution_count": null,
      "outputs": []
    }
  ]
}