{
  "nbformat": 4,
  "nbformat_minor": 0,
  "metadata": {
    "colab": {
      "name": "programa7_validacionholdout.ipynb",
      "provenance": [],
      "collapsed_sections": [],
      "authorship_tag": "ABX9TyOrXICykV5+MmbOhF4azU42",
      "include_colab_link": true
    },
    "kernelspec": {
      "name": "python3",
      "display_name": "Python 3"
    }
  },
  "cells": [
    {
      "cell_type": "markdown",
      "metadata": {
        "id": "view-in-github",
        "colab_type": "text"
      },
      "source": [
        "<a href=\"https://colab.research.google.com/github/gzanellato-ia/03-MAIR-GZ-publico/blob/master/Aprendizaje_Supervisado/programa7_validacionholdout.ipynb\" target=\"_parent\"><img src=\"https://colab.research.google.com/assets/colab-badge.svg\" alt=\"Open In Colab\"/></a>"
      ]
    },
    {
      "cell_type": "code",
      "metadata": {
        "id": "nVMZDxbkY_yf",
        "colab_type": "code",
        "colab": {}
      },
      "source": [
        "from sklearn import datasets\n",
        "from sklearn.dummy import DummyClassifier\n",
        "from sklearn.model_selection import train_test_split"
      ],
      "execution_count": 1,
      "outputs": []
    },
    {
      "cell_type": "code",
      "metadata": {
        "id": "ZC9povAfZDyY",
        "colab_type": "code",
        "colab": {}
      },
      "source": [
        "# Carga de datos.\n",
        "iris = datasets.load_iris()"
      ],
      "execution_count": 2,
      "outputs": []
    },
    {
      "cell_type": "code",
      "metadata": {
        "id": "JZ-PXmPeZF6P",
        "colab_type": "code",
        "colab": {
          "base_uri": "https://localhost:8080/",
          "height": 52
        },
        "outputId": "b48f3556-ad5f-4070-aedf-c6eeadd3fb74"
      },
      "source": [
        "# Mostrar características de la tabla de datos.\n",
        "print(\"Tabla de datos: %d instancias y %d atributos\" % (iris.data.\n",
        "shape[0], iris.data.shape[1]))\n",
        "print(\"Valores de la clase:\", set(iris.target))"
      ],
      "execution_count": 3,
      "outputs": [
        {
          "output_type": "stream",
          "text": [
            "Tabla de datos: 150 instancias y 4 atributos\n",
            "Valores de la clase: {0, 1, 2}\n"
          ],
          "name": "stdout"
        }
      ]
    },
    {
      "cell_type": "code",
      "metadata": {
        "id": "5e97pG9VZIF5",
        "colab_type": "code",
        "colab": {}
      },
      "source": [
        "# Validación: hold-out split 70-30%.\n",
        "X_train, X_test, y_train, y_test = train_test_split(\n",
        "    iris.data, iris.target, test_size=0.3, random_state=0)    # random_state es la semilla"
      ],
      "execution_count": 4,
      "outputs": []
    },
    {
      "cell_type": "code",
      "metadata": {
        "id": "0FNahKRNZKZU",
        "colab_type": "code",
        "colab": {
          "base_uri": "https://localhost:8080/",
          "height": 52
        },
        "outputId": "e66e2648-5744-4915-9ec9-3e41228b0670"
      },
      "source": [
        "# Mostrar características de los conjuntos de training y test.\n",
        "print(\"Training: %d instancias y %d atributos\" % (X_train.data.\n",
        "shape[0], X_train.data.shape[1]))\n",
        "print(\"Test: %d instancias y %d atributos\" % (X_test.data.shape[0], X_test.data.shape[1]))"
      ],
      "execution_count": 5,
      "outputs": [
        {
          "output_type": "stream",
          "text": [
            "Training: 105 instancias y 4 atributos\n",
            "Test: 45 instancias y 4 atributos\n"
          ],
          "name": "stdout"
        }
      ]
    },
    {
      "cell_type": "code",
      "metadata": {
        "id": "cFh6KNOSZNRV",
        "colab_type": "code",
        "colab": {}
      },
      "source": [
        "# Construcción del objeto que contiene el algoritmo de aprendizaje.\n",
        "clf = DummyClassifier()"
      ],
      "execution_count": 6,
      "outputs": []
    },
    {
      "cell_type": "code",
      "metadata": {
        "id": "WsU3iZdpZQVe",
        "colab_type": "code",
        "colab": {
          "base_uri": "https://localhost:8080/",
          "height": 69
        },
        "outputId": "0d498a66-1756-4437-84cc-14a9ab29f68b"
      },
      "source": [
        "# Entrenamiento del algoritmo de aprendizaje.\n",
        "clf.fit(X_train, y_train)"
      ],
      "execution_count": 7,
      "outputs": [
        {
          "output_type": "stream",
          "text": [
            "/usr/local/lib/python3.6/dist-packages/sklearn/dummy.py:132: FutureWarning: The default value of strategy will change from stratified to prior in 0.24.\n",
            "  \"stratified to prior in 0.24.\", FutureWarning)\n"
          ],
          "name": "stderr"
        },
        {
          "output_type": "execute_result",
          "data": {
            "text/plain": [
              "DummyClassifier(constant=None, random_state=None, strategy='warn')"
            ]
          },
          "metadata": {
            "tags": []
          },
          "execution_count": 7
        }
      ]
    },
    {
      "cell_type": "code",
      "metadata": {
        "id": "If9hppt1ZSmW",
        "colab_type": "code",
        "colab": {
          "base_uri": "https://localhost:8080/",
          "height": 34
        },
        "outputId": "73ec2eaf-3c8e-4b5e-9cea-d07933960b4a"
      },
      "source": [
        "# Evaluación del algoritmo de aprendizaje.\n",
        "evaluacion = clf.score(X_test, y_test)\n",
        "print(\"Exactitud:\", evaluacion)"
      ],
      "execution_count": 8,
      "outputs": [
        {
          "output_type": "stream",
          "text": [
            "Exactitud: 0.24444444444444444\n"
          ],
          "name": "stdout"
        }
      ]
    }
  ]
}