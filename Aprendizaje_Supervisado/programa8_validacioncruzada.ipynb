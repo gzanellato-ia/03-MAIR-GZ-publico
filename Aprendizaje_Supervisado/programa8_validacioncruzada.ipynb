{
  "nbformat": 4,
  "nbformat_minor": 0,
  "metadata": {
    "colab": {
      "name": "programa8_validacioncruzada.ipynb",
      "provenance": [],
      "collapsed_sections": [],
      "authorship_tag": "ABX9TyM+40pgWEjxFljNZCa4/vD0",
      "include_colab_link": true
    },
    "kernelspec": {
      "name": "python3",
      "display_name": "Python 3"
    }
  },
  "cells": [
    {
      "cell_type": "markdown",
      "metadata": {
        "id": "view-in-github",
        "colab_type": "text"
      },
      "source": [
        "<a href=\"https://colab.research.google.com/github/gzanellato-ia/03-MAIR-GZ-publico/blob/master/Aprendizaje_Supervisado/programa8_validacioncruzada.ipynb\" target=\"_parent\"><img src=\"https://colab.research.google.com/assets/colab-badge.svg\" alt=\"Open In Colab\"/></a>"
      ]
    },
    {
      "cell_type": "code",
      "metadata": {
        "id": "6xSMewqwxX_M",
        "colab_type": "code",
        "colab": {}
      },
      "source": [
        "from sklearn.model_selection import KFold"
      ],
      "execution_count": 1,
      "outputs": []
    },
    {
      "cell_type": "code",
      "metadata": {
        "id": "iTKbQyFwxao8",
        "colab_type": "code",
        "colab": {}
      },
      "source": [
        "# Carga de datos.\n",
        "X = [\"a\", \"b\", \"c\", \"d\", \"e\", \"f\", \"g\", \"h\", \"i\", \"j\"]"
      ],
      "execution_count": 2,
      "outputs": []
    },
    {
      "cell_type": "code",
      "metadata": {
        "id": "EZ2ms8cRxdPU",
        "colab_type": "code",
        "colab": {}
      },
      "source": [
        "# Validación cruzada.\n",
        "kf = KFold(n_splits = 3)\n",
        "bolsas = kf.split(X)"
      ],
      "execution_count": 3,
      "outputs": []
    },
    {
      "cell_type": "code",
      "metadata": {
        "id": "wGf3qU7WxflH",
        "colab_type": "code",
        "colab": {
          "base_uri": "https://localhost:8080/",
          "height": 173
        },
        "outputId": "d2e67e6d-aa79-46af-8c5c-3e4775b3fc79"
      },
      "source": [
        "# Mostrar ejemplos de cada iteración.\n",
        "k = 1\n",
        "for train, test in bolsas:\n",
        "    print(\"Iteracion\", k, \":\")\n",
        "    print(\" - Entrenamiento: %s\" % (train)) \n",
        "    print(\" - Test: %s\" % (test))\n",
        "    k = k + 1"
      ],
      "execution_count": 4,
      "outputs": [
        {
          "output_type": "stream",
          "text": [
            "Iteracion 1 :\n",
            " - Entrenamiento: [4 5 6 7 8 9]\n",
            " - Test: [0 1 2 3]\n",
            "Iteracion 2 :\n",
            " - Entrenamiento: [0 1 2 3 7 8 9]\n",
            " - Test: [4 5 6]\n",
            "Iteracion 3 :\n",
            " - Entrenamiento: [0 1 2 3 4 5 6]\n",
            " - Test: [7 8 9]\n"
          ],
          "name": "stdout"
        }
      ]
    },
    {
      "cell_type": "code",
      "metadata": {
        "id": "keTJIXUBxht9",
        "colab_type": "code",
        "colab": {}
      },
      "source": [
        ""
      ],
      "execution_count": null,
      "outputs": []
    }
  ]
}