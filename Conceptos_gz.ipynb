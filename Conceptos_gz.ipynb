{
  "nbformat": 4,
  "nbformat_minor": 0,
  "metadata": {
    "colab": {
      "name": "Conceptos_gz.ipynb",
      "provenance": [],
      "collapsed_sections": [],
      "authorship_tag": "ABX9TyNAmpmsOyn+/UxgeWGEqTEu",
      "include_colab_link": true
    },
    "kernelspec": {
      "name": "python3",
      "display_name": "Python 3"
    }
  },
  "cells": [
    {
      "cell_type": "markdown",
      "metadata": {
        "id": "view-in-github",
        "colab_type": "text"
      },
      "source": [
        "<a href=\"https://colab.research.google.com/github/gzanellato-ia/03-MAIR-GZ-publico/blob/master/Conceptos_gz.ipynb\" target=\"_parent\"><img src=\"https://colab.research.google.com/assets/colab-badge.svg\" alt=\"Open In Colab\"/></a>"
      ]
    },
    {
      "cell_type": "markdown",
      "metadata": {
        "id": "wqxTfzBQn841",
        "colab_type": "text"
      },
      "source": [
        "# Algoritmo de inserción para ordenar una lista\n",
        "\n",
        "página 71 de Fundamentos de Algoritmia (Brassard/Bratley)"
      ]
    },
    {
      "cell_type": "code",
      "metadata": {
        "id": "vRuxJnGCYDJ2",
        "colab_type": "code",
        "colab": {
          "base_uri": "https://localhost:8080/",
          "height": 34
        },
        "outputId": "8ace62fa-9b3c-46e3-dec5-0c3738b2fb3a"
      },
      "source": [
        "def insertar(T):\n",
        "    for i in range(1, len(T)):\n",
        "        x = T[i]\n",
        "        j = i-1\n",
        "        while j>=0 and x<T[j]:\n",
        "            T[j+1]=T[j]\n",
        "            j=j-1\n",
        "        T[j+1]=x\n",
        "    return T\n",
        "\n",
        "lista = [67, 12, 6, 81, 13]\n",
        "\n",
        "orden = insertar(lista)\n",
        "print(orden)"
      ],
      "execution_count": 1,
      "outputs": [
        {
          "output_type": "stream",
          "text": [
            "[6, 12, 13, 67, 81]\n"
          ],
          "name": "stdout"
        }
      ]
    },
    {
      "cell_type": "markdown",
      "metadata": {
        "id": "vHV7qgGOpSrL",
        "colab_type": "text"
      },
      "source": [
        "# Algoritmo de selección para ordenar una lista\n",
        "\n",
        "página 71 de Fundamentos de Algoritmia (Brassard/Bratley)"
      ]
    },
    {
      "cell_type": "code",
      "metadata": {
        "id": "MLlVN4-vZFmE",
        "colab_type": "code",
        "colab": {
          "base_uri": "https://localhost:8080/",
          "height": 34
        },
        "outputId": "93579a12-c62c-4a40-870c-2bcf7ebd2592"
      },
      "source": [
        "def seleccionar(T):\n",
        "    for i in range(len(T)-1):\n",
        "        minj = i\n",
        "        minx = T[i]\n",
        "        for j in range (i+1,len(T)):\n",
        "            if T[j]<minx:\n",
        "                minj = j\n",
        "                minx = T[j]\n",
        "                T[minj] = T[i]\n",
        "                T[i] = minx\n",
        "    return T\n",
        "\n",
        "lista = [67, 12, 6, 24, 3, 71, 5]\n",
        "\n",
        "orden = seleccionar(lista)\n",
        "print(orden)"
      ],
      "execution_count": 2,
      "outputs": [
        {
          "output_type": "stream",
          "text": [
            "[3, 5, 6, 12, 24, 67, 71]\n"
          ],
          "name": "stdout"
        }
      ]
    },
    {
      "cell_type": "markdown",
      "metadata": {
        "id": "XHx6-LId6gA2",
        "colab_type": "text"
      },
      "source": [
        "## Algoritmo para conocer si un número es primo a través del Teorema de Wilson\n",
        "\n",
        "página 74 de Fundamentos de Algoritmia (Brassard/Bratley)"
      ]
    },
    {
      "cell_type": "code",
      "metadata": {
        "id": "KuWqJge2ql1-",
        "colab_type": "code",
        "colab": {
          "base_uri": "https://localhost:8080/",
          "height": 34
        },
        "outputId": "22644596-fd1c-4965-f423-7180411436ec"
      },
      "source": [
        "def factorial(n):    # calcula el factorial de un número Natural\n",
        "    a = 1\n",
        "    for i in range(a,n+1):\n",
        "        a*=i\n",
        "    return a\n",
        "\n",
        "def Wilson(n):    # Proporciona verdadero sí y solo sí n es primo, n>1\n",
        "    b = (factorial(n-1)+1)%n\n",
        "    if b == 0:\n",
        "        return True\n",
        "    else:\n",
        "        return False\n",
        "\n",
        "print(Wilson(17))"
      ],
      "execution_count": 23,
      "outputs": [
        {
          "output_type": "stream",
          "text": [
            "True\n"
          ],
          "name": "stdout"
        }
      ]
    },
    {
      "cell_type": "code",
      "metadata": {
        "id": "poWGxjn9ABFi",
        "colab_type": "code",
        "colab": {}
      },
      "source": [
        ""
      ],
      "execution_count": 0,
      "outputs": []
    }
  ]
}