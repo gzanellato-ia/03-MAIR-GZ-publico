{
  "nbformat": 4,
  "nbformat_minor": 0,
  "metadata": {
    "colab": {
      "name": "Conceptos_gz.ipynb",
      "provenance": [],
      "collapsed_sections": [],
      "authorship_tag": "ABX9TyMm7fjzx2KlU9SrQpo8WrKS",
      "include_colab_link": true
    },
    "kernelspec": {
      "name": "python3",
      "display_name": "Python 3"
    }
  },
  "cells": [
    {
      "cell_type": "markdown",
      "metadata": {
        "id": "view-in-github",
        "colab_type": "text"
      },
      "source": [
        "<a href=\"https://colab.research.google.com/github/gzanellato-ia/03-MAIR-GZ-publico/blob/master/Conceptos_gz.ipynb\" target=\"_parent\"><img src=\"https://colab.research.google.com/assets/colab-badge.svg\" alt=\"Open In Colab\"/></a>"
      ]
    },
    {
      "cell_type": "markdown",
      "metadata": {
        "id": "wqxTfzBQn841",
        "colab_type": "text"
      },
      "source": [
        "# Algoritmo de inserción para ordenar una lista\n",
        "\n",
        "página 71 de Fundamentos de Algoritmia (Brassard/Bratley)"
      ]
    },
    {
      "cell_type": "code",
      "metadata": {
        "id": "vRuxJnGCYDJ2",
        "colab_type": "code",
        "colab": {
          "base_uri": "https://localhost:8080/",
          "height": 34
        },
        "outputId": "ab9fc375-1d56-46f8-fb3a-92bd714fd5e9"
      },
      "source": [
        "def insertar(T):\n",
        "    for i in range(1, len(T)):\n",
        "        x = T[i]\n",
        "        j = i-1\n",
        "        while j>=0 and x<T[j]:\n",
        "            T[j+1]=T[j]\n",
        "            j=j-1\n",
        "        T[j+1]=x\n",
        "    return T\n",
        "\n",
        "lista = [67, 12, 6, 81, 13]\n",
        "\n",
        "orden=insertar(lista)\n",
        "print(orden)"
      ],
      "execution_count": 63,
      "outputs": [
        {
          "output_type": "stream",
          "text": [
            "[6, 12, 13, 67, 81]\n"
          ],
          "name": "stdout"
        }
      ]
    },
    {
      "cell_type": "markdown",
      "metadata": {
        "id": "vHV7qgGOpSrL",
        "colab_type": "text"
      },
      "source": [
        "# Algoritmo de selección para ordenar una lista\n",
        "\n",
        "página 71 de Fundamentos de Algoritmia (Brassard/Bratley)"
      ]
    },
    {
      "cell_type": "code",
      "metadata": {
        "id": "MLlVN4-vZFmE",
        "colab_type": "code",
        "colab": {
          "base_uri": "https://localhost:8080/",
          "height": 34
        },
        "outputId": "ecdbe72e-704c-4cd2-cfc3-3b6f4829bf2d"
      },
      "source": [
        "def seleccionar(T):\n",
        "    for i in range(len(T)-1):\n",
        "        minj = i\n",
        "        minx = T[i]\n",
        "        for j in range (i+1,len(T)):\n",
        "            if T[j]<minx:\n",
        "                minj = j\n",
        "                minx = T[j]\n",
        "                T[minj] = T[i]\n",
        "                T[i] = minx\n",
        "    return T\n",
        "\n",
        "lista = [67, 12, 6, 24, 3, 71, 5]\n",
        "\n",
        "orden = seleccionar(lista)\n",
        "print(orden)"
      ],
      "execution_count": 86,
      "outputs": [
        {
          "output_type": "stream",
          "text": [
            "[3, 5, 6, 12, 24, 67, 71]\n"
          ],
          "name": "stdout"
        }
      ]
    },
    {
      "cell_type": "code",
      "metadata": {
        "id": "KuWqJge2ql1-",
        "colab_type": "code",
        "colab": {}
      },
      "source": [
        ""
      ],
      "execution_count": 0,
      "outputs": []
    }
  ]
}