{
  "nbformat": 4,
  "nbformat_minor": 0,
  "metadata": {
    "colab": {
      "name": "Conceptos_gz.ipynb",
      "provenance": [],
      "collapsed_sections": [],
      "authorship_tag": "ABX9TyMsec3/3TzXrRgOAQZWaduk",
      "include_colab_link": true
    },
    "kernelspec": {
      "name": "python3",
      "display_name": "Python 3"
    }
  },
  "cells": [
    {
      "cell_type": "markdown",
      "metadata": {
        "id": "view-in-github",
        "colab_type": "text"
      },
      "source": [
        "<a href=\"https://colab.research.google.com/github/gzanellato-ia/03-MAIR-GZ-publico/blob/master/Conceptos_gz.ipynb\" target=\"_parent\"><img src=\"https://colab.research.google.com/assets/colab-badge.svg\" alt=\"Open In Colab\"/></a>"
      ]
    },
    {
      "cell_type": "markdown",
      "metadata": {
        "id": "wqxTfzBQn841",
        "colab_type": "text"
      },
      "source": [
        "# Algoritmo para ordenar una lista\n",
        "\n",
        "página 71 de Fundamentos de Algoritmia (Brassard/Bratley)"
      ]
    },
    {
      "cell_type": "code",
      "metadata": {
        "id": "vRuxJnGCYDJ2",
        "colab_type": "code",
        "colab": {
          "base_uri": "https://localhost:8080/",
          "height": 34
        },
        "outputId": "5ec14ed8-2d7a-414d-8903-488be252766f"
      },
      "source": [
        "def insertar(T):\n",
        "    for i in range(1, len(T)):\n",
        "        x = T[i]\n",
        "        j = i-1\n",
        "        while j>=0 and x<T[j]:\n",
        "            T[j+1]=T[j]\n",
        "            j=j-1\n",
        "        T[j+1]=x\n",
        "    return T\n",
        "\n",
        "lista = [67, 12, 6, 81, 13]\n",
        "\n",
        "orden=insertar(lista)\n",
        "print(orden)"
      ],
      "execution_count": 46,
      "outputs": [
        {
          "output_type": "stream",
          "text": [
            "[6, 12, 13, 67, 81]\n"
          ],
          "name": "stdout"
        }
      ]
    },
    {
      "cell_type": "code",
      "metadata": {
        "id": "MLlVN4-vZFmE",
        "colab_type": "code",
        "colab": {}
      },
      "source": [
        ""
      ],
      "execution_count": 0,
      "outputs": []
    }
  ]
}