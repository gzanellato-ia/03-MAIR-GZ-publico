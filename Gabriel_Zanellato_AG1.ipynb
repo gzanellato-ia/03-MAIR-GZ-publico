{
  "nbformat": 4,
  "nbformat_minor": 0,
  "metadata": {
    "colab": {
      "name": "Gabriel_Zanellato-AG1.ipynb",
      "provenance": [],
      "collapsed_sections": [],
      "authorship_tag": "ABX9TyPSpc4lZRopVxVOg8CK4j/W",
      "include_colab_link": true
    },
    "kernelspec": {
      "name": "python3",
      "display_name": "Python 3"
    }
  },
  "cells": [
    {
      "cell_type": "markdown",
      "metadata": {
        "id": "view-in-github",
        "colab_type": "text"
      },
      "source": [
        "<a href=\"https://colab.research.google.com/github/gzanellato-ia/03-MAIR-GZ-publico/blob/master/Gabriel_Zanellato_AG1.ipynb\" target=\"_parent\"><img src=\"https://colab.research.google.com/assets/colab-badge.svg\" alt=\"Open In Colab\"/></a>"
      ]
    },
    {
      "cell_type": "markdown",
      "metadata": {
        "id": "QXlozKFZoeTM",
        "colab_type": "text"
      },
      "source": [
        "AG1-Actividad guiada\n",
        "\n",
        "## Gabriel Zanellato\n",
        "\n",
        "https://colab.research.google.com/drive/1Qlr7_qqKqJledh-qU6RrhqPzuXXpqQRl?usp=sharing\n",
        "\n",
        "https://github.com/gzanellato-ia/03-MAIR-GZ-publico/blob/master/Gabriel_Zanellato_AG1.ipynb"
      ]
    },
    {
      "cell_type": "markdown",
      "metadata": {
        "id": "1IFAgo5drB2H",
        "colab_type": "text"
      },
      "source": [
        "## Técnica de Divide y Vencerás para resolver el problema de las Torres de Hanoi"
      ]
    },
    {
      "cell_type": "code",
      "metadata": {
        "id": "orXXjnBQqrNZ",
        "colab_type": "code",
        "outputId": "00e1f23e-637d-4917-bfe6-e250f2654a6d",
        "colab": {
          "base_uri": "https://localhost:8080/",
          "height": 139
        }
      },
      "source": [
        "def Torres_Hanoi(N, desde, hasta):\n",
        "  if N==1:    # Caso base!!!\n",
        "    print('Mueve desde la ' + str(desde) + \" hasta \" + str(hasta))\n",
        "  else:\n",
        "    Torres_Hanoi(N-1, desde, 6-hasta-desde)\n",
        "    print('Mueve desde la ' + str(desde) + \" hasta \" + str(hasta))\n",
        "    Torres_Hanoi(N-1, 6-hasta-desde, hasta)\n",
        "\n",
        "Torres_Hanoi(3,1,3)"
      ],
      "execution_count": 0,
      "outputs": [
        {
          "output_type": "stream",
          "text": [
            "Mueve desde la 1 hasta 3\n",
            "Mueve desde la 1 hasta 2\n",
            "Mueve desde la 3 hasta 2\n",
            "Mueve desde la 1 hasta 3\n",
            "Mueve desde la 2 hasta 1\n",
            "Mueve desde la 2 hasta 3\n",
            "Mueve desde la 1 hasta 3\n"
          ],
          "name": "stdout"
        }
      ]
    },
    {
      "cell_type": "markdown",
      "metadata": {
        "id": "XG0gPZ6P5rz8",
        "colab_type": "text"
      },
      "source": [
        "### Alternativa que me permite entenderlo mejor\n",
        "Referencia: https://www.youtube.com/watch?v=Ru6dBRtxNrM"
      ]
    },
    {
      "cell_type": "code",
      "metadata": {
        "id": "qlx2ZvwX5oMS",
        "colab_type": "code",
        "outputId": "5fc0153f-6139-49ab-c92b-72e0c0490159",
        "colab": {
          "base_uri": "https://localhost:8080/",
          "height": 144
        }
      },
      "source": [
        "# Forma alternativa\n",
        "def Torres_Hanoi(N, torre_inicial, torre_pivote, torre_final):\n",
        "  if N==1:\n",
        "    print(torre_inicial + '->' + torre_final)\n",
        "  else:\n",
        "    Torres_Hanoi(N-1,torre_inicial, torre_final, torre_pivote)\n",
        "    print(torre_inicial + '->' + torre_final)\n",
        "    Torres_Hanoi(N-1,torre_pivote, torre_inicial, torre_final)\n",
        "\n",
        "Torres_Hanoi(3,'T1','T2','T3')"
      ],
      "execution_count": 1,
      "outputs": [
        {
          "output_type": "stream",
          "text": [
            "T1->T3\n",
            "T1->T2\n",
            "T3->T2\n",
            "T1->T3\n",
            "T2->T1\n",
            "T2->T3\n",
            "T1->T3\n"
          ],
          "name": "stdout"
        }
      ]
    },
    {
      "cell_type": "markdown",
      "metadata": {
        "id": "XiTx8_IUzA_6",
        "colab_type": "text"
      },
      "source": [
        "## Resolución de algoritmo voraz para el problema del cambio de monedas"
      ]
    },
    {
      "cell_type": "code",
      "metadata": {
        "id": "2azF-67prxJC",
        "colab_type": "code",
        "outputId": "7b822686-cbb8-4a05-c82a-4f094b99cd35",
        "colab": {
          "base_uri": "https://localhost:8080/",
          "height": 35
        }
      },
      "source": [
        "Sistema_Monetario = [25, 10, 5, 1]\n",
        "\n",
        "def cambio_monedas(N, SM):\n",
        "\n",
        "  valor_acumulado = 0\n",
        "\n",
        "  solucion = len(SM)*[0]\n",
        "  \n",
        "  for i,m in enumerate(SM):\n",
        "    monedas = (N-valor_acumulado)//m\n",
        "    valor_acumulado = valor_acumulado + monedas*m\n",
        "    solucion[i] = monedas\n",
        "\n",
        "    if valor_acumulado == N:\n",
        "      return solucion\n",
        "\n",
        "  return solucion\n",
        "\n",
        "cambio_monedas(77, Sistema_Monetario)\n"
      ],
      "execution_count": 0,
      "outputs": [
        {
          "output_type": "execute_result",
          "data": {
            "text/plain": [
              "[3, 0, 0, 2]"
            ]
          },
          "metadata": {
            "tags": []
          },
          "execution_count": 31
        }
      ]
    },
    {
      "cell_type": "code",
      "metadata": {
        "id": "zvXGBm4lxJIw",
        "colab_type": "code",
        "colab": {}
      },
      "source": [
        ""
      ],
      "execution_count": 0,
      "outputs": []
    }
  ]
}