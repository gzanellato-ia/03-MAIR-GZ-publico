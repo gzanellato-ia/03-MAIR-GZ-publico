{
  "nbformat": 4,
  "nbformat_minor": 0,
  "metadata": {
    "colab": {
      "name": "Gabriel_Zanellato-AG1.ipynb",
      "provenance": [],
      "authorship_tag": "ABX9TyOz020UzwwGZ1Vt5mhE7iU0",
      "include_colab_link": true
    },
    "kernelspec": {
      "name": "python3",
      "display_name": "Python 3"
    }
  },
  "cells": [
    {
      "cell_type": "markdown",
      "metadata": {
        "id": "view-in-github",
        "colab_type": "text"
      },
      "source": [
        "<a href=\"https://colab.research.google.com/github/gzanellato-ia/03-MAIR-GZ-publico/blob/master/Gabriel_Zanellato_AG1.ipynb\" target=\"_parent\"><img src=\"https://colab.research.google.com/assets/colab-badge.svg\" alt=\"Open In Colab\"/></a>"
      ]
    },
    {
      "cell_type": "markdown",
      "metadata": {
        "id": "QXlozKFZoeTM",
        "colab_type": "text"
      },
      "source": [
        "AG1-Actividad guiada\n",
        "\n",
        "## Gabriel Zanellato\n",
        "\n",
        "https://colab.research.google.com/drive/1Qlr7_qqKqJledh-qU6RrhqPzuXXpqQRl?usp=sharing"
      ]
    },
    {
      "cell_type": "code",
      "metadata": {
        "id": "bYpksdvQoF6d",
        "colab_type": "code",
        "colab": {}
      },
      "source": [
        ""
      ],
      "execution_count": 0,
      "outputs": []
    }
  ]
}