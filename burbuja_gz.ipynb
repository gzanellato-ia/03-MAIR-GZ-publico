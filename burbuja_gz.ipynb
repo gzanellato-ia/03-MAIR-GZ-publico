{
  "nbformat": 4,
  "nbformat_minor": 0,
  "metadata": {
    "colab": {
      "name": "burbuja_gz.ipynb",
      "provenance": [],
      "collapsed_sections": [],
      "authorship_tag": "ABX9TyMitf8L90Pb9BcfQ1oauHbx",
      "include_colab_link": true
    },
    "kernelspec": {
      "name": "python3",
      "display_name": "Python 3"
    }
  },
  "cells": [
    {
      "cell_type": "markdown",
      "metadata": {
        "id": "view-in-github",
        "colab_type": "text"
      },
      "source": [
        "<a href=\"https://colab.research.google.com/github/gzanellato-ia/03-MAIR-GZ-publico/blob/master/burbuja_gz.ipynb\" target=\"_parent\"><img src=\"https://colab.research.google.com/assets/colab-badge.svg\" alt=\"Open In Colab\"/></a>"
      ]
    },
    {
      "cell_type": "markdown",
      "metadata": {
        "id": "1iX4uzNY0F0r",
        "colab_type": "text"
      },
      "source": [
        "# Algoritmo para ordenar una lista mediante el método de la burbuja"
      ]
    },
    {
      "cell_type": "markdown",
      "metadata": {
        "id": "i0-KAU0j2mEL",
        "colab_type": "text"
      },
      "source": [
        "Ref: https://es.wikipedia.org/wiki/Ordenamiento_de_burbuja#:~:text=La%20Ordenaci%C3%B3n%20de%20burbuja%20"
      ]
    },
    {
      "cell_type": "code",
      "metadata": {
        "id": "dwQVmwBG5ulp",
        "colab_type": "code",
        "colab": {}
      },
      "source": [
        "from time import time"
      ],
      "execution_count": 0,
      "outputs": []
    },
    {
      "cell_type": "code",
      "metadata": {
        "id": "Kmxakp-y0RCC",
        "colab_type": "code",
        "colab": {
          "base_uri": "https://localhost:8080/",
          "height": 71
        },
        "outputId": "048aa242-0774-4080-9515-9d4aa226a1a4"
      },
      "source": [
        "def burbuja(lista):\n",
        "\n",
        "    for i in range(len(lista)):\n",
        "    for j in range(len(lista)-i-1):\n",
        "      if lista[j]>lista[j+1]:\n",
        "        aux = lista[j]\n",
        "        lista[j]=lista[j+1]\n",
        "        lista[j+1]=aux\n",
        "  \n",
        "  return lista\n",
        "\n",
        "start_time = time()\n",
        "lista1 = [18,7,5,2,6,9,3,21,10,37,11,26,4,8]\n",
        "orden = burbuja(lista1)\n",
        "elapsed_time = time() - start_time\n",
        "\n",
        "print('Lista original:', lista1)\n",
        "print('La lista ordenada es:', orden)\n",
        "print('elapsed time:', elapsed_time)"
      ],
      "execution_count": 18,
      "outputs": [
        {
          "output_type": "stream",
          "text": [
            "Lista original: [2, 3, 4, 5, 6, 7, 8, 9, 10, 11, 18, 21, 26, 37]\n",
            "La lista ordenada es: [2, 3, 4, 5, 6, 7, 8, 9, 10, 11, 18, 21, 26, 37]\n",
            "elapsed time: 7.224082946777344e-05\n"
          ],
          "name": "stdout"
        }
      ]
    },
    {
      "cell_type": "code",
      "metadata": {
        "id": "tK4LBPnw0ZCr",
        "colab_type": "code",
        "colab": {}
      },
      "source": [
        ""
      ],
      "execution_count": 0,
      "outputs": []
    }
  ]
}