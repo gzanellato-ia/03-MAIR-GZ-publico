{
  "nbformat": 4,
  "nbformat_minor": 0,
  "metadata": {
    "colab": {
      "name": "ejemplo_clase1.ipynb",
      "provenance": [],
      "collapsed_sections": [],
      "authorship_tag": "ABX9TyMV8SJipQyIwtFcAktg48T2",
      "include_colab_link": true
    },
    "kernelspec": {
      "name": "python3",
      "display_name": "Python 3"
    }
  },
  "cells": [
    {
      "cell_type": "markdown",
      "metadata": {
        "id": "view-in-github",
        "colab_type": "text"
      },
      "source": [
        "<a href=\"https://colab.research.google.com/github/gzanellato-ia/03-MAIR-GZ-publico/blob/master/ejemplo_clase1.ipynb\" target=\"_parent\"><img src=\"https://colab.research.google.com/assets/colab-badge.svg\" alt=\"Open In Colab\"/></a>"
      ]
    },
    {
      "cell_type": "markdown",
      "metadata": {
        "id": "243rrDRyBVqc",
        "colab_type": "text"
      },
      "source": [
        "# Encontrar los elementos comunes de dos listas"
      ]
    },
    {
      "cell_type": "code",
      "metadata": {
        "id": "6oAPz4SLatGE",
        "colab_type": "code",
        "outputId": "046ed624-3fde-470d-8628-91a0804ef994",
        "colab": {
          "base_uri": "https://localhost:8080/",
          "height": 35
        }
      },
      "source": [
        "lista = []\n",
        "A = [1,2,6,7,12,13,15]\n",
        "B = [2,3,4,7,13]\n",
        "\n",
        "for i in A:\n",
        "  for j in B:\n",
        "    if j==i:\n",
        "      lista.append(j)\n",
        "    \n",
        "print(lista)"
      ],
      "execution_count": 0,
      "outputs": [
        {
          "output_type": "stream",
          "text": [
            "[2, 7, 13]\n"
          ],
          "name": "stdout"
        }
      ]
    }
  ]
}