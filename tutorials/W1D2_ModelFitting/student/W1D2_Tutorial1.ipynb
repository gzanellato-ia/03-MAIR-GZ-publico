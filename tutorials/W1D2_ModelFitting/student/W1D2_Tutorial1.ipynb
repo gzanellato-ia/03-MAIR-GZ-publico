{
  "cells": [
    {
      "cell_type": "markdown",
      "metadata": {
        "id": "view-in-github",
        "colab_type": "text"
      },
      "source": [
        "<a href=\"https://colab.research.google.com/github/gzanellato-ia/03-MAIR-GZ-publico/blob/master/tutorials/W1D2_ModelFitting/student/W1D2_Tutorial1.ipynb\" target=\"_parent\"><img src=\"https://colab.research.google.com/assets/colab-badge.svg\" alt=\"Open In Colab\"/></a>"
      ]
    },
    {
      "cell_type": "markdown",
      "metadata": {
        "execution": {},
        "id": "qi7oVT1oqR8y"
      },
      "source": [
        "# Tutorial 1: Linear regression with MSE\n",
        "\n",
        "**Week 1, Day 2: Model Fitting**\n",
        "\n",
        "**By Neuromatch Academy**\n",
        "\n",
        "**Content creators**: Pierre-Étienne Fiquet, Anqi Wu, Alex Hyafil with help from Byron Galbraith\n",
        "\n",
        "**Content reviewers**: Lina Teichmann, Saeed Salehi, Patrick Mineault,  Ella Batty, Michael Waskom\n",
        "\n",
        "**Production editors**: Spiros Chavlis"
      ]
    },
    {
      "cell_type": "markdown",
      "metadata": {
        "execution": {},
        "id": "4C9fDxPaqR80"
      },
      "source": [
        "___\n",
        "# Tutorial Objectives\n",
        "\n",
        "*Estimated timing of tutorial: 30 minutes*\n",
        "\n",
        "This is Tutorial 1 of a series on fitting models to data. We start with simple linear regression, using least squares optimization (Tutorial 1) and Maximum Likelihood Estimation (Tutorial 2). We will use bootstrapping to build confidence intervals around the inferred linear model parameters (Tutorial 3). We'll finish our exploration of regression models by generalizing to multiple linear regression and polynomial regression (Tutorial 4). We end by learning how to choose between these various models. We discuss the bias-variance trade-off (Tutorial 5) and Cross Validation for model selection (Tutorial 6).\n",
        "\n",
        "In this tutorial, we will learn how to fit simple linear models to data.\n",
        "- Learn how to calculate the mean-squared error (MSE)\n",
        "- Explore how model parameters (slope) influence the MSE\n",
        "- Learn how to find the optimal model parameter using least-squares optimization\n",
        "\n",
        "<br>\n",
        "\n",
        "**Acknowledgements:**\n",
        "- We thank Eero Simoncelli. Much of today's tutorials are inspired by exercises assigned in his mathtools class."
      ]
    },
    {
      "cell_type": "code",
      "execution_count": 1,
      "metadata": {
        "cellView": "form",
        "execution": {},
        "id": "XmYQ2E8zqR81",
        "outputId": "cebbd638-4f6f-416f-e506-d9701c9a0c0b",
        "colab": {
          "base_uri": "https://localhost:8080/",
          "height": 519
        }
      },
      "outputs": [
        {
          "output_type": "stream",
          "name": "stdout",
          "text": [
            "If you want to download the slides: https://osf.io/download/2mkq4/\n"
          ]
        },
        {
          "output_type": "execute_result",
          "data": {
            "text/plain": [
              "<IPython.lib.display.IFrame at 0x79c76f951810>"
            ],
            "text/html": [
              "\n",
              "        <iframe\n",
              "            width=\"854\"\n",
              "            height=\"480\"\n",
              "            src=\"https://mfr.ca-1.osf.io/render?url=https://osf.io/2mkq4/?direct%26mode=render%26action=download%26mode=render\"\n",
              "            frameborder=\"0\"\n",
              "            allowfullscreen\n",
              "            \n",
              "        ></iframe>\n",
              "        "
            ]
          },
          "metadata": {},
          "execution_count": 1
        }
      ],
      "source": [
        "# @title Tutorial slides\n",
        "# @markdown These are the slides for the videos in all tutorials today\n",
        "from IPython.display import IFrame\n",
        "link_id = \"2mkq4\"\n",
        "print(f\"If you want to download the slides: https://osf.io/download/{link_id}/\")\n",
        "IFrame(src=f\"https://mfr.ca-1.osf.io/render?url=https://osf.io/{link_id}/?direct%26mode=render%26action=download%26mode=render\", width=854, height=480)"
      ]
    },
    {
      "cell_type": "markdown",
      "metadata": {
        "execution": {},
        "id": "czIf-BS-qR81"
      },
      "source": [
        "---\n",
        "# Setup"
      ]
    },
    {
      "cell_type": "code",
      "execution_count": 2,
      "metadata": {
        "cellView": "form",
        "execution": {},
        "id": "bh_78YU4qR81",
        "outputId": "165f3aee-c0a9-44b6-ba32-f8bfee159528",
        "colab": {
          "base_uri": "https://localhost:8080/"
        }
      },
      "outputs": [
        {
          "output_type": "stream",
          "name": "stdout",
          "text": [
            "  Preparing metadata (setup.py) ... \u001b[?25l\u001b[?25hdone\n",
            "  Preparing metadata (setup.py) ... \u001b[?25l\u001b[?25hdone\n",
            "\u001b[2K   \u001b[90m━━━━━━━━━━━━━━━━━━━━━━━━━━━━━━━━━━━━━━━━\u001b[0m \u001b[32m1.6/1.6 MB\u001b[0m \u001b[31m48.7 MB/s\u001b[0m eta \u001b[36m0:00:00\u001b[0m\n",
            "\u001b[?25h  Building wheel for vibecheck (setup.py) ... \u001b[?25l\u001b[?25hdone\n",
            "  Building wheel for datatops (setup.py) ... \u001b[?25l\u001b[?25hdone\n"
          ]
        }
      ],
      "source": [
        "# @title Install and import feedback gadget\n",
        "\n",
        "!pip3 install vibecheck datatops --quiet\n",
        "\n",
        "from vibecheck import DatatopsContentReviewContainer\n",
        "def content_review(notebook_section: str):\n",
        "    return DatatopsContentReviewContainer(\n",
        "        \"\",  # No text prompt\n",
        "        notebook_section,\n",
        "        {\n",
        "            \"url\": \"https://pmyvdlilci.execute-api.us-east-1.amazonaws.com/klab\",\n",
        "            \"name\": \"neuromatch_cn\",\n",
        "            \"user_key\": \"y1x3mpx5\",\n",
        "        },\n",
        "    ).render()\n",
        "\n",
        "\n",
        "feedback_prefix = \"W1D2_T1\""
      ]
    },
    {
      "cell_type": "code",
      "execution_count": 3,
      "metadata": {
        "cellView": "both",
        "execution": {},
        "id": "ORGXBF94qR82"
      },
      "outputs": [],
      "source": [
        "import numpy as np\n",
        "import matplotlib.pyplot as plt"
      ]
    },
    {
      "cell_type": "code",
      "execution_count": 4,
      "metadata": {
        "cellView": "form",
        "execution": {},
        "id": "Ipb1ZO4oqR82"
      },
      "outputs": [],
      "source": [
        "# @title Figure Settings\n",
        "import logging\n",
        "logging.getLogger('matplotlib.font_manager').disabled = True\n",
        "\n",
        "import ipywidgets as widgets  # interactive display\n",
        "%config InlineBackend.figure_format = 'retina'\n",
        "plt.style.use(\"https://raw.githubusercontent.com/NeuromatchAcademy/course-content/main/nma.mplstyle\")"
      ]
    },
    {
      "cell_type": "code",
      "execution_count": 5,
      "metadata": {
        "cellView": "form",
        "execution": {},
        "id": "wnbVEEcUqR82"
      },
      "outputs": [],
      "source": [
        "# @title Plotting Functions\n",
        "\n",
        "def plot_observed_vs_predicted(x, y, y_hat, theta_hat):\n",
        "  \"\"\" Plot observed vs predicted data\n",
        "\n",
        "  Args:\n",
        "    x (ndarray): observed x values\n",
        "    y (ndarray): observed y values\n",
        "    y_hat (ndarray): predicted y values\n",
        "    theta_hat (ndarray):\n",
        "  \"\"\"\n",
        "  fig, ax = plt.subplots()\n",
        "  ax.scatter(x, y, label='Observed')  # our data scatter plot\n",
        "  ax.plot(x, y_hat, color='r', label='Fit')  # our estimated model\n",
        "  # plot residuals\n",
        "  ymin = np.minimum(y, y_hat)\n",
        "  ymax = np.maximum(y, y_hat)\n",
        "  ax.vlines(x, ymin, ymax, 'g', alpha=0.5, label='Residuals')\n",
        "  ax.set(\n",
        "      title=fr\"$\\hat{{\\theta}}$ = {theta_hat:0.2f}, MSE = {np.mean((y - y_hat)**2):.2f}\",\n",
        "      xlabel='x',\n",
        "      ylabel='y'\n",
        "  )\n",
        "  ax.legend()\n",
        "  plt.show()"
      ]
    },
    {
      "cell_type": "markdown",
      "metadata": {
        "execution": {},
        "id": "BnbrHFTtqR82"
      },
      "source": [
        "---\n",
        "# Section 1: Mean Squared Error (MSE)"
      ]
    },
    {
      "cell_type": "code",
      "execution_count": 6,
      "metadata": {
        "cellView": "form",
        "execution": {},
        "id": "t1lkUQzKqR82",
        "outputId": "11ea1a27-8616-4424-e1e3-aaa6d9491283",
        "colab": {
          "base_uri": "https://localhost:8080/",
          "height": 581,
          "referenced_widgets": [
            "57283695291a4ec8a3d77bd34a792ea3",
            "7036575cc7164697b642521b29366f1b",
            "77ba7475b55d4664bd894292b4afd9df",
            "3360c00eedaf4a9d9c6ba653a3600ddb",
            "327dc27d214b441c9cab65ddff1e3487",
            "b5ee96a1cfa944fa85928d1a602495f2"
          ]
        }
      },
      "outputs": [
        {
          "output_type": "display_data",
          "data": {
            "text/plain": [
              "Tab(children=(Output(), Output()), _titles={'0': 'Youtube', '1': 'Bilibili'})"
            ],
            "application/vnd.jupyter.widget-view+json": {
              "version_major": 2,
              "version_minor": 0,
              "model_id": "57283695291a4ec8a3d77bd34a792ea3"
            }
          },
          "metadata": {}
        }
      ],
      "source": [
        "# @title Video 1: Linear Regression & Mean Squared Error\n",
        "from ipywidgets import widgets\n",
        "from IPython.display import YouTubeVideo\n",
        "from IPython.display import IFrame\n",
        "from IPython.display import display\n",
        "\n",
        "\n",
        "class PlayVideo(IFrame):\n",
        "  def __init__(self, id, source, page=1, width=400, height=300, **kwargs):\n",
        "    self.id = id\n",
        "    if source == 'Bilibili':\n",
        "      src = f'https://player.bilibili.com/player.html?bvid={id}&page={page}'\n",
        "    elif source == 'Osf':\n",
        "      src = f'https://mfr.ca-1.osf.io/render?url=https://osf.io/download/{id}/?direct%26mode=render'\n",
        "    super(PlayVideo, self).__init__(src, width, height, **kwargs)\n",
        "\n",
        "\n",
        "def display_videos(video_ids, W=400, H=300, fs=1):\n",
        "  tab_contents = []\n",
        "  for i, video_id in enumerate(video_ids):\n",
        "    out = widgets.Output()\n",
        "    with out:\n",
        "      if video_ids[i][0] == 'Youtube':\n",
        "        video = YouTubeVideo(id=video_ids[i][1], width=W,\n",
        "                             height=H, fs=fs, rel=0)\n",
        "        print(f'Video available at https://youtube.com/watch?v={video.id}')\n",
        "      else:\n",
        "        video = PlayVideo(id=video_ids[i][1], source=video_ids[i][0], width=W,\n",
        "                          height=H, fs=fs, autoplay=False)\n",
        "        if video_ids[i][0] == 'Bilibili':\n",
        "          print(f'Video available at https://www.bilibili.com/video/{video.id}')\n",
        "        elif video_ids[i][0] == 'Osf':\n",
        "          print(f'Video available at https://osf.io/{video.id}')\n",
        "      display(video)\n",
        "    tab_contents.append(out)\n",
        "  return tab_contents\n",
        "\n",
        "\n",
        "video_ids = [('Youtube', 'HumajfjJ37E'), ('Bilibili', 'BV1tA411e7NW')]\n",
        "tab_contents = display_videos(video_ids, W=854, H=480)\n",
        "tabs = widgets.Tab()\n",
        "tabs.children = tab_contents\n",
        "for i in range(len(tab_contents)):\n",
        "  tabs.set_title(i, video_ids[i][0])\n",
        "display(tabs)"
      ]
    },
    {
      "cell_type": "code",
      "execution_count": 7,
      "metadata": {
        "cellView": "form",
        "execution": {},
        "id": "tNep0BHUqR83",
        "outputId": "d3a334fb-d52a-4da7-ca77-dacca96a90ec",
        "colab": {
          "base_uri": "https://localhost:8080/",
          "height": 98,
          "referenced_widgets": [
            "df17c2450aab49fb9af78029f57bfe8d",
            "3c16a60329774905a85715a1d05c23d7",
            "7c986a6d5af94407b0801a87d60bd3ce",
            "5e7a892fbeb24956a0c51850df2885a0",
            "afd3a33735474e0795d36d09d7b8eb7e",
            "f6d93b748adf4c46be940ff28ba557d5",
            "19dbf3f297bc4e8ca3ac5ab62b77254d",
            "807276883a694ee183fbdc51abb9edb0",
            "30063803e2cf4b9996530ec384714eab",
            "fb94470590e640e0b8eebe895d577121",
            "0a652331da2a4cef97b82dacdb9236d4",
            "2c4cca1239d74122b16036a55a563d55",
            "dbe0e6e0ec3c4962b81356263604d503",
            "99b9386ca22843618d38e9da60c96095",
            "4701def8f7e546d2a7b5d6b5bc7dd771",
            "242830b834454f1597b176b5051a0b23",
            "5586b081b4014769a5916dfa7256ceab",
            "f6c867bafaba4bd891be2be37e442477",
            "247942b587894f4b976f82fff5648f0d",
            "d501d72baec643afb34a327b7959c4fa",
            "6778dd3b966e4d6c8300c71e13fa6efd",
            "8a1c36c070554254b61b457af8b3620c",
            "a55601b926514ad0baae5dec335cfd94",
            "f1a2bf162d5d48559ca6c270be8ee141",
            "b9e34f64bcf9418a9962ec3be0a50556",
            "299206f541f8462699ef8a5257773d7b"
          ]
        }
      },
      "outputs": [
        {
          "output_type": "display_data",
          "data": {
            "text/plain": [
              "VBox(children=(VBox(children=(HBox(children=(Button(description='🙂', layout=Layout(height='auto', padding='0.5…"
            ],
            "application/vnd.jupyter.widget-view+json": {
              "version_major": 2,
              "version_minor": 0,
              "model_id": "df17c2450aab49fb9af78029f57bfe8d"
            }
          },
          "metadata": {}
        }
      ],
      "source": [
        "# @title Submit your feedback\n",
        "content_review(f\"{feedback_prefix}_Mean_Squared_Error_Video\")"
      ]
    },
    {
      "cell_type": "markdown",
      "metadata": {
        "execution": {},
        "id": "XsJIhcndqR83"
      },
      "source": [
        "This video covers a 1D linear regression and mean squared error.\n",
        "\n",
        "<details>\n",
        "<summary> <font color='blue'>Click here for text recap of video </font></summary>\n",
        "\n",
        "**Linear least squares regression** is an old but gold  optimization procedure that we are going to use for data fitting. Least squares (LS) optimization problems are those in which the objective function is a quadratic function of the\n",
        "parameter(s) being optimized.\n",
        "\n",
        "Suppose you have a set of measurements: for each data point or measurement, you have $y_{i}$ (the \"dependent\" variable) obtained for a different input value, $x_{i}$ (the \"independent\" or \"explanatory\" variable).  Suppose we believe the measurements are proportional to the input values, but are corrupted by some (random) measurement errors, $\\epsilon_{i}$, that is:\n",
        "\n",
        "\\begin{equation}\n",
        "y_{i}= \\theta x_{i}+\\epsilon_{i}\n",
        "\\end{equation}\n",
        "\n",
        "for some unknown slope parameter $\\theta.$ The least squares regression problem uses **mean squared error (MSE)** as its objective function, it aims to find the value of the parameter $\\theta$ by minimizing the average of squared errors:\n",
        "\n",
        "\\begin{equation}\n",
        "\\min _{\\theta} \\frac{1}{N}\\sum_{i=1}^{N}\\left(y_{i}-\\theta x_{i}\\right)^{2}\n",
        "\\end{equation}"
      ]
    },
    {
      "cell_type": "markdown",
      "metadata": {
        "execution": {},
        "id": "y0P5Bt5cqR83"
      },
      "source": [
        "We will now explore how MSE is used in fitting a linear regression model to data. For illustrative purposes, we will create a simple synthetic dataset where we know the true underlying model. This will allow us to see how our estimation efforts compare in uncovering the real model (though in practice we rarely have this luxury).\n",
        "\n",
        "First we will generate some noisy samples $x$ from [0, 10) along the line $y = 1.2x$ as our dataset we wish to fit a model to."
      ]
    },
    {
      "cell_type": "code",
      "execution_count": 8,
      "metadata": {
        "execution": {},
        "id": "DkEnMRnTqR83",
        "outputId": "c6569020-339d-4d43-de4e-a22b92380e5c",
        "colab": {
          "base_uri": "https://localhost:8080/",
          "height": 592
        }
      },
      "outputs": [
        {
          "output_type": "display_data",
          "data": {
            "text/plain": [
              "<Figure size 800x600 with 1 Axes>"
            ],
            "image/png": "[encoded data removed]"
          },
          "metadata": {
            "image/png": {
              "width": 774,
              "height": 575
            }
          }
        }
      ],
      "source": [
        "# @title\n",
        "\n",
        "# @markdown Execute this cell to generate some simulated data\n",
        "\n",
        "# setting a fixed seed to our random number generator ensures we will always\n",
        "# get the same psuedorandom number sequence\n",
        "np.random.seed(121)\n",
        "\n",
        "# Let's set some parameters\n",
        "theta = 1.2\n",
        "n_samples = 30\n",
        "\n",
        "# Draw x and then calculate y\n",
        "x = 10 * np.random.rand(n_samples)  # sample from a uniform distribution over [0,10)\n",
        "noise = np.random.randn(n_samples)  # sample from a standard normal distribution\n",
        "y = theta * x + noise\n",
        "\n",
        "# Plot the results\n",
        "fig, ax = plt.subplots()\n",
        "ax.scatter(x, y)  # produces a scatter plot\n",
        "ax.set(xlabel='x', ylabel='y');"
      ]
    },
    {
      "cell_type": "markdown",
      "metadata": {
        "execution": {},
        "id": "bmChGHjiqR83"
      },
      "source": [
        "Now that we have our suitably noisy dataset, we can start trying to estimate the underlying model that produced it. We use MSE to evaluate how successful a particular slope estimate $\\hat{\\theta}$ is for explaining the data, with the closer to 0 the MSE is, the better our estimate fits the data."
      ]
    },
    {
      "cell_type": "markdown",
      "metadata": {
        "execution": {},
        "id": "AVBNd2B9qR83"
      },
      "source": [
        "## Coding Exercise 1: Compute MSE\n",
        "\n",
        "In this exercise you will implement a method to compute the mean squared error for a set of inputs $\\mathbf{x}$, measurements $\\mathbf{y}$, and slope estimate $\\hat{\\theta}$. Here, $\\mathbf{x}$ and $\\mathbf{y}$ are vectors of data points. We will then compute and print the mean squared error for 3 different choices of theta.\n",
        "\n",
        "As a reminder, the equation for computing the estimated y for a single data point is:\n",
        "\n",
        "\\begin{equation}\n",
        "\\hat{y}_{i}= \\theta x_{i}\n",
        "\\end{equation}\n",
        "\n",
        "and for mean squared error is:\n",
        "\n",
        "\\begin{equation}\n",
        "\\min _{\\theta} \\frac{1}{N}\\sum_{i=1}^{N}\\left(y_{i}-\\hat{y}_i\\right)^{2}\n",
        "\\end{equation}"
      ]
    },
    {
      "cell_type": "code",
      "execution_count": 9,
      "metadata": {
        "execution": {},
        "id": "YKTsWDVDqR83",
        "outputId": "64701a89-2a63-4ab7-ab3e-fd1691e5a353",
        "colab": {
          "base_uri": "https://localhost:8080/"
        }
      },
      "outputs": [
        {
          "output_type": "stream",
          "name": "stdout",
          "text": [
            "theta_hat of 0.75 has an MSE of 9.08\n",
            "theta_hat of 1.0 has an MSE of 3.01\n",
            "theta_hat of 1.5 has an MSE of 4.52\n"
          ]
        }
      ],
      "source": [
        "def mse(x, y, theta_hat):\n",
        "  \"\"\"Compute the mean squared error\n",
        "\n",
        "  Args:\n",
        "    x (ndarray): An array of shape (samples,) that contains the input values.\n",
        "    y (ndarray): An array of shape (samples,) that contains the corresponding\n",
        "      measurement values to the inputs.\n",
        "    theta_hat (float): An estimate of the slope parameter\n",
        "\n",
        "  Returns:\n",
        "    float: The mean squared error of the data with the estimated parameter.\n",
        "  \"\"\"\n",
        "  ####################################################\n",
        "  ## TODO for students: compute the mean squared error\n",
        "  # Fill out function and remove\n",
        "  # raise NotImplementedError(\"Student exercise: compute the mean squared error\")\n",
        "  ####################################################\n",
        "\n",
        "  # Compute the estimated y\n",
        "  y_hat = theta_hat * x\n",
        "\n",
        "  # Compute mean squared error\n",
        "  mse = np.mean((y - y_hat)**2)\n",
        "\n",
        "  return mse\n",
        "\n",
        "\n",
        "theta_hats = [0.75, 1.0, 1.5]\n",
        "for theta_hat in theta_hats:\n",
        "  print(f\"theta_hat of {theta_hat} has an MSE of {mse(x, y, theta_hat):.2f}\")"
      ]
    },
    {
      "cell_type": "markdown",
      "metadata": {
        "execution": {},
        "id": "E3fxnbe7qR83"
      },
      "source": [
        "The result should be:\n",
        "\n",
        "```\n",
        "theta_hat of 0.75 has an MSE of 9.08\\\n",
        "theta_hat of 1.0 has an MSE of 3.0\\\n",
        "theta_hat of 1.5 has an MSE of 4.52\n",
        "```\n",
        "\n",
        "\n"
      ]
    },
    {
      "cell_type": "markdown",
      "metadata": {
        "cellView": "both",
        "execution": {},
        "id": "fTGh3losqR83"
      },
      "source": [
        "[*Click for solution*](https://github.com/NeuromatchAcademy/course-content/tree/main/tutorials/W1D2_ModelFitting/solutions/W1D2_Tutorial1_Solution_12a57de0.py)\n",
        "\n"
      ]
    },
    {
      "cell_type": "code",
      "execution_count": 10,
      "metadata": {
        "cellView": "form",
        "execution": {},
        "id": "wK1T69EdqR83",
        "outputId": "e36a875d-2892-4e3b-af9a-ce09a18af481",
        "colab": {
          "base_uri": "https://localhost:8080/",
          "height": 62,
          "referenced_widgets": [
            "2bc28a9de16d4c4ba338884e8a90ed1c",
            "536725a71d4541e5b87467b91802c079",
            "318862f3cb8e491aa1e57db4c127d0d1",
            "d5d88e1179724a51914f6c33b01f7bed",
            "978a6e9bce924449b63287f3424c11ab",
            "e9db946feee54e418bb6713d424626c2",
            "0bc548ae92f34e42887c9a6938193a75",
            "4898e6a0b5e64803b1d7819d2babc6d1",
            "5e67c1943189498e91eeb8b75a8463ec",
            "b168c50094774ef3a8093830e5590846",
            "d794a471052b41f8ab086e010b41c009",
            "7643ab795a7d4d10ab9ab5df0ad6a458",
            "4f330f26fcf7495bae72590ced6d117f",
            "99c8474577f54e98b7d111ad395e91f0",
            "3aac705f0f8c494fb8a5cec8ca5aaf65",
            "4aa4d1e9e20c4ef2912f36abe8fa9c95",
            "a09c2d080c5f49cfa20b89bfbb245e81",
            "42cdbc9857a949ecae3edf8d1242c5d0",
            "80bba4938e5f42e5829b5e9f5f8c1a06",
            "249337efc3944a159ef327a2aee38bdc",
            "23f96967c12349d48dbb3e143de9dd57",
            "9f6e2f2e19bb4c25b2cdac01748306d4",
            "b101efabfe0340dabd3e56dd7e5558c6",
            "4b1af1b6ab404d0f837dbc9be54700c4",
            "2b7714c64c5647cf8eefc55fe5b7f3ca",
            "94b2eafa3a5a42c99d9a80b71f14aa4a"
          ]
        }
      },
      "outputs": [
        {
          "output_type": "display_data",
          "data": {
            "text/plain": [
              "VBox(children=(VBox(children=(HBox(children=(Button(description='🙂', layout=Layout(height='auto', padding='0.5…"
            ],
            "application/vnd.jupyter.widget-view+json": {
              "version_major": 2,
              "version_minor": 0,
              "model_id": "2bc28a9de16d4c4ba338884e8a90ed1c"
            }
          },
          "metadata": {}
        }
      ],
      "source": [
        "# @title Submit your feedback\n",
        "content_review(f\"{feedback_prefix}_Compute_MSE_Exercise\")"
      ]
    },
    {
      "cell_type": "markdown",
      "metadata": {
        "execution": {},
        "id": "ikX2Biu_qR83"
      },
      "source": [
        "We see that $\\hat{\\theta} = 1.0$ is our best estimate from the three we tried. Looking just at the raw numbers, however, isn't always satisfying, so let's visualize what our estimated model looks like over the data.\n",
        "\n"
      ]
    },
    {
      "cell_type": "code",
      "execution_count": 11,
      "metadata": {
        "cellView": "form",
        "execution": {},
        "id": "FRHt3D02qR84",
        "outputId": "18c7f448-a297-458a-ceac-c8a51708928e",
        "colab": {
          "base_uri": "https://localhost:8080/",
          "height": 492
        }
      },
      "outputs": [
        {
          "output_type": "display_data",
          "data": {
            "text/plain": [
              "<Figure size 1500x500 with 3 Axes>"
            ],
            "image/png": "[encoded data removed]"
          },
          "metadata": {
            "image/png": {
              "width": 1474,
              "height": 475
            }
          }
        }
      ],
      "source": [
        "# @markdown Execute this cell to visualize estimated models\n",
        "\n",
        "fig, axes = plt.subplots(ncols=3, figsize=(15, 5))\n",
        "for theta_hat, ax in zip(theta_hats, axes):\n",
        "\n",
        "  # True data\n",
        "  ax.scatter(x, y, label='Observed')  # our data scatter plot\n",
        "\n",
        "  # Compute and plot predictions\n",
        "  y_hat = theta_hat * x\n",
        "  ax.plot(x, y_hat, color='r', label='Fit')  # our estimated model\n",
        "\n",
        "  ax.set(\n",
        "      title= fr'$\\hat{{\\theta}}$= {theta_hat}, MSE = {np.mean((y - y_hat)**2):.2f}',\n",
        "      xlabel='x',\n",
        "      ylabel='y'\n",
        "  );\n",
        "\n",
        "axes[0].legend()\n",
        "plt.show()"
      ]
    },
    {
      "cell_type": "markdown",
      "metadata": {
        "execution": {},
        "id": "ULZwWEKZqR84"
      },
      "source": [
        "## Interactive Demo 1: MSE Explorer\n",
        "\n",
        "Using an interactive widget, we can easily see how changing our slope estimate changes our model fit. We display the **residuals**, the differences between observed and predicted data, as line segments between the data point (observed response) and the corresponding predicted response on the model fit line.\n",
        "\n",
        "- What value of $\\hat{\\theta}$ results in the lowest MSE?\n",
        "- Is this a good way of estimating $\\theta$?\n"
      ]
    },
    {
      "cell_type": "code",
      "execution_count": 12,
      "metadata": {
        "cellView": "form",
        "execution": {},
        "id": "-gnth6S4qR84",
        "outputId": "fa627028-a004-4686-de18-3817f7ddf77f",
        "colab": {
          "base_uri": "https://localhost:8080/",
          "height": 624,
          "referenced_widgets": [
            "30d900c811134d49b0618e41dc118b09",
            "a43fbd2858e140c99a35c25f26c7c209",
            "926f5bb52b0c4b0d8b757f4a2737521d",
            "ddedb174d6ef4b798ee8d1918c59998b",
            "d382fc6e33c74e99a4c0d5863f0db72d",
            "33f0775dc4644a179ca197f4869a4cd0",
            "39a7e31497fa4fc2a43e7cdcc742daea"
          ]
        }
      },
      "outputs": [
        {
          "output_type": "display_data",
          "data": {
            "text/plain": [
              "interactive(children=(FloatSlider(value=1.0, description='theta_hat', max=2.0), Output()), _dom_classes=('widg…"
            ],
            "application/vnd.jupyter.widget-view+json": {
              "version_major": 2,
              "version_minor": 0,
              "model_id": "30d900c811134d49b0618e41dc118b09"
            }
          },
          "metadata": {}
        }
      ],
      "source": [
        "# @markdown Make sure you execute this cell to enable the widget!\n",
        "@widgets.interact(theta_hat=widgets.FloatSlider(1.0, min=0.0, max=2.0))\n",
        "def plot_data_estimate(theta_hat):\n",
        "  y_hat = theta_hat * x\n",
        "  plot_observed_vs_predicted(x, y, y_hat, theta_hat)"
      ]
    },
    {
      "cell_type": "markdown",
      "metadata": {
        "execution": {},
        "id": "oV_T0MrdqR84"
      },
      "source": [
        "[*Click for solution*](https://github.com/NeuromatchAcademy/course-content/tree/main/tutorials/W1D2_ModelFitting/solutions/W1D2_Tutorial1_Solution_dff242e7.py)\n",
        "\n"
      ]
    },
    {
      "cell_type": "markdown",
      "source": [
        "1. Theta_hat = 1.2 results in the minimum MSE\n",
        "2. No, this is really inefficient - we do not want to fit models by changing parameters\n",
        "on a slider!"
      ],
      "metadata": {
        "id": "Pkm0AfeGyGvJ"
      }
    },
    {
      "cell_type": "code",
      "execution_count": 13,
      "metadata": {
        "cellView": "form",
        "execution": {},
        "id": "HR1WqbEwqR84",
        "outputId": "6de93984-611b-4d58-d5fe-5431de6e0dfe",
        "colab": {
          "base_uri": "https://localhost:8080/",
          "height": 62,
          "referenced_widgets": [
            "30028cb5608e48b19a48455b15823b9d",
            "977196ee8824469398065b0d52b62021",
            "1d8faae185a740948a5dffe3958ff167",
            "ad5775ec1d364a2799e4cd9bcf19b26b",
            "dd85e8397ca54fb183611ae7db7fdd6a",
            "e5e78cf4299b42549809b04ec53c4735",
            "31f760105c9d4049b56f208e22bedf81",
            "b23811c513c24f1d9928e5a06c333790",
            "920c649d16814347b428549370690957",
            "4f726c8d3b7b4daf98e5a8c46d7daf54",
            "01df08d1282f4120a6aa8b393693ccb2",
            "dc6f34f0ae174727a2cc43ea4cdaebfe",
            "becc5888775e4803acb0b78257bb7d00",
            "8deee2df244d4750a3713170da045395",
            "51ff6513741b4d889e0a848cafe5cf63",
            "8b9c9bbe74c148e281a58d0434764ae0",
            "73de062d983c4fcea9d4a5d65f517d2d",
            "4f69fcc748914ba0817408babb334936",
            "f29e32448bbd40ffa827274b89bbcf61",
            "f411d11da1d146b7b6d582b0b8a473a5",
            "9619b55b1ac24494988780cc172b656c",
            "6d12690c74e74b12a49776bbcf2a411f",
            "42d79ebb0d35450d8952ec1ba689a008",
            "44b9b37a93a5438984782187824c00df",
            "e2920acbda8f4c729bf0ae405971ea00",
            "b3f9b63e7aab491ba86a6b573c3e5a1d"
          ]
        }
      },
      "outputs": [
        {
          "output_type": "display_data",
          "data": {
            "text/plain": [
              "VBox(children=(VBox(children=(HBox(children=(Button(description='🙂', layout=Layout(height='auto', padding='0.5…"
            ],
            "application/vnd.jupyter.widget-view+json": {
              "version_major": 2,
              "version_minor": 0,
              "model_id": "30028cb5608e48b19a48455b15823b9d"
            }
          },
          "metadata": {}
        }
      ],
      "source": [
        "# @title Submit your feedback\n",
        "content_review(f\"{feedback_prefix}_MSE_explorer_Interactive_Demo_Discussion\")"
      ]
    },
    {
      "cell_type": "markdown",
      "metadata": {
        "execution": {},
        "id": "VhJ6ftjAqR84"
      },
      "source": [
        "While visually exploring several estimates can be instructive, it's not the most efficient for finding the best estimate to fit our data. Another technique we can use is to choose a reasonable range of parameter values and compute the MSE at several values in that interval. This allows us to plot the error against the parameter value (this is also called an **error landscape**, especially when we deal with more than one parameter). We can select the final $\\hat{\\theta}$  ($\\hat{\\theta}_\\textrm{MSE}$) as the one which results in the lowest error."
      ]
    },
    {
      "cell_type": "code",
      "execution_count": null,
      "metadata": {
        "cellView": "form",
        "execution": {},
        "id": "xqUg_f71qR84"
      },
      "outputs": [],
      "source": [
        "# @markdown Execute this cell to loop over theta_hats, compute MSE, and plot results\n",
        "\n",
        "# Loop over different thetas, compute MSE for each\n",
        "theta_hat_grid = np.linspace(-2.0, 4.0)\n",
        "errors = np.zeros(len(theta_hat_grid))\n",
        "for i, theta_hat in enumerate(theta_hat_grid):\n",
        "  errors[i] = mse(x, y, theta_hat)\n",
        "\n",
        "# Find theta that results in lowest error\n",
        "best_error = np.min(errors)\n",
        "theta_hat = theta_hat_grid[np.argmin(errors)]\n",
        "\n",
        "\n",
        "# Plot results\n",
        "fig, ax = plt.subplots()\n",
        "ax.plot(theta_hat_grid, errors, '-o', label='MSE', c='C1')\n",
        "ax.axvline(theta, color='g', ls='--', label=r\"$\\theta_{True}$\")\n",
        "ax.axvline(theta_hat, color='r', ls='-', label=r\"$\\hat{{\\theta}}_{MSE}$\")\n",
        "ax.set(\n",
        "  title=fr\"Best fit: $\\hat{{\\theta}}$ = {theta_hat:.2f}, MSE = {best_error:.2f}\",\n",
        "  xlabel=r\"$\\hat{{\\theta}}$\",\n",
        "  ylabel='MSE')\n",
        "ax.legend()\n",
        "plt.show()"
      ]
    },
    {
      "cell_type": "markdown",
      "metadata": {
        "execution": {},
        "id": "SjFNG5HdqR84"
      },
      "source": [
        "We can see that our best fit is $\\hat{\\theta}=1.18$ with an MSE of 1.45. This is quite close to the original true value $\\theta=1.2$!\n"
      ]
    },
    {
      "cell_type": "markdown",
      "metadata": {
        "execution": {},
        "id": "e-fPVSYlqR84"
      },
      "source": [
        "---\n",
        "# Section 2: Least-squares optimization\n",
        "\n",
        "*Estimated timing to here from start of tutorial: 20 min*\n",
        "\n",
        "While the approach detailed above (computing MSE at various values of $\\hat\\theta$) quickly got us to a good estimate, it still relied on evaluating the MSE value across a grid of hand-specified values. If we didn't pick a good range to begin with, or with enough granularity, we might miss the best possible estimator. Let's go one step further, and instead of finding the minimum MSE from a set of candidate estimates, let's solve for it analytically.\n",
        "\n",
        "We can do this by minimizing the cost function. Mean squared error is a convex objective function, therefore we can compute its minimum using calculus. Please see video or Bonus Section 1 for this derivation! After computing the minimum, we find that:\n",
        "\n",
        "\\begin{equation}\n",
        "\\hat\\theta = \\frac{\\mathbf{x}^\\top \\mathbf{y}}{\\mathbf{x}^\\top \\mathbf{x}}\n",
        "\\end{equation}\n",
        "\n",
        "where $\\mathbf{x}$ and $\\mathbf{y}$ are vectors of data points.\n",
        "\n",
        "This is known as solving the normal equations. For different ways of obtaining the solution, see the notes on [Least Squares Optimization](https://www.cns.nyu.edu/~eero/NOTES/leastSquares.pdf) by Eero Simoncelli."
      ]
    },
    {
      "cell_type": "markdown",
      "metadata": {
        "execution": {},
        "id": "8y3DlIjNqR84"
      },
      "source": [
        "## Coding Exercise 2: Solve for the Optimal Estimator\n",
        "\n",
        "In this exercise, you will write a function that finds the optimal $\\hat{\\theta}$ value using the least squares optimization approach (the equation above) to solve MSE minimization. It should take arguments $x$ and $y$ and return the solution $\\hat{\\theta}$.\n",
        "\n",
        "We will then use your function to compute $\\hat{\\theta}$ and plot the resulting prediction on top of the data."
      ]
    },
    {
      "cell_type": "code",
      "execution_count": null,
      "metadata": {
        "execution": {},
        "id": "9WP2dY8JqR84"
      },
      "outputs": [],
      "source": [
        "def solve_normal_eqn(x, y):\n",
        "  \"\"\"Solve the normal equations to produce the value of theta_hat that minimizes\n",
        "    MSE.\n",
        "\n",
        "    Args:\n",
        "    x (ndarray): An array of shape (samples,) that contains the input values.\n",
        "    y (ndarray): An array of shape (samples,) that contains the corresponding\n",
        "      measurement values to the inputs.\n",
        "\n",
        "  Returns:\n",
        "    float: the value for theta_hat arrived from minimizing MSE\n",
        "  \"\"\"\n",
        "\n",
        "  ################################################################################\n",
        "  ## TODO for students: solve for the best parameter using least squares\n",
        "  # Fill out function and remove\n",
        "  raise NotImplementedError(\"Student exercise: solve for theta_hat using least squares\")\n",
        "  ################################################################################\n",
        "\n",
        "  # Compute theta_hat analytically\n",
        "  theta_hat = ...\n",
        "\n",
        "  return theta_hat\n",
        "\n",
        "\n",
        "theta_hat = solve_normal_eqn(x, y)\n",
        "y_hat = theta_hat * x\n",
        "plot_observed_vs_predicted(x, y, y_hat, theta_hat)"
      ]
    },
    {
      "cell_type": "markdown",
      "metadata": {
        "cellView": "both",
        "execution": {},
        "id": "L02ziASiqR84"
      },
      "source": [
        "[*Click for solution*](https://github.com/NeuromatchAcademy/course-content/tree/main/tutorials/W1D2_ModelFitting/solutions/W1D2_Tutorial1_Solution_7a89ba24.py)\n",
        "\n",
        "*Example output:*\n",
        "\n",
        "<img alt='Solution hint' align='left' width=777.0 height=577.0 src=https://raw.githubusercontent.com/NeuromatchAcademy/course-content/main/tutorials/W1D2_ModelFitting/static/W1D2_Tutorial1_Solution_7a89ba24_0.png>\n",
        "\n"
      ]
    },
    {
      "cell_type": "code",
      "execution_count": null,
      "metadata": {
        "cellView": "form",
        "execution": {},
        "id": "pTBcDmOwqR84"
      },
      "outputs": [],
      "source": [
        "# @title Submit your feedback\n",
        "content_review(f\"{feedback_prefix}_Solve_for_the_Optimal_Estimator_Exercise\")"
      ]
    },
    {
      "cell_type": "markdown",
      "metadata": {
        "execution": {},
        "id": "2dB9wrTKqR84"
      },
      "source": [
        "We see that the analytic solution produces an even better result than our grid search from before, producing $\\hat{\\theta} = 1.21$ with $\\text{MSE} = 1.43$!"
      ]
    },
    {
      "cell_type": "markdown",
      "metadata": {
        "execution": {},
        "id": "5gna42XgqR84"
      },
      "source": [
        "---\n",
        "# Summary\n",
        "\n",
        "*Estimated timing of tutorial: 30 minutes*\n",
        "\n",
        "Linear least squares regression is an optimization procedure that can be used for data fitting:\n",
        "\n",
        "  - Task: predict a value for $y_i$ given $x_i$\n",
        "  - Performance measure: $\\textrm{MSE}$\n",
        "  - Procedure: minimize $\\textrm{MSE}$ by solving the normal equations\n",
        "\n",
        "**Key point**: We fit the model by defining an *objective function* and minimizing it.\n",
        "\n",
        "**Note**: In this case, there is an *analytical* solution to the minimization problem and in practice, this solution can be computed using *linear algebra*. This is *extremely* powerful and forms the basis for much of numerical computation throughout the sciences."
      ]
    },
    {
      "cell_type": "markdown",
      "metadata": {
        "execution": {},
        "id": "2zmrb2ZzqR84"
      },
      "source": [
        "---\n",
        "# Notation\n",
        "\n",
        "\\begin{align}\n",
        "x_{i} &\\quad \\text{input, independent variable}\\\\\n",
        "y_{i} &\\quad \\text{measurement, dependent variable}\\\\\n",
        "\\mathbf{x} &\\quad \\text{vector of input values}\\\\\n",
        "\\mathbf{y} &\\quad \\text{vector of measurements}\\\\\n",
        "\\hat{y}_{i} &\\quad \\text{estimate of dependent variable}\\\\\n",
        "\\epsilon_{i} &\\quad \\text{measurement error}\\\\\n",
        "\\theta &\\quad \\text{slope parameter}\\\\\n",
        "\\hat{\\theta} &\\quad \\text{estimated slope parameter}\\\\\n",
        "\\hat{\\theta}_\\text{MSE} &\\quad \\text{slope parameter estimated via the mean squared error}\\\\\n",
        "\\textrm{MSE} &\\quad \\text{mean squared error}\\\\\n",
        "\\end{align}"
      ]
    },
    {
      "cell_type": "markdown",
      "metadata": {
        "execution": {},
        "id": "Laz98fLjqR84"
      },
      "source": [
        "---\n",
        "# Bonus"
      ]
    },
    {
      "cell_type": "markdown",
      "metadata": {
        "execution": {},
        "id": "ApWQI4AaqR84"
      },
      "source": [
        "## Bonus Section 1: Least Squares Optimization Derivation\n",
        "\n",
        "We will outline here the derivation of the least squares solution.\n",
        "\n",
        "We first set the derivative of the error expression with respect to $\\theta$ equal to zero,\n",
        "\n",
        "\\begin{align}\n",
        "\\frac{d}{d\\theta}\\frac{1}{N}\\sum_{i=1}^N(y_i - \\theta x_i)^2 &= 0 \\\\\n",
        "\\frac{1}{N}\\sum_{i=1}^N-2x_i(y_i - \\theta x_i) &= 0\n",
        "\\end{align}\n",
        "\n",
        "where we used the chain rule. Now solving for $\\theta$, we obtain an optimal value of:\n",
        "\n",
        "\\begin{equation}\n",
        "\\hat\\theta = \\frac{\\sum_{i=1}^N x_i y_i}{\\sum_{i=1}^N x_i^2}\n",
        "\\end{equation}\n",
        "\n",
        "Which we can write in vector notation as:\n",
        "\n",
        "\\begin{equation}\n",
        "\\hat\\theta = \\frac{\\mathbf{x}^\\top \\mathbf{y}}{\\mathbf{x}^\\top \\mathbf{x}}\n",
        "\\end{equation}\n",
        "\n",
        "<br>\n",
        "\n",
        "This is known as solving the *normal equations*. For different ways of obtaining the solution, see the notes on [Least Squares Optimization](https://www.cns.nyu.edu/~eero/NOTES/leastSquares.pdf) by Eero Simoncelli."
      ]
    }
  ],
  "metadata": {
    "celltoolbar": "Slideshow",
    "colab": {
      "name": "W1D2_Tutorial1",
      "provenance": [],
      "toc_visible": true,
      "include_colab_link": true
    },
    "kernel": {
      "display_name": "Python 3",
      "language": "python",
      "name": "python3"
    },
    "kernelspec": {
      "display_name": "Python 3",
      "language": "python",
      "name": "python3"
    },
    "language_info": {
      "codemirror_mode": {
        "name": "ipython",
        "version": 3
      },
      "file_extension": ".py",
      "mimetype": "text/x-python",
      "name": "python",
      "nbconvert_exporter": "python",
      "pygments_lexer": "ipython3",
      "version": "3.9.21"
    },
    "widgets": {
      "application/vnd.jupyter.widget-state+json": {
        "57283695291a4ec8a3d77bd34a792ea3": {
          "model_module": "@jupyter-widgets/controls",
          "model_name": "TabModel",
          "model_module_version": "1.5.0",
          "state": {
            "_dom_classes": [],
            "_model_module": "@jupyter-widgets/controls",
            "_model_module_version": "1.5.0",
            "_model_name": "TabModel",
            "_titles": {
              "0": "Youtube",
              "1": "Bilibili"
            },
            "_view_count": null,
            "_view_module": "@jupyter-widgets/controls",
            "_view_module_version": "1.5.0",
            "_view_name": "TabView",
            "box_style": "",
            "children": [
              "IPY_MODEL_7036575cc7164697b642521b29366f1b",
              "IPY_MODEL_77ba7475b55d4664bd894292b4afd9df"
            ],
            "layout": "IPY_MODEL_3360c00eedaf4a9d9c6ba653a3600ddb",
            "selected_index": 0
          }
        },
        "7036575cc7164697b642521b29366f1b": {
          "model_module": "@jupyter-widgets/output",
          "model_name": "OutputModel",
          "model_module_version": "1.0.0",
          "state": {
            "_dom_classes": [],
            "_model_module": "@jupyter-widgets/output",
            "_model_module_version": "1.0.0",
            "_model_name": "OutputModel",
            "_view_count": null,
            "_view_module": "@jupyter-widgets/output",
            "_view_module_version": "1.0.0",
            "_view_name": "OutputView",
            "layout": "IPY_MODEL_327dc27d214b441c9cab65ddff1e3487",
            "msg_id": "",
            "outputs": [
              {
                "output_type": "stream",
                "name": "stdout",
                "text": [
                  "Video available at https://youtube.com/watch?v=HumajfjJ37E\n"
                ]
              },
              {
                "output_type": "display_data",
                "data": {
                  "text/plain": "<IPython.lib.display.YouTubeVideo at 0x79c756283fd0>",
                  "text/html": "\n        <iframe\n            width=\"854\"\n            height=\"480\"\n            src=\"https://www.youtube.com/embed/HumajfjJ37E?fs=1&rel=0\"\n            frameborder=\"0\"\n            allowfullscreen\n            \n        ></iframe>\n        ",
                  "image/jpeg": "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\n"
                },
                "metadata": {}
              }
            ]
          }
        },
        "77ba7475b55d4664bd894292b4afd9df": {
          "model_module": "@jupyter-widgets/output",
          "model_name": "OutputModel",
          "model_module_version": "1.0.0",
          "state": {
            "_dom_classes": [],
            "_model_module": "@jupyter-widgets/output",
            "_model_module_version": "1.0.0",
            "_model_name": "OutputModel",
            "_view_count": null,
            "_view_module": "@jupyter-widgets/output",
            "_view_module_version": "1.0.0",
            "_view_name": "OutputView",
            "layout": "IPY_MODEL_b5ee96a1cfa944fa85928d1a602495f2",
            "msg_id": "",
            "outputs": [
              {
                "output_type": "stream",
                "name": "stdout",
                "text": [
                  "Video available at https://www.bilibili.com/video/BV1tA411e7NW\n"
                ]
              },
              {
                "output_type": "display_data",
                "data": {
                  "text/plain": "<__main__.PlayVideo at 0x79c7562b6010>",
                  "text/html": "\n        <iframe\n            width=\"854\"\n            height=\"480\"\n            src=\"https://player.bilibili.com/player.html?bvid=BV1tA411e7NW&page=1?fs=1&autoplay=False\"\n            frameborder=\"0\"\n            allowfullscreen\n            \n        ></iframe>\n        "
                },
                "metadata": {}
              }
            ]
          }
        },
        "3360c00eedaf4a9d9c6ba653a3600ddb": {
          "model_module": "@jupyter-widgets/base",
          "model_name": "LayoutModel",
          "model_module_version": "1.2.0",
          "state": {
            "_model_module": "@jupyter-widgets/base",
            "_model_module_version": "1.2.0",
            "_model_name": "LayoutModel",
            "_view_count": null,
            "_view_module": "@jupyter-widgets/base",
            "_view_module_version": "1.2.0",
            "_view_name": "LayoutView",
            "align_content": null,
            "align_items": null,
            "align_self": null,
            "border": null,
            "bottom": null,
            "display": null,
            "flex": null,
            "flex_flow": null,
            "grid_area": null,
            "grid_auto_columns": null,
            "grid_auto_flow": null,
            "grid_auto_rows": null,
            "grid_column": null,
            "grid_gap": null,
            "grid_row": null,
            "grid_template_areas": null,
            "grid_template_columns": null,
            "grid_template_rows": null,
            "height": null,
            "justify_content": null,
            "justify_items": null,
            "left": null,
            "margin": null,
            "max_height": null,
            "max_width": null,
            "min_height": null,
            "min_width": null,
            "object_fit": null,
            "object_position": null,
            "order": null,
            "overflow": null,
            "overflow_x": null,
            "overflow_y": null,
            "padding": null,
            "right": null,
            "top": null,
            "visibility": null,
            "width": null
          }
        },
        "327dc27d214b441c9cab65ddff1e3487": {
          "model_module": "@jupyter-widgets/base",
          "model_name": "LayoutModel",
          "model_module_version": "1.2.0",
          "state": {
            "_model_module": "@jupyter-widgets/base",
            "_model_module_version": "1.2.0",
            "_model_name": "LayoutModel",
            "_view_count": null,
            "_view_module": "@jupyter-widgets/base",
            "_view_module_version": "1.2.0",
            "_view_name": "LayoutView",
            "align_content": null,
            "align_items": null,
            "align_self": null,
            "border": null,
            "bottom": null,
            "display": null,
            "flex": null,
            "flex_flow": null,
            "grid_area": null,
            "grid_auto_columns": null,
            "grid_auto_flow": null,
            "grid_auto_rows": null,
            "grid_column": null,
            "grid_gap": null,
            "grid_row": null,
            "grid_template_areas": null,
            "grid_template_columns": null,
            "grid_template_rows": null,
            "height": null,
            "justify_content": null,
            "justify_items": null,
            "left": null,
            "margin": null,
            "max_height": null,
            "max_width": null,
            "min_height": null,
            "min_width": null,
            "object_fit": null,
            "object_position": null,
            "order": null,
            "overflow": null,
            "overflow_x": null,
            "overflow_y": null,
            "padding": null,
            "right": null,
            "top": null,
            "visibility": null,
            "width": null
          }
        },
        "b5ee96a1cfa944fa85928d1a602495f2": {
          "model_module": "@jupyter-widgets/base",
          "model_name": "LayoutModel",
          "model_module_version": "1.2.0",
          "state": {
            "_model_module": "@jupyter-widgets/base",
            "_model_module_version": "1.2.0",
            "_model_name": "LayoutModel",
            "_view_count": null,
            "_view_module": "@jupyter-widgets/base",
            "_view_module_version": "1.2.0",
            "_view_name": "LayoutView",
            "align_content": null,
            "align_items": null,
            "align_self": null,
            "border": null,
            "bottom": null,
            "display": null,
            "flex": null,
            "flex_flow": null,
            "grid_area": null,
            "grid_auto_columns": null,
            "grid_auto_flow": null,
            "grid_auto_rows": null,
            "grid_column": null,
            "grid_gap": null,
            "grid_row": null,
            "grid_template_areas": null,
            "grid_template_columns": null,
            "grid_template_rows": null,
            "height": null,
            "justify_content": null,
            "justify_items": null,
            "left": null,
            "margin": null,
            "max_height": null,
            "max_width": null,
            "min_height": null,
            "min_width": null,
            "object_fit": null,
            "object_position": null,
            "order": null,
            "overflow": null,
            "overflow_x": null,
            "overflow_y": null,
            "padding": null,
            "right": null,
            "top": null,
            "visibility": null,
            "width": null
          }
        },
        "df17c2450aab49fb9af78029f57bfe8d": {
          "model_module": "@jupyter-widgets/controls",
          "model_name": "VBoxModel",
          "model_module_version": "1.5.0",
          "state": {
            "_dom_classes": [],
            "_model_module": "@jupyter-widgets/controls",
            "_model_module_version": "1.5.0",
            "_model_name": "VBoxModel",
            "_view_count": null,
            "_view_module": "@jupyter-widgets/controls",
            "_view_module_version": "1.5.0",
            "_view_name": "VBoxView",
            "box_style": "",
            "children": [
              "IPY_MODEL_3c16a60329774905a85715a1d05c23d7"
            ],
            "layout": "IPY_MODEL_7c986a6d5af94407b0801a87d60bd3ce"
          }
        },
        "3c16a60329774905a85715a1d05c23d7": {
          "model_module": "@jupyter-widgets/controls",
          "model_name": "VBoxModel",
          "model_module_version": "1.5.0",
          "state": {
            "_dom_classes": [],
            "_model_module": "@jupyter-widgets/controls",
            "_model_module_version": "1.5.0",
            "_model_name": "VBoxModel",
            "_view_count": null,
            "_view_module": "@jupyter-widgets/controls",
            "_view_module_version": "1.5.0",
            "_view_name": "VBoxView",
            "box_style": "",
            "children": [
              "IPY_MODEL_5e7a892fbeb24956a0c51850df2885a0",
              "IPY_MODEL_afd3a33735474e0795d36d09d7b8eb7e",
              "IPY_MODEL_f6d93b748adf4c46be940ff28ba557d5"
            ],
            "layout": "IPY_MODEL_19dbf3f297bc4e8ca3ac5ab62b77254d"
          }
        },
        "7c986a6d5af94407b0801a87d60bd3ce": {
          "model_module": "@jupyter-widgets/base",
          "model_name": "LayoutModel",
          "model_module_version": "1.2.0",
          "state": {
            "_model_module": "@jupyter-widgets/base",
            "_model_module_version": "1.2.0",
            "_model_name": "LayoutModel",
            "_view_count": null,
            "_view_module": "@jupyter-widgets/base",
            "_view_module_version": "1.2.0",
            "_view_name": "LayoutView",
            "align_content": null,
            "align_items": null,
            "align_self": null,
            "border": null,
            "bottom": null,
            "display": null,
            "flex": null,
            "flex_flow": null,
            "grid_area": null,
            "grid_auto_columns": null,
            "grid_auto_flow": null,
            "grid_auto_rows": null,
            "grid_column": null,
            "grid_gap": null,
            "grid_row": null,
            "grid_template_areas": null,
            "grid_template_columns": null,
            "grid_template_rows": null,
            "height": null,
            "justify_content": null,
            "justify_items": null,
            "left": null,
            "margin": null,
            "max_height": null,
            "max_width": null,
            "min_height": null,
            "min_width": null,
            "object_fit": null,
            "object_position": null,
            "order": null,
            "overflow": null,
            "overflow_x": null,
            "overflow_y": null,
            "padding": null,
            "right": null,
            "top": null,
            "visibility": null,
            "width": null
          }
        },
        "5e7a892fbeb24956a0c51850df2885a0": {
          "model_module": "@jupyter-widgets/controls",
          "model_name": "HBoxModel",
          "model_module_version": "1.5.0",
          "state": {
            "_dom_classes": [],
            "_model_module": "@jupyter-widgets/controls",
            "_model_module_version": "1.5.0",
            "_model_name": "HBoxModel",
            "_view_count": null,
            "_view_module": "@jupyter-widgets/controls",
            "_view_module_version": "1.5.0",
            "_view_name": "HBoxView",
            "box_style": "",
            "children": [
              "IPY_MODEL_807276883a694ee183fbdc51abb9edb0",
              "IPY_MODEL_30063803e2cf4b9996530ec384714eab",
              "IPY_MODEL_fb94470590e640e0b8eebe895d577121"
            ],
            "layout": "IPY_MODEL_0a652331da2a4cef97b82dacdb9236d4"
          }
        },
        "afd3a33735474e0795d36d09d7b8eb7e": {
          "model_module": "@jupyter-widgets/controls",
          "model_name": "HBoxModel",
          "model_module_version": "1.5.0",
          "state": {
            "_dom_classes": [],
            "_model_module": "@jupyter-widgets/controls",
            "_model_module_version": "1.5.0",
            "_model_name": "HBoxModel",
            "_view_count": null,
            "_view_module": "@jupyter-widgets/controls",
            "_view_module_version": "1.5.0",
            "_view_name": "HBoxView",
            "box_style": "",
            "children": [
              "IPY_MODEL_2c4cca1239d74122b16036a55a563d55",
              "IPY_MODEL_dbe0e6e0ec3c4962b81356263604d503"
            ],
            "layout": "IPY_MODEL_99b9386ca22843618d38e9da60c96095"
          }
        },
        "f6d93b748adf4c46be940ff28ba557d5": {
          "model_module": "@jupyter-widgets/controls",
          "model_name": "LabelModel",
          "model_module_version": "1.5.0",
          "state": {
            "_dom_classes": [],
            "_model_module": "@jupyter-widgets/controls",
            "_model_module_version": "1.5.0",
            "_model_name": "LabelModel",
            "_view_count": null,
            "_view_module": "@jupyter-widgets/controls",
            "_view_module_version": "1.5.0",
            "_view_name": "LabelView",
            "description": "",
            "description_tooltip": null,
            "layout": "IPY_MODEL_4701def8f7e546d2a7b5d6b5bc7dd771",
            "placeholder": "​",
            "style": "IPY_MODEL_242830b834454f1597b176b5051a0b23",
            "value": "Thanks for your feedback!"
          }
        },
        "19dbf3f297bc4e8ca3ac5ab62b77254d": {
          "model_module": "@jupyter-widgets/base",
          "model_name": "LayoutModel",
          "model_module_version": "1.2.0",
          "state": {
            "_model_module": "@jupyter-widgets/base",
            "_model_module_version": "1.2.0",
            "_model_name": "LayoutModel",
            "_view_count": null,
            "_view_module": "@jupyter-widgets/base",
            "_view_module_version": "1.2.0",
            "_view_name": "LayoutView",
            "align_content": null,
            "align_items": null,
            "align_self": null,
            "border": null,
            "bottom": null,
            "display": null,
            "flex": null,
            "flex_flow": null,
            "grid_area": null,
            "grid_auto_columns": null,
            "grid_auto_flow": null,
            "grid_auto_rows": null,
            "grid_column": null,
            "grid_gap": null,
            "grid_row": null,
            "grid_template_areas": null,
            "grid_template_columns": null,
            "grid_template_rows": null,
            "height": null,
            "justify_content": null,
            "justify_items": null,
            "left": null,
            "margin": null,
            "max_height": null,
            "max_width": null,
            "min_height": null,
            "min_width": null,
            "object_fit": null,
            "object_position": null,
            "order": null,
            "overflow": null,
            "overflow_x": null,
            "overflow_y": null,
            "padding": null,
            "right": null,
            "top": null,
            "visibility": null,
            "width": null
          }
        },
        "807276883a694ee183fbdc51abb9edb0": {
          "model_module": "@jupyter-widgets/controls",
          "model_name": "ButtonModel",
          "model_module_version": "1.5.0",
          "state": {
            "_dom_classes": [
              "happy"
            ],
            "_model_module": "@jupyter-widgets/controls",
            "_model_module_version": "1.5.0",
            "_model_name": "ButtonModel",
            "_view_count": null,
            "_view_module": "@jupyter-widgets/controls",
            "_view_module_version": "1.5.0",
            "_view_name": "ButtonView",
            "button_style": "",
            "description": "🙂",
            "disabled": false,
            "icon": "",
            "layout": "IPY_MODEL_5586b081b4014769a5916dfa7256ceab",
            "style": "IPY_MODEL_f6c867bafaba4bd891be2be37e442477",
            "tooltip": "happy"
          }
        },
        "30063803e2cf4b9996530ec384714eab": {
          "model_module": "@jupyter-widgets/controls",
          "model_name": "ButtonModel",
          "model_module_version": "1.5.0",
          "state": {
            "_dom_classes": [
              "medium"
            ],
            "_model_module": "@jupyter-widgets/controls",
            "_model_module_version": "1.5.0",
            "_model_name": "ButtonModel",
            "_view_count": null,
            "_view_module": "@jupyter-widgets/controls",
            "_view_module_version": "1.5.0",
            "_view_name": "ButtonView",
            "button_style": "",
            "description": "😐",
            "disabled": false,
            "icon": "",
            "layout": "IPY_MODEL_247942b587894f4b976f82fff5648f0d",
            "style": "IPY_MODEL_d501d72baec643afb34a327b7959c4fa",
            "tooltip": "medium"
          }
        },
        "fb94470590e640e0b8eebe895d577121": {
          "model_module": "@jupyter-widgets/controls",
          "model_name": "ButtonModel",
          "model_module_version": "1.5.0",
          "state": {
            "_dom_classes": [
              "sad"
            ],
            "_model_module": "@jupyter-widgets/controls",
            "_model_module_version": "1.5.0",
            "_model_name": "ButtonModel",
            "_view_count": null,
            "_view_module": "@jupyter-widgets/controls",
            "_view_module_version": "1.5.0",
            "_view_name": "ButtonView",
            "button_style": "",
            "description": "🙁",
            "disabled": false,
            "icon": "",
            "layout": "IPY_MODEL_6778dd3b966e4d6c8300c71e13fa6efd",
            "style": "IPY_MODEL_8a1c36c070554254b61b457af8b3620c",
            "tooltip": "sad"
          }
        },
        "0a652331da2a4cef97b82dacdb9236d4": {
          "model_module": "@jupyter-widgets/base",
          "model_name": "LayoutModel",
          "model_module_version": "1.2.0",
          "state": {
            "_model_module": "@jupyter-widgets/base",
            "_model_module_version": "1.2.0",
            "_model_name": "LayoutModel",
            "_view_count": null,
            "_view_module": "@jupyter-widgets/base",
            "_view_module_version": "1.2.0",
            "_view_name": "LayoutView",
            "align_content": null,
            "align_items": null,
            "align_self": null,
            "border": null,
            "bottom": null,
            "display": null,
            "flex": null,
            "flex_flow": null,
            "grid_area": null,
            "grid_auto_columns": null,
            "grid_auto_flow": null,
            "grid_auto_rows": null,
            "grid_column": null,
            "grid_gap": null,
            "grid_row": null,
            "grid_template_areas": null,
            "grid_template_columns": null,
            "grid_template_rows": null,
            "height": null,
            "justify_content": null,
            "justify_items": null,
            "left": null,
            "margin": null,
            "max_height": null,
            "max_width": null,
            "min_height": null,
            "min_width": null,
            "object_fit": null,
            "object_position": null,
            "order": null,
            "overflow": null,
            "overflow_x": null,
            "overflow_y": null,
            "padding": null,
            "right": null,
            "top": null,
            "visibility": null,
            "width": null
          }
        },
        "2c4cca1239d74122b16036a55a563d55": {
          "model_module": "@jupyter-widgets/controls",
          "model_name": "TextareaModel",
          "model_module_version": "1.5.0",
          "state": {
            "_dom_classes": [],
            "_model_module": "@jupyter-widgets/controls",
            "_model_module_version": "1.5.0",
            "_model_name": "TextareaModel",
            "_view_count": null,
            "_view_module": "@jupyter-widgets/controls",
            "_view_module_version": "1.5.0",
            "_view_name": "TextareaView",
            "continuous_update": true,
            "description": "",
            "description_tooltip": null,
            "disabled": false,
            "layout": "IPY_MODEL_a55601b926514ad0baae5dec335cfd94",
            "placeholder": "We want your feedback!",
            "rows": null,
            "style": "IPY_MODEL_f1a2bf162d5d48559ca6c270be8ee141",
            "value": ""
          }
        },
        "dbe0e6e0ec3c4962b81356263604d503": {
          "model_module": "@jupyter-widgets/controls",
          "model_name": "ButtonModel",
          "model_module_version": "1.5.0",
          "state": {
            "_dom_classes": [],
            "_model_module": "@jupyter-widgets/controls",
            "_model_module_version": "1.5.0",
            "_model_name": "ButtonModel",
            "_view_count": null,
            "_view_module": "@jupyter-widgets/controls",
            "_view_module_version": "1.5.0",
            "_view_name": "ButtonView",
            "button_style": "",
            "description": "Submit",
            "disabled": false,
            "icon": "",
            "layout": "IPY_MODEL_b9e34f64bcf9418a9962ec3be0a50556",
            "style": "IPY_MODEL_299206f541f8462699ef8a5257773d7b",
            "tooltip": ""
          }
        },
        "99b9386ca22843618d38e9da60c96095": {
          "model_module": "@jupyter-widgets/base",
          "model_name": "LayoutModel",
          "model_module_version": "1.2.0",
          "state": {
            "_model_module": "@jupyter-widgets/base",
            "_model_module_version": "1.2.0",
            "_model_name": "LayoutModel",
            "_view_count": null,
            "_view_module": "@jupyter-widgets/base",
            "_view_module_version": "1.2.0",
            "_view_name": "LayoutView",
            "align_content": null,
            "align_items": null,
            "align_self": null,
            "border": null,
            "bottom": null,
            "display": "none",
            "flex": null,
            "flex_flow": null,
            "grid_area": null,
            "grid_auto_columns": null,
            "grid_auto_flow": null,
            "grid_auto_rows": null,
            "grid_column": null,
            "grid_gap": null,
            "grid_row": null,
            "grid_template_areas": null,
            "grid_template_columns": null,
            "grid_template_rows": null,
            "height": null,
            "justify_content": null,
            "justify_items": null,
            "left": null,
            "margin": null,
            "max_height": null,
            "max_width": null,
            "min_height": null,
            "min_width": null,
            "object_fit": null,
            "object_position": null,
            "order": null,
            "overflow": null,
            "overflow_x": null,
            "overflow_y": null,
            "padding": null,
            "right": null,
            "top": null,
            "visibility": null,
            "width": null
          }
        },
        "4701def8f7e546d2a7b5d6b5bc7dd771": {
          "model_module": "@jupyter-widgets/base",
          "model_name": "LayoutModel",
          "model_module_version": "1.2.0",
          "state": {
            "_model_module": "@jupyter-widgets/base",
            "_model_module_version": "1.2.0",
            "_model_name": "LayoutModel",
            "_view_count": null,
            "_view_module": "@jupyter-widgets/base",
            "_view_module_version": "1.2.0",
            "_view_name": "LayoutView",
            "align_content": null,
            "align_items": null,
            "align_self": null,
            "border": null,
            "bottom": null,
            "display": "block",
            "flex": null,
            "flex_flow": null,
            "grid_area": null,
            "grid_auto_columns": null,
            "grid_auto_flow": null,
            "grid_auto_rows": null,
            "grid_column": null,
            "grid_gap": null,
            "grid_row": null,
            "grid_template_areas": null,
            "grid_template_columns": null,
            "grid_template_rows": null,
            "height": null,
            "justify_content": null,
            "justify_items": null,
            "left": null,
            "margin": null,
            "max_height": null,
            "max_width": null,
            "min_height": null,
            "min_width": null,
            "object_fit": null,
            "object_position": null,
            "order": null,
            "overflow": null,
            "overflow_x": null,
            "overflow_y": null,
            "padding": null,
            "right": null,
            "top": null,
            "visibility": null,
            "width": null
          }
        },
        "242830b834454f1597b176b5051a0b23": {
          "model_module": "@jupyter-widgets/controls",
          "model_name": "DescriptionStyleModel",
          "model_module_version": "1.5.0",
          "state": {
            "_model_module": "@jupyter-widgets/controls",
            "_model_module_version": "1.5.0",
            "_model_name": "DescriptionStyleModel",
            "_view_count": null,
            "_view_module": "@jupyter-widgets/base",
            "_view_module_version": "1.2.0",
            "_view_name": "StyleView",
            "description_width": ""
          }
        },
        "5586b081b4014769a5916dfa7256ceab": {
          "model_module": "@jupyter-widgets/base",
          "model_name": "LayoutModel",
          "model_module_version": "1.2.0",
          "state": {
            "_model_module": "@jupyter-widgets/base",
            "_model_module_version": "1.2.0",
            "_model_name": "LayoutModel",
            "_view_count": null,
            "_view_module": "@jupyter-widgets/base",
            "_view_module_version": "1.2.0",
            "_view_name": "LayoutView",
            "align_content": null,
            "align_items": null,
            "align_self": null,
            "border": "2px solid #666666",
            "bottom": null,
            "display": null,
            "flex": null,
            "flex_flow": null,
            "grid_area": null,
            "grid_auto_columns": null,
            "grid_auto_flow": null,
            "grid_auto_rows": null,
            "grid_column": null,
            "grid_gap": null,
            "grid_row": null,
            "grid_template_areas": null,
            "grid_template_columns": null,
            "grid_template_rows": null,
            "height": "auto",
            "justify_content": null,
            "justify_items": null,
            "left": null,
            "margin": null,
            "max_height": null,
            "max_width": null,
            "min_height": null,
            "min_width": null,
            "object_fit": null,
            "object_position": null,
            "order": null,
            "overflow": null,
            "overflow_x": null,
            "overflow_y": null,
            "padding": "0.5em",
            "right": null,
            "top": null,
            "visibility": null,
            "width": "auto"
          }
        },
        "f6c867bafaba4bd891be2be37e442477": {
          "model_module": "@jupyter-widgets/controls",
          "model_name": "ButtonStyleModel",
          "model_module_version": "1.5.0",
          "state": {
            "_model_module": "@jupyter-widgets/controls",
            "_model_module_version": "1.5.0",
            "_model_name": "ButtonStyleModel",
            "_view_count": null,
            "_view_module": "@jupyter-widgets/base",
            "_view_module_version": "1.2.0",
            "_view_name": "StyleView",
            "button_color": "#aaffaa",
            "font_weight": ""
          }
        },
        "247942b587894f4b976f82fff5648f0d": {
          "model_module": "@jupyter-widgets/base",
          "model_name": "LayoutModel",
          "model_module_version": "1.2.0",
          "state": {
            "_model_module": "@jupyter-widgets/base",
            "_model_module_version": "1.2.0",
            "_model_name": "LayoutModel",
            "_view_count": null,
            "_view_module": "@jupyter-widgets/base",
            "_view_module_version": "1.2.0",
            "_view_name": "LayoutView",
            "align_content": null,
            "align_items": null,
            "align_self": null,
            "border": null,
            "bottom": null,
            "display": null,
            "flex": null,
            "flex_flow": null,
            "grid_area": null,
            "grid_auto_columns": null,
            "grid_auto_flow": null,
            "grid_auto_rows": null,
            "grid_column": null,
            "grid_gap": null,
            "grid_row": null,
            "grid_template_areas": null,
            "grid_template_columns": null,
            "grid_template_rows": null,
            "height": "auto",
            "justify_content": null,
            "justify_items": null,
            "left": null,
            "margin": null,
            "max_height": null,
            "max_width": null,
            "min_height": null,
            "min_width": null,
            "object_fit": null,
            "object_position": null,
            "order": null,
            "overflow": null,
            "overflow_x": null,
            "overflow_y": null,
            "padding": "0.5em",
            "right": null,
            "top": null,
            "visibility": null,
            "width": "auto"
          }
        },
        "d501d72baec643afb34a327b7959c4fa": {
          "model_module": "@jupyter-widgets/controls",
          "model_name": "ButtonStyleModel",
          "model_module_version": "1.5.0",
          "state": {
            "_model_module": "@jupyter-widgets/controls",
            "_model_module_version": "1.5.0",
            "_model_name": "ButtonStyleModel",
            "_view_count": null,
            "_view_module": "@jupyter-widgets/base",
            "_view_module_version": "1.2.0",
            "_view_name": "StyleView",
            "button_color": "#dddd77",
            "font_weight": ""
          }
        },
        "6778dd3b966e4d6c8300c71e13fa6efd": {
          "model_module": "@jupyter-widgets/base",
          "model_name": "LayoutModel",
          "model_module_version": "1.2.0",
          "state": {
            "_model_module": "@jupyter-widgets/base",
            "_model_module_version": "1.2.0",
            "_model_name": "LayoutModel",
            "_view_count": null,
            "_view_module": "@jupyter-widgets/base",
            "_view_module_version": "1.2.0",
            "_view_name": "LayoutView",
            "align_content": null,
            "align_items": null,
            "align_self": null,
            "border": null,
            "bottom": null,
            "display": null,
            "flex": null,
            "flex_flow": null,
            "grid_area": null,
            "grid_auto_columns": null,
            "grid_auto_flow": null,
            "grid_auto_rows": null,
            "grid_column": null,
            "grid_gap": null,
            "grid_row": null,
            "grid_template_areas": null,
            "grid_template_columns": null,
            "grid_template_rows": null,
            "height": "auto",
            "justify_content": null,
            "justify_items": null,
            "left": null,
            "margin": null,
            "max_height": null,
            "max_width": null,
            "min_height": null,
            "min_width": null,
            "object_fit": null,
            "object_position": null,
            "order": null,
            "overflow": null,
            "overflow_x": null,
            "overflow_y": null,
            "padding": "0.5em",
            "right": null,
            "top": null,
            "visibility": null,
            "width": "auto"
          }
        },
        "8a1c36c070554254b61b457af8b3620c": {
          "model_module": "@jupyter-widgets/controls",
          "model_name": "ButtonStyleModel",
          "model_module_version": "1.5.0",
          "state": {
            "_model_module": "@jupyter-widgets/controls",
            "_model_module_version": "1.5.0",
            "_model_name": "ButtonStyleModel",
            "_view_count": null,
            "_view_module": "@jupyter-widgets/base",
            "_view_module_version": "1.2.0",
            "_view_name": "StyleView",
            "button_color": "#ffaaaa",
            "font_weight": ""
          }
        },
        "a55601b926514ad0baae5dec335cfd94": {
          "model_module": "@jupyter-widgets/base",
          "model_name": "LayoutModel",
          "model_module_version": "1.2.0",
          "state": {
            "_model_module": "@jupyter-widgets/base",
            "_model_module_version": "1.2.0",
            "_model_name": "LayoutModel",
            "_view_count": null,
            "_view_module": "@jupyter-widgets/base",
            "_view_module_version": "1.2.0",
            "_view_name": "LayoutView",
            "align_content": null,
            "align_items": null,
            "align_self": null,
            "border": null,
            "bottom": null,
            "display": null,
            "flex": null,
            "flex_flow": null,
            "grid_area": null,
            "grid_auto_columns": null,
            "grid_auto_flow": null,
            "grid_auto_rows": null,
            "grid_column": null,
            "grid_gap": null,
            "grid_row": null,
            "grid_template_areas": null,
            "grid_template_columns": null,
            "grid_template_rows": null,
            "height": "auto",
            "justify_content": null,
            "justify_items": null,
            "left": null,
            "margin": null,
            "max_height": null,
            "max_width": null,
            "min_height": null,
            "min_width": null,
            "object_fit": null,
            "object_position": null,
            "order": null,
            "overflow": null,
            "overflow_x": null,
            "overflow_y": null,
            "padding": null,
            "right": null,
            "top": null,
            "visibility": null,
            "width": "auto"
          }
        },
        "f1a2bf162d5d48559ca6c270be8ee141": {
          "model_module": "@jupyter-widgets/controls",
          "model_name": "DescriptionStyleModel",
          "model_module_version": "1.5.0",
          "state": {
            "_model_module": "@jupyter-widgets/controls",
            "_model_module_version": "1.5.0",
            "_model_name": "DescriptionStyleModel",
            "_view_count": null,
            "_view_module": "@jupyter-widgets/base",
            "_view_module_version": "1.2.0",
            "_view_name": "StyleView",
            "description_width": ""
          }
        },
        "b9e34f64bcf9418a9962ec3be0a50556": {
          "model_module": "@jupyter-widgets/base",
          "model_name": "LayoutModel",
          "model_module_version": "1.2.0",
          "state": {
            "_model_module": "@jupyter-widgets/base",
            "_model_module_version": "1.2.0",
            "_model_name": "LayoutModel",
            "_view_count": null,
            "_view_module": "@jupyter-widgets/base",
            "_view_module_version": "1.2.0",
            "_view_name": "LayoutView",
            "align_content": null,
            "align_items": null,
            "align_self": null,
            "border": null,
            "bottom": null,
            "display": null,
            "flex": null,
            "flex_flow": null,
            "grid_area": null,
            "grid_auto_columns": null,
            "grid_auto_flow": null,
            "grid_auto_rows": null,
            "grid_column": null,
            "grid_gap": null,
            "grid_row": null,
            "grid_template_areas": null,
            "grid_template_columns": null,
            "grid_template_rows": null,
            "height": "auto",
            "justify_content": null,
            "justify_items": null,
            "left": null,
            "margin": null,
            "max_height": null,
            "max_width": null,
            "min_height": null,
            "min_width": null,
            "object_fit": null,
            "object_position": null,
            "order": null,
            "overflow": null,
            "overflow_x": null,
            "overflow_y": null,
            "padding": null,
            "right": null,
            "top": null,
            "visibility": null,
            "width": "auto"
          }
        },
        "299206f541f8462699ef8a5257773d7b": {
          "model_module": "@jupyter-widgets/controls",
          "model_name": "ButtonStyleModel",
          "model_module_version": "1.5.0",
          "state": {
            "_model_module": "@jupyter-widgets/controls",
            "_model_module_version": "1.5.0",
            "_model_name": "ButtonStyleModel",
            "_view_count": null,
            "_view_module": "@jupyter-widgets/base",
            "_view_module_version": "1.2.0",
            "_view_name": "StyleView",
            "button_color": null,
            "font_weight": ""
          }
        },
        "2bc28a9de16d4c4ba338884e8a90ed1c": {
          "model_module": "@jupyter-widgets/controls",
          "model_name": "VBoxModel",
          "model_module_version": "1.5.0",
          "state": {
            "_dom_classes": [],
            "_model_module": "@jupyter-widgets/controls",
            "_model_module_version": "1.5.0",
            "_model_name": "VBoxModel",
            "_view_count": null,
            "_view_module": "@jupyter-widgets/controls",
            "_view_module_version": "1.5.0",
            "_view_name": "VBoxView",
            "box_style": "",
            "children": [
              "IPY_MODEL_536725a71d4541e5b87467b91802c079"
            ],
            "layout": "IPY_MODEL_318862f3cb8e491aa1e57db4c127d0d1"
          }
        },
        "536725a71d4541e5b87467b91802c079": {
          "model_module": "@jupyter-widgets/controls",
          "model_name": "VBoxModel",
          "model_module_version": "1.5.0",
          "state": {
            "_dom_classes": [],
            "_model_module": "@jupyter-widgets/controls",
            "_model_module_version": "1.5.0",
            "_model_name": "VBoxModel",
            "_view_count": null,
            "_view_module": "@jupyter-widgets/controls",
            "_view_module_version": "1.5.0",
            "_view_name": "VBoxView",
            "box_style": "",
            "children": [
              "IPY_MODEL_d5d88e1179724a51914f6c33b01f7bed",
              "IPY_MODEL_978a6e9bce924449b63287f3424c11ab",
              "IPY_MODEL_e9db946feee54e418bb6713d424626c2"
            ],
            "layout": "IPY_MODEL_0bc548ae92f34e42887c9a6938193a75"
          }
        },
        "318862f3cb8e491aa1e57db4c127d0d1": {
          "model_module": "@jupyter-widgets/base",
          "model_name": "LayoutModel",
          "model_module_version": "1.2.0",
          "state": {
            "_model_module": "@jupyter-widgets/base",
            "_model_module_version": "1.2.0",
            "_model_name": "LayoutModel",
            "_view_count": null,
            "_view_module": "@jupyter-widgets/base",
            "_view_module_version": "1.2.0",
            "_view_name": "LayoutView",
            "align_content": null,
            "align_items": null,
            "align_self": null,
            "border": null,
            "bottom": null,
            "display": null,
            "flex": null,
            "flex_flow": null,
            "grid_area": null,
            "grid_auto_columns": null,
            "grid_auto_flow": null,
            "grid_auto_rows": null,
            "grid_column": null,
            "grid_gap": null,
            "grid_row": null,
            "grid_template_areas": null,
            "grid_template_columns": null,
            "grid_template_rows": null,
            "height": null,
            "justify_content": null,
            "justify_items": null,
            "left": null,
            "margin": null,
            "max_height": null,
            "max_width": null,
            "min_height": null,
            "min_width": null,
            "object_fit": null,
            "object_position": null,
            "order": null,
            "overflow": null,
            "overflow_x": null,
            "overflow_y": null,
            "padding": null,
            "right": null,
            "top": null,
            "visibility": null,
            "width": null
          }
        },
        "d5d88e1179724a51914f6c33b01f7bed": {
          "model_module": "@jupyter-widgets/controls",
          "model_name": "HBoxModel",
          "model_module_version": "1.5.0",
          "state": {
            "_dom_classes": [],
            "_model_module": "@jupyter-widgets/controls",
            "_model_module_version": "1.5.0",
            "_model_name": "HBoxModel",
            "_view_count": null,
            "_view_module": "@jupyter-widgets/controls",
            "_view_module_version": "1.5.0",
            "_view_name": "HBoxView",
            "box_style": "",
            "children": [
              "IPY_MODEL_4898e6a0b5e64803b1d7819d2babc6d1",
              "IPY_MODEL_5e67c1943189498e91eeb8b75a8463ec",
              "IPY_MODEL_b168c50094774ef3a8093830e5590846"
            ],
            "layout": "IPY_MODEL_d794a471052b41f8ab086e010b41c009"
          }
        },
        "978a6e9bce924449b63287f3424c11ab": {
          "model_module": "@jupyter-widgets/controls",
          "model_name": "HBoxModel",
          "model_module_version": "1.5.0",
          "state": {
            "_dom_classes": [],
            "_model_module": "@jupyter-widgets/controls",
            "_model_module_version": "1.5.0",
            "_model_name": "HBoxModel",
            "_view_count": null,
            "_view_module": "@jupyter-widgets/controls",
            "_view_module_version": "1.5.0",
            "_view_name": "HBoxView",
            "box_style": "",
            "children": [
              "IPY_MODEL_7643ab795a7d4d10ab9ab5df0ad6a458",
              "IPY_MODEL_4f330f26fcf7495bae72590ced6d117f"
            ],
            "layout": "IPY_MODEL_99c8474577f54e98b7d111ad395e91f0"
          }
        },
        "e9db946feee54e418bb6713d424626c2": {
          "model_module": "@jupyter-widgets/controls",
          "model_name": "LabelModel",
          "model_module_version": "1.5.0",
          "state": {
            "_dom_classes": [],
            "_model_module": "@jupyter-widgets/controls",
            "_model_module_version": "1.5.0",
            "_model_name": "LabelModel",
            "_view_count": null,
            "_view_module": "@jupyter-widgets/controls",
            "_view_module_version": "1.5.0",
            "_view_name": "LabelView",
            "description": "",
            "description_tooltip": null,
            "layout": "IPY_MODEL_3aac705f0f8c494fb8a5cec8ca5aaf65",
            "placeholder": "​",
            "style": "IPY_MODEL_4aa4d1e9e20c4ef2912f36abe8fa9c95",
            "value": "Thanks for your feedback!"
          }
        },
        "0bc548ae92f34e42887c9a6938193a75": {
          "model_module": "@jupyter-widgets/base",
          "model_name": "LayoutModel",
          "model_module_version": "1.2.0",
          "state": {
            "_model_module": "@jupyter-widgets/base",
            "_model_module_version": "1.2.0",
            "_model_name": "LayoutModel",
            "_view_count": null,
            "_view_module": "@jupyter-widgets/base",
            "_view_module_version": "1.2.0",
            "_view_name": "LayoutView",
            "align_content": null,
            "align_items": null,
            "align_self": null,
            "border": null,
            "bottom": null,
            "display": null,
            "flex": null,
            "flex_flow": null,
            "grid_area": null,
            "grid_auto_columns": null,
            "grid_auto_flow": null,
            "grid_auto_rows": null,
            "grid_column": null,
            "grid_gap": null,
            "grid_row": null,
            "grid_template_areas": null,
            "grid_template_columns": null,
            "grid_template_rows": null,
            "height": null,
            "justify_content": null,
            "justify_items": null,
            "left": null,
            "margin": null,
            "max_height": null,
            "max_width": null,
            "min_height": null,
            "min_width": null,
            "object_fit": null,
            "object_position": null,
            "order": null,
            "overflow": null,
            "overflow_x": null,
            "overflow_y": null,
            "padding": null,
            "right": null,
            "top": null,
            "visibility": null,
            "width": null
          }
        },
        "4898e6a0b5e64803b1d7819d2babc6d1": {
          "model_module": "@jupyter-widgets/controls",
          "model_name": "ButtonModel",
          "model_module_version": "1.5.0",
          "state": {
            "_dom_classes": [
              "happy"
            ],
            "_model_module": "@jupyter-widgets/controls",
            "_model_module_version": "1.5.0",
            "_model_name": "ButtonModel",
            "_view_count": null,
            "_view_module": "@jupyter-widgets/controls",
            "_view_module_version": "1.5.0",
            "_view_name": "ButtonView",
            "button_style": "",
            "description": "🙂",
            "disabled": false,
            "icon": "",
            "layout": "IPY_MODEL_a09c2d080c5f49cfa20b89bfbb245e81",
            "style": "IPY_MODEL_42cdbc9857a949ecae3edf8d1242c5d0",
            "tooltip": "happy"
          }
        },
        "5e67c1943189498e91eeb8b75a8463ec": {
          "model_module": "@jupyter-widgets/controls",
          "model_name": "ButtonModel",
          "model_module_version": "1.5.0",
          "state": {
            "_dom_classes": [
              "medium"
            ],
            "_model_module": "@jupyter-widgets/controls",
            "_model_module_version": "1.5.0",
            "_model_name": "ButtonModel",
            "_view_count": null,
            "_view_module": "@jupyter-widgets/controls",
            "_view_module_version": "1.5.0",
            "_view_name": "ButtonView",
            "button_style": "",
            "description": "😐",
            "disabled": false,
            "icon": "",
            "layout": "IPY_MODEL_80bba4938e5f42e5829b5e9f5f8c1a06",
            "style": "IPY_MODEL_249337efc3944a159ef327a2aee38bdc",
            "tooltip": "medium"
          }
        },
        "b168c50094774ef3a8093830e5590846": {
          "model_module": "@jupyter-widgets/controls",
          "model_name": "ButtonModel",
          "model_module_version": "1.5.0",
          "state": {
            "_dom_classes": [
              "sad"
            ],
            "_model_module": "@jupyter-widgets/controls",
            "_model_module_version": "1.5.0",
            "_model_name": "ButtonModel",
            "_view_count": null,
            "_view_module": "@jupyter-widgets/controls",
            "_view_module_version": "1.5.0",
            "_view_name": "ButtonView",
            "button_style": "",
            "description": "🙁",
            "disabled": false,
            "icon": "",
            "layout": "IPY_MODEL_23f96967c12349d48dbb3e143de9dd57",
            "style": "IPY_MODEL_9f6e2f2e19bb4c25b2cdac01748306d4",
            "tooltip": "sad"
          }
        },
        "d794a471052b41f8ab086e010b41c009": {
          "model_module": "@jupyter-widgets/base",
          "model_name": "LayoutModel",
          "model_module_version": "1.2.0",
          "state": {
            "_model_module": "@jupyter-widgets/base",
            "_model_module_version": "1.2.0",
            "_model_name": "LayoutModel",
            "_view_count": null,
            "_view_module": "@jupyter-widgets/base",
            "_view_module_version": "1.2.0",
            "_view_name": "LayoutView",
            "align_content": null,
            "align_items": null,
            "align_self": null,
            "border": null,
            "bottom": null,
            "display": null,
            "flex": null,
            "flex_flow": null,
            "grid_area": null,
            "grid_auto_columns": null,
            "grid_auto_flow": null,
            "grid_auto_rows": null,
            "grid_column": null,
            "grid_gap": null,
            "grid_row": null,
            "grid_template_areas": null,
            "grid_template_columns": null,
            "grid_template_rows": null,
            "height": null,
            "justify_content": null,
            "justify_items": null,
            "left": null,
            "margin": null,
            "max_height": null,
            "max_width": null,
            "min_height": null,
            "min_width": null,
            "object_fit": null,
            "object_position": null,
            "order": null,
            "overflow": null,
            "overflow_x": null,
            "overflow_y": null,
            "padding": null,
            "right": null,
            "top": null,
            "visibility": null,
            "width": null
          }
        },
        "7643ab795a7d4d10ab9ab5df0ad6a458": {
          "model_module": "@jupyter-widgets/controls",
          "model_name": "TextareaModel",
          "model_module_version": "1.5.0",
          "state": {
            "_dom_classes": [],
            "_model_module": "@jupyter-widgets/controls",
            "_model_module_version": "1.5.0",
            "_model_name": "TextareaModel",
            "_view_count": null,
            "_view_module": "@jupyter-widgets/controls",
            "_view_module_version": "1.5.0",
            "_view_name": "TextareaView",
            "continuous_update": true,
            "description": "",
            "description_tooltip": null,
            "disabled": false,
            "layout": "IPY_MODEL_b101efabfe0340dabd3e56dd7e5558c6",
            "placeholder": "We want your feedback!",
            "rows": null,
            "style": "IPY_MODEL_4b1af1b6ab404d0f837dbc9be54700c4",
            "value": ""
          }
        },
        "4f330f26fcf7495bae72590ced6d117f": {
          "model_module": "@jupyter-widgets/controls",
          "model_name": "ButtonModel",
          "model_module_version": "1.5.0",
          "state": {
            "_dom_classes": [],
            "_model_module": "@jupyter-widgets/controls",
            "_model_module_version": "1.5.0",
            "_model_name": "ButtonModel",
            "_view_count": null,
            "_view_module": "@jupyter-widgets/controls",
            "_view_module_version": "1.5.0",
            "_view_name": "ButtonView",
            "button_style": "",
            "description": "Submit",
            "disabled": false,
            "icon": "",
            "layout": "IPY_MODEL_2b7714c64c5647cf8eefc55fe5b7f3ca",
            "style": "IPY_MODEL_94b2eafa3a5a42c99d9a80b71f14aa4a",
            "tooltip": ""
          }
        },
        "99c8474577f54e98b7d111ad395e91f0": {
          "model_module": "@jupyter-widgets/base",
          "model_name": "LayoutModel",
          "model_module_version": "1.2.0",
          "state": {
            "_model_module": "@jupyter-widgets/base",
            "_model_module_version": "1.2.0",
            "_model_name": "LayoutModel",
            "_view_count": null,
            "_view_module": "@jupyter-widgets/base",
            "_view_module_version": "1.2.0",
            "_view_name": "LayoutView",
            "align_content": null,
            "align_items": null,
            "align_self": null,
            "border": null,
            "bottom": null,
            "display": "none",
            "flex": null,
            "flex_flow": null,
            "grid_area": null,
            "grid_auto_columns": null,
            "grid_auto_flow": null,
            "grid_auto_rows": null,
            "grid_column": null,
            "grid_gap": null,
            "grid_row": null,
            "grid_template_areas": null,
            "grid_template_columns": null,
            "grid_template_rows": null,
            "height": null,
            "justify_content": null,
            "justify_items": null,
            "left": null,
            "margin": null,
            "max_height": null,
            "max_width": null,
            "min_height": null,
            "min_width": null,
            "object_fit": null,
            "object_position": null,
            "order": null,
            "overflow": null,
            "overflow_x": null,
            "overflow_y": null,
            "padding": null,
            "right": null,
            "top": null,
            "visibility": null,
            "width": null
          }
        },
        "3aac705f0f8c494fb8a5cec8ca5aaf65": {
          "model_module": "@jupyter-widgets/base",
          "model_name": "LayoutModel",
          "model_module_version": "1.2.0",
          "state": {
            "_model_module": "@jupyter-widgets/base",
            "_model_module_version": "1.2.0",
            "_model_name": "LayoutModel",
            "_view_count": null,
            "_view_module": "@jupyter-widgets/base",
            "_view_module_version": "1.2.0",
            "_view_name": "LayoutView",
            "align_content": null,
            "align_items": null,
            "align_self": null,
            "border": null,
            "bottom": null,
            "display": "none",
            "flex": null,
            "flex_flow": null,
            "grid_area": null,
            "grid_auto_columns": null,
            "grid_auto_flow": null,
            "grid_auto_rows": null,
            "grid_column": null,
            "grid_gap": null,
            "grid_row": null,
            "grid_template_areas": null,
            "grid_template_columns": null,
            "grid_template_rows": null,
            "height": null,
            "justify_content": null,
            "justify_items": null,
            "left": null,
            "margin": null,
            "max_height": null,
            "max_width": null,
            "min_height": null,
            "min_width": null,
            "object_fit": null,
            "object_position": null,
            "order": null,
            "overflow": null,
            "overflow_x": null,
            "overflow_y": null,
            "padding": null,
            "right": null,
            "top": null,
            "visibility": null,
            "width": null
          }
        },
        "4aa4d1e9e20c4ef2912f36abe8fa9c95": {
          "model_module": "@jupyter-widgets/controls",
          "model_name": "DescriptionStyleModel",
          "model_module_version": "1.5.0",
          "state": {
            "_model_module": "@jupyter-widgets/controls",
            "_model_module_version": "1.5.0",
            "_model_name": "DescriptionStyleModel",
            "_view_count": null,
            "_view_module": "@jupyter-widgets/base",
            "_view_module_version": "1.2.0",
            "_view_name": "StyleView",
            "description_width": ""
          }
        },
        "a09c2d080c5f49cfa20b89bfbb245e81": {
          "model_module": "@jupyter-widgets/base",
          "model_name": "LayoutModel",
          "model_module_version": "1.2.0",
          "state": {
            "_model_module": "@jupyter-widgets/base",
            "_model_module_version": "1.2.0",
            "_model_name": "LayoutModel",
            "_view_count": null,
            "_view_module": "@jupyter-widgets/base",
            "_view_module_version": "1.2.0",
            "_view_name": "LayoutView",
            "align_content": null,
            "align_items": null,
            "align_self": null,
            "border": null,
            "bottom": null,
            "display": null,
            "flex": null,
            "flex_flow": null,
            "grid_area": null,
            "grid_auto_columns": null,
            "grid_auto_flow": null,
            "grid_auto_rows": null,
            "grid_column": null,
            "grid_gap": null,
            "grid_row": null,
            "grid_template_areas": null,
            "grid_template_columns": null,
            "grid_template_rows": null,
            "height": "auto",
            "justify_content": null,
            "justify_items": null,
            "left": null,
            "margin": null,
            "max_height": null,
            "max_width": null,
            "min_height": null,
            "min_width": null,
            "object_fit": null,
            "object_position": null,
            "order": null,
            "overflow": null,
            "overflow_x": null,
            "overflow_y": null,
            "padding": "0.5em",
            "right": null,
            "top": null,
            "visibility": null,
            "width": "auto"
          }
        },
        "42cdbc9857a949ecae3edf8d1242c5d0": {
          "model_module": "@jupyter-widgets/controls",
          "model_name": "ButtonStyleModel",
          "model_module_version": "1.5.0",
          "state": {
            "_model_module": "@jupyter-widgets/controls",
            "_model_module_version": "1.5.0",
            "_model_name": "ButtonStyleModel",
            "_view_count": null,
            "_view_module": "@jupyter-widgets/base",
            "_view_module_version": "1.2.0",
            "_view_name": "StyleView",
            "button_color": "#aaffaa",
            "font_weight": ""
          }
        },
        "80bba4938e5f42e5829b5e9f5f8c1a06": {
          "model_module": "@jupyter-widgets/base",
          "model_name": "LayoutModel",
          "model_module_version": "1.2.0",
          "state": {
            "_model_module": "@jupyter-widgets/base",
            "_model_module_version": "1.2.0",
            "_model_name": "LayoutModel",
            "_view_count": null,
            "_view_module": "@jupyter-widgets/base",
            "_view_module_version": "1.2.0",
            "_view_name": "LayoutView",
            "align_content": null,
            "align_items": null,
            "align_self": null,
            "border": null,
            "bottom": null,
            "display": null,
            "flex": null,
            "flex_flow": null,
            "grid_area": null,
            "grid_auto_columns": null,
            "grid_auto_flow": null,
            "grid_auto_rows": null,
            "grid_column": null,
            "grid_gap": null,
            "grid_row": null,
            "grid_template_areas": null,
            "grid_template_columns": null,
            "grid_template_rows": null,
            "height": "auto",
            "justify_content": null,
            "justify_items": null,
            "left": null,
            "margin": null,
            "max_height": null,
            "max_width": null,
            "min_height": null,
            "min_width": null,
            "object_fit": null,
            "object_position": null,
            "order": null,
            "overflow": null,
            "overflow_x": null,
            "overflow_y": null,
            "padding": "0.5em",
            "right": null,
            "top": null,
            "visibility": null,
            "width": "auto"
          }
        },
        "249337efc3944a159ef327a2aee38bdc": {
          "model_module": "@jupyter-widgets/controls",
          "model_name": "ButtonStyleModel",
          "model_module_version": "1.5.0",
          "state": {
            "_model_module": "@jupyter-widgets/controls",
            "_model_module_version": "1.5.0",
            "_model_name": "ButtonStyleModel",
            "_view_count": null,
            "_view_module": "@jupyter-widgets/base",
            "_view_module_version": "1.2.0",
            "_view_name": "StyleView",
            "button_color": "#dddd77",
            "font_weight": ""
          }
        },
        "23f96967c12349d48dbb3e143de9dd57": {
          "model_module": "@jupyter-widgets/base",
          "model_name": "LayoutModel",
          "model_module_version": "1.2.0",
          "state": {
            "_model_module": "@jupyter-widgets/base",
            "_model_module_version": "1.2.0",
            "_model_name": "LayoutModel",
            "_view_count": null,
            "_view_module": "@jupyter-widgets/base",
            "_view_module_version": "1.2.0",
            "_view_name": "LayoutView",
            "align_content": null,
            "align_items": null,
            "align_self": null,
            "border": null,
            "bottom": null,
            "display": null,
            "flex": null,
            "flex_flow": null,
            "grid_area": null,
            "grid_auto_columns": null,
            "grid_auto_flow": null,
            "grid_auto_rows": null,
            "grid_column": null,
            "grid_gap": null,
            "grid_row": null,
            "grid_template_areas": null,
            "grid_template_columns": null,
            "grid_template_rows": null,
            "height": "auto",
            "justify_content": null,
            "justify_items": null,
            "left": null,
            "margin": null,
            "max_height": null,
            "max_width": null,
            "min_height": null,
            "min_width": null,
            "object_fit": null,
            "object_position": null,
            "order": null,
            "overflow": null,
            "overflow_x": null,
            "overflow_y": null,
            "padding": "0.5em",
            "right": null,
            "top": null,
            "visibility": null,
            "width": "auto"
          }
        },
        "9f6e2f2e19bb4c25b2cdac01748306d4": {
          "model_module": "@jupyter-widgets/controls",
          "model_name": "ButtonStyleModel",
          "model_module_version": "1.5.0",
          "state": {
            "_model_module": "@jupyter-widgets/controls",
            "_model_module_version": "1.5.0",
            "_model_name": "ButtonStyleModel",
            "_view_count": null,
            "_view_module": "@jupyter-widgets/base",
            "_view_module_version": "1.2.0",
            "_view_name": "StyleView",
            "button_color": "#ffaaaa",
            "font_weight": ""
          }
        },
        "b101efabfe0340dabd3e56dd7e5558c6": {
          "model_module": "@jupyter-widgets/base",
          "model_name": "LayoutModel",
          "model_module_version": "1.2.0",
          "state": {
            "_model_module": "@jupyter-widgets/base",
            "_model_module_version": "1.2.0",
            "_model_name": "LayoutModel",
            "_view_count": null,
            "_view_module": "@jupyter-widgets/base",
            "_view_module_version": "1.2.0",
            "_view_name": "LayoutView",
            "align_content": null,
            "align_items": null,
            "align_self": null,
            "border": null,
            "bottom": null,
            "display": null,
            "flex": null,
            "flex_flow": null,
            "grid_area": null,
            "grid_auto_columns": null,
            "grid_auto_flow": null,
            "grid_auto_rows": null,
            "grid_column": null,
            "grid_gap": null,
            "grid_row": null,
            "grid_template_areas": null,
            "grid_template_columns": null,
            "grid_template_rows": null,
            "height": "auto",
            "justify_content": null,
            "justify_items": null,
            "left": null,
            "margin": null,
            "max_height": null,
            "max_width": null,
            "min_height": null,
            "min_width": null,
            "object_fit": null,
            "object_position": null,
            "order": null,
            "overflow": null,
            "overflow_x": null,
            "overflow_y": null,
            "padding": null,
            "right": null,
            "top": null,
            "visibility": null,
            "width": "auto"
          }
        },
        "4b1af1b6ab404d0f837dbc9be54700c4": {
          "model_module": "@jupyter-widgets/controls",
          "model_name": "DescriptionStyleModel",
          "model_module_version": "1.5.0",
          "state": {
            "_model_module": "@jupyter-widgets/controls",
            "_model_module_version": "1.5.0",
            "_model_name": "DescriptionStyleModel",
            "_view_count": null,
            "_view_module": "@jupyter-widgets/base",
            "_view_module_version": "1.2.0",
            "_view_name": "StyleView",
            "description_width": ""
          }
        },
        "2b7714c64c5647cf8eefc55fe5b7f3ca": {
          "model_module": "@jupyter-widgets/base",
          "model_name": "LayoutModel",
          "model_module_version": "1.2.0",
          "state": {
            "_model_module": "@jupyter-widgets/base",
            "_model_module_version": "1.2.0",
            "_model_name": "LayoutModel",
            "_view_count": null,
            "_view_module": "@jupyter-widgets/base",
            "_view_module_version": "1.2.0",
            "_view_name": "LayoutView",
            "align_content": null,
            "align_items": null,
            "align_self": null,
            "border": null,
            "bottom": null,
            "display": null,
            "flex": null,
            "flex_flow": null,
            "grid_area": null,
            "grid_auto_columns": null,
            "grid_auto_flow": null,
            "grid_auto_rows": null,
            "grid_column": null,
            "grid_gap": null,
            "grid_row": null,
            "grid_template_areas": null,
            "grid_template_columns": null,
            "grid_template_rows": null,
            "height": "auto",
            "justify_content": null,
            "justify_items": null,
            "left": null,
            "margin": null,
            "max_height": null,
            "max_width": null,
            "min_height": null,
            "min_width": null,
            "object_fit": null,
            "object_position": null,
            "order": null,
            "overflow": null,
            "overflow_x": null,
            "overflow_y": null,
            "padding": null,
            "right": null,
            "top": null,
            "visibility": null,
            "width": "auto"
          }
        },
        "94b2eafa3a5a42c99d9a80b71f14aa4a": {
          "model_module": "@jupyter-widgets/controls",
          "model_name": "ButtonStyleModel",
          "model_module_version": "1.5.0",
          "state": {
            "_model_module": "@jupyter-widgets/controls",
            "_model_module_version": "1.5.0",
            "_model_name": "ButtonStyleModel",
            "_view_count": null,
            "_view_module": "@jupyter-widgets/base",
            "_view_module_version": "1.2.0",
            "_view_name": "StyleView",
            "button_color": null,
            "font_weight": ""
          }
        },
        "30d900c811134d49b0618e41dc118b09": {
          "model_module": "@jupyter-widgets/controls",
          "model_name": "VBoxModel",
          "model_module_version": "1.5.0",
          "state": {
            "_dom_classes": [
              "widget-interact"
            ],
            "_model_module": "@jupyter-widgets/controls",
            "_model_module_version": "1.5.0",
            "_model_name": "VBoxModel",
            "_view_count": null,
            "_view_module": "@jupyter-widgets/controls",
            "_view_module_version": "1.5.0",
            "_view_name": "VBoxView",
            "box_style": "",
            "children": [
              "IPY_MODEL_a43fbd2858e140c99a35c25f26c7c209",
              "IPY_MODEL_926f5bb52b0c4b0d8b757f4a2737521d"
            ],
            "layout": "IPY_MODEL_ddedb174d6ef4b798ee8d1918c59998b"
          }
        },
        "a43fbd2858e140c99a35c25f26c7c209": {
          "model_module": "@jupyter-widgets/controls",
          "model_name": "FloatSliderModel",
          "model_module_version": "1.5.0",
          "state": {
            "_dom_classes": [],
            "_model_module": "@jupyter-widgets/controls",
            "_model_module_version": "1.5.0",
            "_model_name": "FloatSliderModel",
            "_view_count": null,
            "_view_module": "@jupyter-widgets/controls",
            "_view_module_version": "1.5.0",
            "_view_name": "FloatSliderView",
            "continuous_update": true,
            "description": "theta_hat",
            "description_tooltip": null,
            "disabled": false,
            "layout": "IPY_MODEL_d382fc6e33c74e99a4c0d5863f0db72d",
            "max": 2,
            "min": 0,
            "orientation": "horizontal",
            "readout": true,
            "readout_format": ".2f",
            "step": 0.1,
            "style": "IPY_MODEL_33f0775dc4644a179ca197f4869a4cd0",
            "value": 1.2
          }
        },
        "926f5bb52b0c4b0d8b757f4a2737521d": {
          "model_module": "@jupyter-widgets/output",
          "model_name": "OutputModel",
          "model_module_version": "1.0.0",
          "state": {
            "_dom_classes": [],
            "_model_module": "@jupyter-widgets/output",
            "_model_module_version": "1.0.0",
            "_model_name": "OutputModel",
            "_view_count": null,
            "_view_module": "@jupyter-widgets/output",
            "_view_module_version": "1.0.0",
            "_view_name": "OutputView",
            "layout": "IPY_MODEL_39a7e31497fa4fc2a43e7cdcc742daea",
            "msg_id": "",
            "outputs": [
              {
                "output_type": "display_data",
                "data": {
                  "text/plain": "<Figure size 800x600 with 1 Axes>",
                  "image/png": "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\n"
                },
                "metadata": {
                  "image/png": {
                    "width": 773,
                    "height": 575
                  }
                }
              }
            ]
          }
        },
        "ddedb174d6ef4b798ee8d1918c59998b": {
          "model_module": "@jupyter-widgets/base",
          "model_name": "LayoutModel",
          "model_module_version": "1.2.0",
          "state": {
            "_model_module": "@jupyter-widgets/base",
            "_model_module_version": "1.2.0",
            "_model_name": "LayoutModel",
            "_view_count": null,
            "_view_module": "@jupyter-widgets/base",
            "_view_module_version": "1.2.0",
            "_view_name": "LayoutView",
            "align_content": null,
            "align_items": null,
            "align_self": null,
            "border": null,
            "bottom": null,
            "display": null,
            "flex": null,
            "flex_flow": null,
            "grid_area": null,
            "grid_auto_columns": null,
            "grid_auto_flow": null,
            "grid_auto_rows": null,
            "grid_column": null,
            "grid_gap": null,
            "grid_row": null,
            "grid_template_areas": null,
            "grid_template_columns": null,
            "grid_template_rows": null,
            "height": null,
            "justify_content": null,
            "justify_items": null,
            "left": null,
            "margin": null,
            "max_height": null,
            "max_width": null,
            "min_height": null,
            "min_width": null,
            "object_fit": null,
            "object_position": null,
            "order": null,
            "overflow": null,
            "overflow_x": null,
            "overflow_y": null,
            "padding": null,
            "right": null,
            "top": null,
            "visibility": null,
            "width": null
          }
        },
        "d382fc6e33c74e99a4c0d5863f0db72d": {
          "model_module": "@jupyter-widgets/base",
          "model_name": "LayoutModel",
          "model_module_version": "1.2.0",
          "state": {
            "_model_module": "@jupyter-widgets/base",
            "_model_module_version": "1.2.0",
            "_model_name": "LayoutModel",
            "_view_count": null,
            "_view_module": "@jupyter-widgets/base",
            "_view_module_version": "1.2.0",
            "_view_name": "LayoutView",
            "align_content": null,
            "align_items": null,
            "align_self": null,
            "border": null,
            "bottom": null,
            "display": null,
            "flex": null,
            "flex_flow": null,
            "grid_area": null,
            "grid_auto_columns": null,
            "grid_auto_flow": null,
            "grid_auto_rows": null,
            "grid_column": null,
            "grid_gap": null,
            "grid_row": null,
            "grid_template_areas": null,
            "grid_template_columns": null,
            "grid_template_rows": null,
            "height": null,
            "justify_content": null,
            "justify_items": null,
            "left": null,
            "margin": null,
            "max_height": null,
            "max_width": null,
            "min_height": null,
            "min_width": null,
            "object_fit": null,
            "object_position": null,
            "order": null,
            "overflow": null,
            "overflow_x": null,
            "overflow_y": null,
            "padding": null,
            "right": null,
            "top": null,
            "visibility": null,
            "width": null
          }
        },
        "33f0775dc4644a179ca197f4869a4cd0": {
          "model_module": "@jupyter-widgets/controls",
          "model_name": "SliderStyleModel",
          "model_module_version": "1.5.0",
          "state": {
            "_model_module": "@jupyter-widgets/controls",
            "_model_module_version": "1.5.0",
            "_model_name": "SliderStyleModel",
            "_view_count": null,
            "_view_module": "@jupyter-widgets/base",
            "_view_module_version": "1.2.0",
            "_view_name": "StyleView",
            "description_width": "",
            "handle_color": null
          }
        },
        "39a7e31497fa4fc2a43e7cdcc742daea": {
          "model_module": "@jupyter-widgets/base",
          "model_name": "LayoutModel",
          "model_module_version": "1.2.0",
          "state": {
            "_model_module": "@jupyter-widgets/base",
            "_model_module_version": "1.2.0",
            "_model_name": "LayoutModel",
            "_view_count": null,
            "_view_module": "@jupyter-widgets/base",
            "_view_module_version": "1.2.0",
            "_view_name": "LayoutView",
            "align_content": null,
            "align_items": null,
            "align_self": null,
            "border": null,
            "bottom": null,
            "display": null,
            "flex": null,
            "flex_flow": null,
            "grid_area": null,
            "grid_auto_columns": null,
            "grid_auto_flow": null,
            "grid_auto_rows": null,
            "grid_column": null,
            "grid_gap": null,
            "grid_row": null,
            "grid_template_areas": null,
            "grid_template_columns": null,
            "grid_template_rows": null,
            "height": null,
            "justify_content": null,
            "justify_items": null,
            "left": null,
            "margin": null,
            "max_height": null,
            "max_width": null,
            "min_height": null,
            "min_width": null,
            "object_fit": null,
            "object_position": null,
            "order": null,
            "overflow": null,
            "overflow_x": null,
            "overflow_y": null,
            "padding": null,
            "right": null,
            "top": null,
            "visibility": null,
            "width": null
          }
        },
        "30028cb5608e48b19a48455b15823b9d": {
          "model_module": "@jupyter-widgets/controls",
          "model_name": "VBoxModel",
          "model_module_version": "1.5.0",
          "state": {
            "_dom_classes": [],
            "_model_module": "@jupyter-widgets/controls",
            "_model_module_version": "1.5.0",
            "_model_name": "VBoxModel",
            "_view_count": null,
            "_view_module": "@jupyter-widgets/controls",
            "_view_module_version": "1.5.0",
            "_view_name": "VBoxView",
            "box_style": "",
            "children": [
              "IPY_MODEL_977196ee8824469398065b0d52b62021"
            ],
            "layout": "IPY_MODEL_1d8faae185a740948a5dffe3958ff167"
          }
        },
        "977196ee8824469398065b0d52b62021": {
          "model_module": "@jupyter-widgets/controls",
          "model_name": "VBoxModel",
          "model_module_version": "1.5.0",
          "state": {
            "_dom_classes": [],
            "_model_module": "@jupyter-widgets/controls",
            "_model_module_version": "1.5.0",
            "_model_name": "VBoxModel",
            "_view_count": null,
            "_view_module": "@jupyter-widgets/controls",
            "_view_module_version": "1.5.0",
            "_view_name": "VBoxView",
            "box_style": "",
            "children": [
              "IPY_MODEL_ad5775ec1d364a2799e4cd9bcf19b26b",
              "IPY_MODEL_dd85e8397ca54fb183611ae7db7fdd6a",
              "IPY_MODEL_e5e78cf4299b42549809b04ec53c4735"
            ],
            "layout": "IPY_MODEL_31f760105c9d4049b56f208e22bedf81"
          }
        },
        "1d8faae185a740948a5dffe3958ff167": {
          "model_module": "@jupyter-widgets/base",
          "model_name": "LayoutModel",
          "model_module_version": "1.2.0",
          "state": {
            "_model_module": "@jupyter-widgets/base",
            "_model_module_version": "1.2.0",
            "_model_name": "LayoutModel",
            "_view_count": null,
            "_view_module": "@jupyter-widgets/base",
            "_view_module_version": "1.2.0",
            "_view_name": "LayoutView",
            "align_content": null,
            "align_items": null,
            "align_self": null,
            "border": null,
            "bottom": null,
            "display": null,
            "flex": null,
            "flex_flow": null,
            "grid_area": null,
            "grid_auto_columns": null,
            "grid_auto_flow": null,
            "grid_auto_rows": null,
            "grid_column": null,
            "grid_gap": null,
            "grid_row": null,
            "grid_template_areas": null,
            "grid_template_columns": null,
            "grid_template_rows": null,
            "height": null,
            "justify_content": null,
            "justify_items": null,
            "left": null,
            "margin": null,
            "max_height": null,
            "max_width": null,
            "min_height": null,
            "min_width": null,
            "object_fit": null,
            "object_position": null,
            "order": null,
            "overflow": null,
            "overflow_x": null,
            "overflow_y": null,
            "padding": null,
            "right": null,
            "top": null,
            "visibility": null,
            "width": null
          }
        },
        "ad5775ec1d364a2799e4cd9bcf19b26b": {
          "model_module": "@jupyter-widgets/controls",
          "model_name": "HBoxModel",
          "model_module_version": "1.5.0",
          "state": {
            "_dom_classes": [],
            "_model_module": "@jupyter-widgets/controls",
            "_model_module_version": "1.5.0",
            "_model_name": "HBoxModel",
            "_view_count": null,
            "_view_module": "@jupyter-widgets/controls",
            "_view_module_version": "1.5.0",
            "_view_name": "HBoxView",
            "box_style": "",
            "children": [
              "IPY_MODEL_b23811c513c24f1d9928e5a06c333790",
              "IPY_MODEL_920c649d16814347b428549370690957",
              "IPY_MODEL_4f726c8d3b7b4daf98e5a8c46d7daf54"
            ],
            "layout": "IPY_MODEL_01df08d1282f4120a6aa8b393693ccb2"
          }
        },
        "dd85e8397ca54fb183611ae7db7fdd6a": {
          "model_module": "@jupyter-widgets/controls",
          "model_name": "HBoxModel",
          "model_module_version": "1.5.0",
          "state": {
            "_dom_classes": [],
            "_model_module": "@jupyter-widgets/controls",
            "_model_module_version": "1.5.0",
            "_model_name": "HBoxModel",
            "_view_count": null,
            "_view_module": "@jupyter-widgets/controls",
            "_view_module_version": "1.5.0",
            "_view_name": "HBoxView",
            "box_style": "",
            "children": [
              "IPY_MODEL_dc6f34f0ae174727a2cc43ea4cdaebfe",
              "IPY_MODEL_becc5888775e4803acb0b78257bb7d00"
            ],
            "layout": "IPY_MODEL_8deee2df244d4750a3713170da045395"
          }
        },
        "e5e78cf4299b42549809b04ec53c4735": {
          "model_module": "@jupyter-widgets/controls",
          "model_name": "LabelModel",
          "model_module_version": "1.5.0",
          "state": {
            "_dom_classes": [],
            "_model_module": "@jupyter-widgets/controls",
            "_model_module_version": "1.5.0",
            "_model_name": "LabelModel",
            "_view_count": null,
            "_view_module": "@jupyter-widgets/controls",
            "_view_module_version": "1.5.0",
            "_view_name": "LabelView",
            "description": "",
            "description_tooltip": null,
            "layout": "IPY_MODEL_51ff6513741b4d889e0a848cafe5cf63",
            "placeholder": "​",
            "style": "IPY_MODEL_8b9c9bbe74c148e281a58d0434764ae0",
            "value": "Thanks for your feedback!"
          }
        },
        "31f760105c9d4049b56f208e22bedf81": {
          "model_module": "@jupyter-widgets/base",
          "model_name": "LayoutModel",
          "model_module_version": "1.2.0",
          "state": {
            "_model_module": "@jupyter-widgets/base",
            "_model_module_version": "1.2.0",
            "_model_name": "LayoutModel",
            "_view_count": null,
            "_view_module": "@jupyter-widgets/base",
            "_view_module_version": "1.2.0",
            "_view_name": "LayoutView",
            "align_content": null,
            "align_items": null,
            "align_self": null,
            "border": null,
            "bottom": null,
            "display": null,
            "flex": null,
            "flex_flow": null,
            "grid_area": null,
            "grid_auto_columns": null,
            "grid_auto_flow": null,
            "grid_auto_rows": null,
            "grid_column": null,
            "grid_gap": null,
            "grid_row": null,
            "grid_template_areas": null,
            "grid_template_columns": null,
            "grid_template_rows": null,
            "height": null,
            "justify_content": null,
            "justify_items": null,
            "left": null,
            "margin": null,
            "max_height": null,
            "max_width": null,
            "min_height": null,
            "min_width": null,
            "object_fit": null,
            "object_position": null,
            "order": null,
            "overflow": null,
            "overflow_x": null,
            "overflow_y": null,
            "padding": null,
            "right": null,
            "top": null,
            "visibility": null,
            "width": null
          }
        },
        "b23811c513c24f1d9928e5a06c333790": {
          "model_module": "@jupyter-widgets/controls",
          "model_name": "ButtonModel",
          "model_module_version": "1.5.0",
          "state": {
            "_dom_classes": [
              "happy"
            ],
            "_model_module": "@jupyter-widgets/controls",
            "_model_module_version": "1.5.0",
            "_model_name": "ButtonModel",
            "_view_count": null,
            "_view_module": "@jupyter-widgets/controls",
            "_view_module_version": "1.5.0",
            "_view_name": "ButtonView",
            "button_style": "",
            "description": "🙂",
            "disabled": false,
            "icon": "",
            "layout": "IPY_MODEL_73de062d983c4fcea9d4a5d65f517d2d",
            "style": "IPY_MODEL_4f69fcc748914ba0817408babb334936",
            "tooltip": "happy"
          }
        },
        "920c649d16814347b428549370690957": {
          "model_module": "@jupyter-widgets/controls",
          "model_name": "ButtonModel",
          "model_module_version": "1.5.0",
          "state": {
            "_dom_classes": [
              "medium"
            ],
            "_model_module": "@jupyter-widgets/controls",
            "_model_module_version": "1.5.0",
            "_model_name": "ButtonModel",
            "_view_count": null,
            "_view_module": "@jupyter-widgets/controls",
            "_view_module_version": "1.5.0",
            "_view_name": "ButtonView",
            "button_style": "",
            "description": "😐",
            "disabled": false,
            "icon": "",
            "layout": "IPY_MODEL_f29e32448bbd40ffa827274b89bbcf61",
            "style": "IPY_MODEL_f411d11da1d146b7b6d582b0b8a473a5",
            "tooltip": "medium"
          }
        },
        "4f726c8d3b7b4daf98e5a8c46d7daf54": {
          "model_module": "@jupyter-widgets/controls",
          "model_name": "ButtonModel",
          "model_module_version": "1.5.0",
          "state": {
            "_dom_classes": [
              "sad"
            ],
            "_model_module": "@jupyter-widgets/controls",
            "_model_module_version": "1.5.0",
            "_model_name": "ButtonModel",
            "_view_count": null,
            "_view_module": "@jupyter-widgets/controls",
            "_view_module_version": "1.5.0",
            "_view_name": "ButtonView",
            "button_style": "",
            "description": "🙁",
            "disabled": false,
            "icon": "",
            "layout": "IPY_MODEL_9619b55b1ac24494988780cc172b656c",
            "style": "IPY_MODEL_6d12690c74e74b12a49776bbcf2a411f",
            "tooltip": "sad"
          }
        },
        "01df08d1282f4120a6aa8b393693ccb2": {
          "model_module": "@jupyter-widgets/base",
          "model_name": "LayoutModel",
          "model_module_version": "1.2.0",
          "state": {
            "_model_module": "@jupyter-widgets/base",
            "_model_module_version": "1.2.0",
            "_model_name": "LayoutModel",
            "_view_count": null,
            "_view_module": "@jupyter-widgets/base",
            "_view_module_version": "1.2.0",
            "_view_name": "LayoutView",
            "align_content": null,
            "align_items": null,
            "align_self": null,
            "border": null,
            "bottom": null,
            "display": null,
            "flex": null,
            "flex_flow": null,
            "grid_area": null,
            "grid_auto_columns": null,
            "grid_auto_flow": null,
            "grid_auto_rows": null,
            "grid_column": null,
            "grid_gap": null,
            "grid_row": null,
            "grid_template_areas": null,
            "grid_template_columns": null,
            "grid_template_rows": null,
            "height": null,
            "justify_content": null,
            "justify_items": null,
            "left": null,
            "margin": null,
            "max_height": null,
            "max_width": null,
            "min_height": null,
            "min_width": null,
            "object_fit": null,
            "object_position": null,
            "order": null,
            "overflow": null,
            "overflow_x": null,
            "overflow_y": null,
            "padding": null,
            "right": null,
            "top": null,
            "visibility": null,
            "width": null
          }
        },
        "dc6f34f0ae174727a2cc43ea4cdaebfe": {
          "model_module": "@jupyter-widgets/controls",
          "model_name": "TextareaModel",
          "model_module_version": "1.5.0",
          "state": {
            "_dom_classes": [],
            "_model_module": "@jupyter-widgets/controls",
            "_model_module_version": "1.5.0",
            "_model_name": "TextareaModel",
            "_view_count": null,
            "_view_module": "@jupyter-widgets/controls",
            "_view_module_version": "1.5.0",
            "_view_name": "TextareaView",
            "continuous_update": true,
            "description": "",
            "description_tooltip": null,
            "disabled": false,
            "layout": "IPY_MODEL_42d79ebb0d35450d8952ec1ba689a008",
            "placeholder": "We want your feedback!",
            "rows": null,
            "style": "IPY_MODEL_44b9b37a93a5438984782187824c00df",
            "value": ""
          }
        },
        "becc5888775e4803acb0b78257bb7d00": {
          "model_module": "@jupyter-widgets/controls",
          "model_name": "ButtonModel",
          "model_module_version": "1.5.0",
          "state": {
            "_dom_classes": [],
            "_model_module": "@jupyter-widgets/controls",
            "_model_module_version": "1.5.0",
            "_model_name": "ButtonModel",
            "_view_count": null,
            "_view_module": "@jupyter-widgets/controls",
            "_view_module_version": "1.5.0",
            "_view_name": "ButtonView",
            "button_style": "",
            "description": "Submit",
            "disabled": false,
            "icon": "",
            "layout": "IPY_MODEL_e2920acbda8f4c729bf0ae405971ea00",
            "style": "IPY_MODEL_b3f9b63e7aab491ba86a6b573c3e5a1d",
            "tooltip": ""
          }
        },
        "8deee2df244d4750a3713170da045395": {
          "model_module": "@jupyter-widgets/base",
          "model_name": "LayoutModel",
          "model_module_version": "1.2.0",
          "state": {
            "_model_module": "@jupyter-widgets/base",
            "_model_module_version": "1.2.0",
            "_model_name": "LayoutModel",
            "_view_count": null,
            "_view_module": "@jupyter-widgets/base",
            "_view_module_version": "1.2.0",
            "_view_name": "LayoutView",
            "align_content": null,
            "align_items": null,
            "align_self": null,
            "border": null,
            "bottom": null,
            "display": "none",
            "flex": null,
            "flex_flow": null,
            "grid_area": null,
            "grid_auto_columns": null,
            "grid_auto_flow": null,
            "grid_auto_rows": null,
            "grid_column": null,
            "grid_gap": null,
            "grid_row": null,
            "grid_template_areas": null,
            "grid_template_columns": null,
            "grid_template_rows": null,
            "height": null,
            "justify_content": null,
            "justify_items": null,
            "left": null,
            "margin": null,
            "max_height": null,
            "max_width": null,
            "min_height": null,
            "min_width": null,
            "object_fit": null,
            "object_position": null,
            "order": null,
            "overflow": null,
            "overflow_x": null,
            "overflow_y": null,
            "padding": null,
            "right": null,
            "top": null,
            "visibility": null,
            "width": null
          }
        },
        "51ff6513741b4d889e0a848cafe5cf63": {
          "model_module": "@jupyter-widgets/base",
          "model_name": "LayoutModel",
          "model_module_version": "1.2.0",
          "state": {
            "_model_module": "@jupyter-widgets/base",
            "_model_module_version": "1.2.0",
            "_model_name": "LayoutModel",
            "_view_count": null,
            "_view_module": "@jupyter-widgets/base",
            "_view_module_version": "1.2.0",
            "_view_name": "LayoutView",
            "align_content": null,
            "align_items": null,
            "align_self": null,
            "border": null,
            "bottom": null,
            "display": "none",
            "flex": null,
            "flex_flow": null,
            "grid_area": null,
            "grid_auto_columns": null,
            "grid_auto_flow": null,
            "grid_auto_rows": null,
            "grid_column": null,
            "grid_gap": null,
            "grid_row": null,
            "grid_template_areas": null,
            "grid_template_columns": null,
            "grid_template_rows": null,
            "height": null,
            "justify_content": null,
            "justify_items": null,
            "left": null,
            "margin": null,
            "max_height": null,
            "max_width": null,
            "min_height": null,
            "min_width": null,
            "object_fit": null,
            "object_position": null,
            "order": null,
            "overflow": null,
            "overflow_x": null,
            "overflow_y": null,
            "padding": null,
            "right": null,
            "top": null,
            "visibility": null,
            "width": null
          }
        },
        "8b9c9bbe74c148e281a58d0434764ae0": {
          "model_module": "@jupyter-widgets/controls",
          "model_name": "DescriptionStyleModel",
          "model_module_version": "1.5.0",
          "state": {
            "_model_module": "@jupyter-widgets/controls",
            "_model_module_version": "1.5.0",
            "_model_name": "DescriptionStyleModel",
            "_view_count": null,
            "_view_module": "@jupyter-widgets/base",
            "_view_module_version": "1.2.0",
            "_view_name": "StyleView",
            "description_width": ""
          }
        },
        "73de062d983c4fcea9d4a5d65f517d2d": {
          "model_module": "@jupyter-widgets/base",
          "model_name": "LayoutModel",
          "model_module_version": "1.2.0",
          "state": {
            "_model_module": "@jupyter-widgets/base",
            "_model_module_version": "1.2.0",
            "_model_name": "LayoutModel",
            "_view_count": null,
            "_view_module": "@jupyter-widgets/base",
            "_view_module_version": "1.2.0",
            "_view_name": "LayoutView",
            "align_content": null,
            "align_items": null,
            "align_self": null,
            "border": null,
            "bottom": null,
            "display": null,
            "flex": null,
            "flex_flow": null,
            "grid_area": null,
            "grid_auto_columns": null,
            "grid_auto_flow": null,
            "grid_auto_rows": null,
            "grid_column": null,
            "grid_gap": null,
            "grid_row": null,
            "grid_template_areas": null,
            "grid_template_columns": null,
            "grid_template_rows": null,
            "height": "auto",
            "justify_content": null,
            "justify_items": null,
            "left": null,
            "margin": null,
            "max_height": null,
            "max_width": null,
            "min_height": null,
            "min_width": null,
            "object_fit": null,
            "object_position": null,
            "order": null,
            "overflow": null,
            "overflow_x": null,
            "overflow_y": null,
            "padding": "0.5em",
            "right": null,
            "top": null,
            "visibility": null,
            "width": "auto"
          }
        },
        "4f69fcc748914ba0817408babb334936": {
          "model_module": "@jupyter-widgets/controls",
          "model_name": "ButtonStyleModel",
          "model_module_version": "1.5.0",
          "state": {
            "_model_module": "@jupyter-widgets/controls",
            "_model_module_version": "1.5.0",
            "_model_name": "ButtonStyleModel",
            "_view_count": null,
            "_view_module": "@jupyter-widgets/base",
            "_view_module_version": "1.2.0",
            "_view_name": "StyleView",
            "button_color": "#aaffaa",
            "font_weight": ""
          }
        },
        "f29e32448bbd40ffa827274b89bbcf61": {
          "model_module": "@jupyter-widgets/base",
          "model_name": "LayoutModel",
          "model_module_version": "1.2.0",
          "state": {
            "_model_module": "@jupyter-widgets/base",
            "_model_module_version": "1.2.0",
            "_model_name": "LayoutModel",
            "_view_count": null,
            "_view_module": "@jupyter-widgets/base",
            "_view_module_version": "1.2.0",
            "_view_name": "LayoutView",
            "align_content": null,
            "align_items": null,
            "align_self": null,
            "border": null,
            "bottom": null,
            "display": null,
            "flex": null,
            "flex_flow": null,
            "grid_area": null,
            "grid_auto_columns": null,
            "grid_auto_flow": null,
            "grid_auto_rows": null,
            "grid_column": null,
            "grid_gap": null,
            "grid_row": null,
            "grid_template_areas": null,
            "grid_template_columns": null,
            "grid_template_rows": null,
            "height": "auto",
            "justify_content": null,
            "justify_items": null,
            "left": null,
            "margin": null,
            "max_height": null,
            "max_width": null,
            "min_height": null,
            "min_width": null,
            "object_fit": null,
            "object_position": null,
            "order": null,
            "overflow": null,
            "overflow_x": null,
            "overflow_y": null,
            "padding": "0.5em",
            "right": null,
            "top": null,
            "visibility": null,
            "width": "auto"
          }
        },
        "f411d11da1d146b7b6d582b0b8a473a5": {
          "model_module": "@jupyter-widgets/controls",
          "model_name": "ButtonStyleModel",
          "model_module_version": "1.5.0",
          "state": {
            "_model_module": "@jupyter-widgets/controls",
            "_model_module_version": "1.5.0",
            "_model_name": "ButtonStyleModel",
            "_view_count": null,
            "_view_module": "@jupyter-widgets/base",
            "_view_module_version": "1.2.0",
            "_view_name": "StyleView",
            "button_color": "#dddd77",
            "font_weight": ""
          }
        },
        "9619b55b1ac24494988780cc172b656c": {
          "model_module": "@jupyter-widgets/base",
          "model_name": "LayoutModel",
          "model_module_version": "1.2.0",
          "state": {
            "_model_module": "@jupyter-widgets/base",
            "_model_module_version": "1.2.0",
            "_model_name": "LayoutModel",
            "_view_count": null,
            "_view_module": "@jupyter-widgets/base",
            "_view_module_version": "1.2.0",
            "_view_name": "LayoutView",
            "align_content": null,
            "align_items": null,
            "align_self": null,
            "border": null,
            "bottom": null,
            "display": null,
            "flex": null,
            "flex_flow": null,
            "grid_area": null,
            "grid_auto_columns": null,
            "grid_auto_flow": null,
            "grid_auto_rows": null,
            "grid_column": null,
            "grid_gap": null,
            "grid_row": null,
            "grid_template_areas": null,
            "grid_template_columns": null,
            "grid_template_rows": null,
            "height": "auto",
            "justify_content": null,
            "justify_items": null,
            "left": null,
            "margin": null,
            "max_height": null,
            "max_width": null,
            "min_height": null,
            "min_width": null,
            "object_fit": null,
            "object_position": null,
            "order": null,
            "overflow": null,
            "overflow_x": null,
            "overflow_y": null,
            "padding": "0.5em",
            "right": null,
            "top": null,
            "visibility": null,
            "width": "auto"
          }
        },
        "6d12690c74e74b12a49776bbcf2a411f": {
          "model_module": "@jupyter-widgets/controls",
          "model_name": "ButtonStyleModel",
          "model_module_version": "1.5.0",
          "state": {
            "_model_module": "@jupyter-widgets/controls",
            "_model_module_version": "1.5.0",
            "_model_name": "ButtonStyleModel",
            "_view_count": null,
            "_view_module": "@jupyter-widgets/base",
            "_view_module_version": "1.2.0",
            "_view_name": "StyleView",
            "button_color": "#ffaaaa",
            "font_weight": ""
          }
        },
        "42d79ebb0d35450d8952ec1ba689a008": {
          "model_module": "@jupyter-widgets/base",
          "model_name": "LayoutModel",
          "model_module_version": "1.2.0",
          "state": {
            "_model_module": "@jupyter-widgets/base",
            "_model_module_version": "1.2.0",
            "_model_name": "LayoutModel",
            "_view_count": null,
            "_view_module": "@jupyter-widgets/base",
            "_view_module_version": "1.2.0",
            "_view_name": "LayoutView",
            "align_content": null,
            "align_items": null,
            "align_self": null,
            "border": null,
            "bottom": null,
            "display": null,
            "flex": null,
            "flex_flow": null,
            "grid_area": null,
            "grid_auto_columns": null,
            "grid_auto_flow": null,
            "grid_auto_rows": null,
            "grid_column": null,
            "grid_gap": null,
            "grid_row": null,
            "grid_template_areas": null,
            "grid_template_columns": null,
            "grid_template_rows": null,
            "height": "auto",
            "justify_content": null,
            "justify_items": null,
            "left": null,
            "margin": null,
            "max_height": null,
            "max_width": null,
            "min_height": null,
            "min_width": null,
            "object_fit": null,
            "object_position": null,
            "order": null,
            "overflow": null,
            "overflow_x": null,
            "overflow_y": null,
            "padding": null,
            "right": null,
            "top": null,
            "visibility": null,
            "width": "auto"
          }
        },
        "44b9b37a93a5438984782187824c00df": {
          "model_module": "@jupyter-widgets/controls",
          "model_name": "DescriptionStyleModel",
          "model_module_version": "1.5.0",
          "state": {
            "_model_module": "@jupyter-widgets/controls",
            "_model_module_version": "1.5.0",
            "_model_name": "DescriptionStyleModel",
            "_view_count": null,
            "_view_module": "@jupyter-widgets/base",
            "_view_module_version": "1.2.0",
            "_view_name": "StyleView",
            "description_width": ""
          }
        },
        "e2920acbda8f4c729bf0ae405971ea00": {
          "model_module": "@jupyter-widgets/base",
          "model_name": "LayoutModel",
          "model_module_version": "1.2.0",
          "state": {
            "_model_module": "@jupyter-widgets/base",
            "_model_module_version": "1.2.0",
            "_model_name": "LayoutModel",
            "_view_count": null,
            "_view_module": "@jupyter-widgets/base",
            "_view_module_version": "1.2.0",
            "_view_name": "LayoutView",
            "align_content": null,
            "align_items": null,
            "align_self": null,
            "border": null,
            "bottom": null,
            "display": null,
            "flex": null,
            "flex_flow": null,
            "grid_area": null,
            "grid_auto_columns": null,
            "grid_auto_flow": null,
            "grid_auto_rows": null,
            "grid_column": null,
            "grid_gap": null,
            "grid_row": null,
            "grid_template_areas": null,
            "grid_template_columns": null,
            "grid_template_rows": null,
            "height": "auto",
            "justify_content": null,
            "justify_items": null,
            "left": null,
            "margin": null,
            "max_height": null,
            "max_width": null,
            "min_height": null,
            "min_width": null,
            "object_fit": null,
            "object_position": null,
            "order": null,
            "overflow": null,
            "overflow_x": null,
            "overflow_y": null,
            "padding": null,
            "right": null,
            "top": null,
            "visibility": null,
            "width": "auto"
          }
        },
        "b3f9b63e7aab491ba86a6b573c3e5a1d": {
          "model_module": "@jupyter-widgets/controls",
          "model_name": "ButtonStyleModel",
          "model_module_version": "1.5.0",
          "state": {
            "_model_module": "@jupyter-widgets/controls",
            "_model_module_version": "1.5.0",
            "_model_name": "ButtonStyleModel",
            "_view_count": null,
            "_view_module": "@jupyter-widgets/base",
            "_view_module_version": "1.2.0",
            "_view_name": "StyleView",
            "button_color": null,
            "font_weight": ""
          }
        }
      }
    }
  },
  "nbformat": 4,
  "nbformat_minor": 0
}