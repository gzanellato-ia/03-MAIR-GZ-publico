{
  "nbformat": 4,
  "nbformat_minor": 0,
  "metadata": {
    "colab": {
      "name": "voraz_gz.ipynb",
      "provenance": [],
      "collapsed_sections": [],
      "authorship_tag": "ABX9TyPYrUa136BfIyESCG66rfkN",
      "include_colab_link": true
    },
    "kernelspec": {
      "name": "python3",
      "display_name": "Python 3"
    }
  },
  "cells": [
    {
      "cell_type": "markdown",
      "metadata": {
        "id": "view-in-github",
        "colab_type": "text"
      },
      "source": [
        "<a href=\"https://colab.research.google.com/github/gzanellato-ia/03-MAIR-GZ-publico/blob/master/voraz_gz.ipynb\" target=\"_parent\"><img src=\"https://colab.research.google.com/assets/colab-badge.svg\" alt=\"Open In Colab\"/></a>"
      ]
    },
    {
      "cell_type": "markdown",
      "metadata": {
        "id": "hLtd36AWHymM",
        "colab_type": "text"
      },
      "source": [
        "# Resolución de algoritmo voraz para el cambio de monedas"
      ]
    },
    {
      "cell_type": "code",
      "metadata": {
        "id": "wbnUIRBaH-3G",
        "colab_type": "code",
        "colab": {
          "base_uri": "https://localhost:8080/",
          "height": 35
        },
        "outputId": "4d0e4235-2ebc-4ac1-8b6b-bc5051751690"
      },
      "source": [
        "def fcion_cambio(cantidad, monedas):\n",
        "\n",
        "  n=len(monedas)\n",
        "  cambio = [0 for j in range(n)]\n",
        "  for i in range(n):\n",
        "    while monedas[i] < cantidad:\n",
        "      cantidad = cantidad - monedas[i]\n",
        "      cambio[i] = cambio[i] + 1\n",
        "  \n",
        "  cambio[i]=cambio[i]+1    # agrego esta linea para que me compute la última moneda de menor valor\n",
        "  return cambio\n",
        "\n",
        "sistema = [500, 250, 100, 50, 25, 5, 1]\n",
        "precio = 1475\n",
        "\n",
        "det_cambio = fcion_cambio(precio, sistema)\n",
        "print('Cantidad de monedas:', det_cambio)"
      ],
      "execution_count": 24,
      "outputs": [
        {
          "output_type": "stream",
          "text": [
            "Cantidad de monedas: [2, 1, 2, 0, 0, 4, 5]\n"
          ],
          "name": "stdout"
        }
      ]
    },
    {
      "cell_type": "markdown",
      "metadata": {
        "id": "nBZ3aoQZU1dr",
        "colab_type": "text"
      },
      "source": [
        "Tener presente que el sistema no siempre devuelve la solución óptima. Por ejemplo, y debido a la voracidad del algoritmo, en el siguiente caso en la primera iteración tomará la moneda de valor 11 lo que lo obligará luego a tomar 4 monedas de valor 1. En total son 5 monedas, cuando la solución óptima es 3 x 5:\n",
        "\n",
        "sistema = [11, 5, 1]"
      ]
    },
    {
      "cell_type": "code",
      "metadata": {
        "id": "jEw-Ad7XJjg-",
        "colab_type": "code",
        "colab": {
          "base_uri": "https://localhost:8080/",
          "height": 35
        },
        "outputId": "225ea2c4-fccd-4bf4-ce35-5726d0d58dd3"
      },
      "source": [
        "sistema = [11, 5, 1]\n",
        "precio = 15\n",
        "\n",
        "det_cambio = fcion_cambio(precio, sistema)\n",
        "print('Cantidad de monedas:', det_cambio)"
      ],
      "execution_count": 25,
      "outputs": [
        {
          "output_type": "stream",
          "text": [
            "Cantidad de monedas: [1, 0, 4]\n"
          ],
          "name": "stdout"
        }
      ]
    },
    {
      "cell_type": "markdown",
      "metadata": {
        "id": "8SQhmbPNXJBN",
        "colab_type": "text"
      },
      "source": [
        "Ref: https://ocw.ehu.eus/pluginfile.php/9410/mod_resource/content/1/03_Algoritmos_Voraces/03_Algoritmos_Voraces.pdf"
      ]
    }
  ]
}